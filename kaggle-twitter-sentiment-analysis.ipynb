{
 "cells": [
  {
   "cell_type": "markdown",
   "id": "d8447df1",
   "metadata": {
    "id": "7tarc3AXUX6N",
    "papermill": {
     "duration": 0.029063,
     "end_time": "2023-06-16T12:35:27.199417",
     "exception": false,
     "start_time": "2023-06-16T12:35:27.170354",
     "status": "completed"
    },
    "tags": []
   },
   "source": [
    "# *Problem Statement:*\n",
    "\n",
    "The objective of this task is to detect hate speech in tweets. For the sake of simplicity, we say a tweet contains hate speech if it has a racist or sexist sentiment associated with it. So, the task is to classify racist or sexist tweets from other tweets. Formally, given a training sample of tweets and labels, where label ‘1’ denotes the tweet is racist/sexist and label ‘0’ denotes the tweet is not racist/sexist, your objective is to predict the labels on the given test dataset."
   ]
  },
  {
   "cell_type": "markdown",
   "id": "e58fb2bc",
   "metadata": {
    "id": "dTVK6PyR-iUp",
    "papermill": {
     "duration": 0.02763,
     "end_time": "2023-06-16T12:35:27.255613",
     "exception": false,
     "start_time": "2023-06-16T12:35:27.227983",
     "status": "completed"
    },
    "tags": []
   },
   "source": [
    "## ***Data Collection***"
   ]
  },
  {
   "cell_type": "code",
   "execution_count": 1,
   "id": "08d6c786",
   "metadata": {
    "execution": {
     "iopub.execute_input": "2023-06-16T12:35:27.313849Z",
     "iopub.status.busy": "2023-06-16T12:35:27.313410Z",
     "iopub.status.idle": "2023-06-16T12:35:27.324884Z",
     "shell.execute_reply": "2023-06-16T12:35:27.324038Z"
    },
    "id": "DQIEf6zgaeqb",
    "papermill": {
     "duration": 0.043533,
     "end_time": "2023-06-16T12:35:27.327132",
     "exception": false,
     "start_time": "2023-06-16T12:35:27.283599",
     "status": "completed"
    },
    "tags": []
   },
   "outputs": [],
   "source": [
    "#Reading files\n",
    "import pandas as pd\n",
    "import warnings\n",
    "\n",
    "warnings.filterwarnings(\"ignore\")"
   ]
  },
  {
   "cell_type": "code",
   "execution_count": 2,
   "id": "a877c4e5",
   "metadata": {
    "execution": {
     "iopub.execute_input": "2023-06-16T12:35:27.387177Z",
     "iopub.status.busy": "2023-06-16T12:35:27.385969Z",
     "iopub.status.idle": "2023-06-16T12:35:27.581478Z",
     "shell.execute_reply": "2023-06-16T12:35:27.580253Z"
    },
    "id": "QWiu2Ko0mwkt",
    "papermill": {
     "duration": 0.228569,
     "end_time": "2023-06-16T12:35:27.584346",
     "exception": false,
     "start_time": "2023-06-16T12:35:27.355777",
     "status": "completed"
    },
    "tags": []
   },
   "outputs": [],
   "source": [
    "train_twt = pd.read_csv(f'/kaggle/input/twitter-sentiment-analysis-hatred-speech/train.csv')\n",
    "test_twt= pd.read_csv(f'/kaggle/input/twitter-sentiment-analysis-hatred-speech/test.csv')"
   ]
  },
  {
   "cell_type": "code",
   "execution_count": 3,
   "id": "554b8f1a",
   "metadata": {
    "execution": {
     "iopub.execute_input": "2023-06-16T12:35:27.642662Z",
     "iopub.status.busy": "2023-06-16T12:35:27.641591Z",
     "iopub.status.idle": "2023-06-16T12:35:27.671136Z",
     "shell.execute_reply": "2023-06-16T12:35:27.670235Z"
    },
    "id": "5h7glu8IbORE",
    "outputId": "050a05f6-1542-4462-a239-00949e1d2a22",
    "papermill": {
     "duration": 0.061081,
     "end_time": "2023-06-16T12:35:27.673395",
     "exception": false,
     "start_time": "2023-06-16T12:35:27.612314",
     "status": "completed"
    },
    "tags": []
   },
   "outputs": [
    {
     "data": {
      "text/html": [
       "<div>\n",
       "<style scoped>\n",
       "    .dataframe tbody tr th:only-of-type {\n",
       "        vertical-align: middle;\n",
       "    }\n",
       "\n",
       "    .dataframe tbody tr th {\n",
       "        vertical-align: top;\n",
       "    }\n",
       "\n",
       "    .dataframe thead th {\n",
       "        text-align: right;\n",
       "    }\n",
       "</style>\n",
       "<table border=\"1\" class=\"dataframe\">\n",
       "  <thead>\n",
       "    <tr style=\"text-align: right;\">\n",
       "      <th></th>\n",
       "      <th>id</th>\n",
       "      <th>tweet</th>\n",
       "    </tr>\n",
       "  </thead>\n",
       "  <tbody>\n",
       "    <tr>\n",
       "      <th>0</th>\n",
       "      <td>31963</td>\n",
       "      <td>#studiolife #aislife #requires #passion #dedic...</td>\n",
       "    </tr>\n",
       "    <tr>\n",
       "      <th>1</th>\n",
       "      <td>31964</td>\n",
       "      <td>@user #white #supremacists want everyone to s...</td>\n",
       "    </tr>\n",
       "    <tr>\n",
       "      <th>2</th>\n",
       "      <td>31965</td>\n",
       "      <td>safe ways to heal your #acne!!    #altwaystohe...</td>\n",
       "    </tr>\n",
       "    <tr>\n",
       "      <th>3</th>\n",
       "      <td>31966</td>\n",
       "      <td>is the hp and the cursed child book up for res...</td>\n",
       "    </tr>\n",
       "    <tr>\n",
       "      <th>4</th>\n",
       "      <td>31967</td>\n",
       "      <td>3rd #bihday to my amazing, hilarious #nephew...</td>\n",
       "    </tr>\n",
       "  </tbody>\n",
       "</table>\n",
       "</div>"
      ],
      "text/plain": [
       "      id                                              tweet\n",
       "0  31963  #studiolife #aislife #requires #passion #dedic...\n",
       "1  31964   @user #white #supremacists want everyone to s...\n",
       "2  31965  safe ways to heal your #acne!!    #altwaystohe...\n",
       "3  31966  is the hp and the cursed child book up for res...\n",
       "4  31967    3rd #bihday to my amazing, hilarious #nephew..."
      ]
     },
     "execution_count": 3,
     "metadata": {},
     "output_type": "execute_result"
    }
   ],
   "source": [
    "test_twt.head() #not to be used in Any Circumstances"
   ]
  },
  {
   "cell_type": "code",
   "execution_count": 4,
   "id": "a14b3600",
   "metadata": {
    "execution": {
     "iopub.execute_input": "2023-06-16T12:35:27.732810Z",
     "iopub.status.busy": "2023-06-16T12:35:27.732053Z",
     "iopub.status.idle": "2023-06-16T12:35:27.742386Z",
     "shell.execute_reply": "2023-06-16T12:35:27.741111Z"
    },
    "id": "zVZ-fUYYbE8s",
    "outputId": "43cc4186-c0cd-438d-9591-28c6dbe12cca",
    "papermill": {
     "duration": 0.042729,
     "end_time": "2023-06-16T12:35:27.744933",
     "exception": false,
     "start_time": "2023-06-16T12:35:27.702204",
     "status": "completed"
    },
    "tags": []
   },
   "outputs": [
    {
     "data": {
      "text/html": [
       "<div>\n",
       "<style scoped>\n",
       "    .dataframe tbody tr th:only-of-type {\n",
       "        vertical-align: middle;\n",
       "    }\n",
       "\n",
       "    .dataframe tbody tr th {\n",
       "        vertical-align: top;\n",
       "    }\n",
       "\n",
       "    .dataframe thead th {\n",
       "        text-align: right;\n",
       "    }\n",
       "</style>\n",
       "<table border=\"1\" class=\"dataframe\">\n",
       "  <thead>\n",
       "    <tr style=\"text-align: right;\">\n",
       "      <th></th>\n",
       "      <th>id</th>\n",
       "      <th>label</th>\n",
       "      <th>tweet</th>\n",
       "    </tr>\n",
       "  </thead>\n",
       "  <tbody>\n",
       "    <tr>\n",
       "      <th>0</th>\n",
       "      <td>1</td>\n",
       "      <td>0</td>\n",
       "      <td>@user when a father is dysfunctional and is s...</td>\n",
       "    </tr>\n",
       "    <tr>\n",
       "      <th>1</th>\n",
       "      <td>2</td>\n",
       "      <td>0</td>\n",
       "      <td>@user @user thanks for #lyft credit i can't us...</td>\n",
       "    </tr>\n",
       "    <tr>\n",
       "      <th>2</th>\n",
       "      <td>3</td>\n",
       "      <td>0</td>\n",
       "      <td>bihday your majesty</td>\n",
       "    </tr>\n",
       "    <tr>\n",
       "      <th>3</th>\n",
       "      <td>4</td>\n",
       "      <td>0</td>\n",
       "      <td>#model   i love u take with u all the time in ...</td>\n",
       "    </tr>\n",
       "    <tr>\n",
       "      <th>4</th>\n",
       "      <td>5</td>\n",
       "      <td>0</td>\n",
       "      <td>factsguide: society now    #motivation</td>\n",
       "    </tr>\n",
       "  </tbody>\n",
       "</table>\n",
       "</div>"
      ],
      "text/plain": [
       "   id  label                                              tweet\n",
       "0   1      0   @user when a father is dysfunctional and is s...\n",
       "1   2      0  @user @user thanks for #lyft credit i can't us...\n",
       "2   3      0                                bihday your majesty\n",
       "3   4      0  #model   i love u take with u all the time in ...\n",
       "4   5      0             factsguide: society now    #motivation"
      ]
     },
     "execution_count": 4,
     "metadata": {},
     "output_type": "execute_result"
    }
   ],
   "source": [
    "train_twt.head()"
   ]
  },
  {
   "cell_type": "code",
   "execution_count": 5,
   "id": "73c04c4c",
   "metadata": {
    "execution": {
     "iopub.execute_input": "2023-06-16T12:35:27.804831Z",
     "iopub.status.busy": "2023-06-16T12:35:27.804138Z",
     "iopub.status.idle": "2023-06-16T12:35:27.809391Z",
     "shell.execute_reply": "2023-06-16T12:35:27.808222Z"
    },
    "id": "aOKnwriJT1rh",
    "papermill": {
     "duration": 0.037438,
     "end_time": "2023-06-16T12:35:27.811791",
     "exception": false,
     "start_time": "2023-06-16T12:35:27.774353",
     "status": "completed"
    },
    "tags": []
   },
   "outputs": [],
   "source": [
    "tweet_df=train_twt.copy()"
   ]
  },
  {
   "cell_type": "code",
   "execution_count": 6,
   "id": "9a1a7185",
   "metadata": {
    "execution": {
     "iopub.execute_input": "2023-06-16T12:35:27.870494Z",
     "iopub.status.busy": "2023-06-16T12:35:27.870073Z",
     "iopub.status.idle": "2023-06-16T12:35:27.877395Z",
     "shell.execute_reply": "2023-06-16T12:35:27.876299Z"
    },
    "id": "l125hHBTbwEU",
    "outputId": "af57a1c9-a4e7-4d77-8ab8-1f1d62771470",
    "papermill": {
     "duration": 0.039668,
     "end_time": "2023-06-16T12:35:27.879853",
     "exception": false,
     "start_time": "2023-06-16T12:35:27.840185",
     "status": "completed"
    },
    "tags": []
   },
   "outputs": [
    {
     "data": {
      "text/plain": [
       "(31962, 3)"
      ]
     },
     "execution_count": 6,
     "metadata": {},
     "output_type": "execute_result"
    }
   ],
   "source": [
    "tweet_df.shape"
   ]
  },
  {
   "cell_type": "code",
   "execution_count": 7,
   "id": "449853f2",
   "metadata": {
    "execution": {
     "iopub.execute_input": "2023-06-16T12:35:27.940723Z",
     "iopub.status.busy": "2023-06-16T12:35:27.940284Z",
     "iopub.status.idle": "2023-06-16T12:35:27.949772Z",
     "shell.execute_reply": "2023-06-16T12:35:27.948540Z"
    },
    "id": "hUmmXtt8GvdN",
    "outputId": "962c484f-2aff-4d7d-d095-4012c779d9fe",
    "papermill": {
     "duration": 0.044095,
     "end_time": "2023-06-16T12:35:27.952474",
     "exception": false,
     "start_time": "2023-06-16T12:35:27.908379",
     "status": "completed"
    },
    "tags": []
   },
   "outputs": [
    {
     "data": {
      "text/plain": [
       "id                                                       1\n",
       "label                                                    0\n",
       "tweet     @user when a father is dysfunctional and is s...\n",
       "Name: 0, dtype: object"
      ]
     },
     "execution_count": 7,
     "metadata": {},
     "output_type": "execute_result"
    }
   ],
   "source": [
    "tweet_df.iloc[0]"
   ]
  },
  {
   "cell_type": "code",
   "execution_count": 8,
   "id": "537159a2",
   "metadata": {
    "execution": {
     "iopub.execute_input": "2023-06-16T12:35:28.013319Z",
     "iopub.status.busy": "2023-06-16T12:35:28.012893Z",
     "iopub.status.idle": "2023-06-16T12:35:28.027372Z",
     "shell.execute_reply": "2023-06-16T12:35:28.026406Z"
    },
    "id": "Q6c06Ofrx6iA",
    "outputId": "de1fadf6-a5c1-424d-93d2-d2ed71318b3a",
    "papermill": {
     "duration": 0.047347,
     "end_time": "2023-06-16T12:35:28.029604",
     "exception": false,
     "start_time": "2023-06-16T12:35:27.982257",
     "status": "completed"
    },
    "tags": []
   },
   "outputs": [
    {
     "data": {
      "text/plain": [
       "0    29720\n",
       "1     2242\n",
       "Name: label, dtype: int64"
      ]
     },
     "execution_count": 8,
     "metadata": {},
     "output_type": "execute_result"
    }
   ],
   "source": [
    "tweet_df.label.value_counts()"
   ]
  },
  {
   "cell_type": "code",
   "execution_count": 9,
   "id": "93a2d294",
   "metadata": {
    "execution": {
     "iopub.execute_input": "2023-06-16T12:35:28.089244Z",
     "iopub.status.busy": "2023-06-16T12:35:28.088546Z",
     "iopub.status.idle": "2023-06-16T12:35:28.374759Z",
     "shell.execute_reply": "2023-06-16T12:35:28.373577Z"
    },
    "id": "FydaDrjBnZr4",
    "outputId": "ec111843-087d-40b9-bf7e-e2bfa80b7a98",
    "papermill": {
     "duration": 0.318506,
     "end_time": "2023-06-16T12:35:28.377050",
     "exception": false,
     "start_time": "2023-06-16T12:35:28.058544",
     "status": "completed"
    },
    "tags": []
   },
   "outputs": [
    {
     "data": {
      "image/png": "[encoded data removed]",
      "text/plain": [
       "<Figure size 640x480 with 1 Axes>"
      ]
     },
     "metadata": {},
     "output_type": "display_data"
    }
   ],
   "source": [
    "import matplotlib.pyplot as plt\n",
    "\n",
    "plt.hist(tweet_df.label)\n",
    "plt.show()"
   ]
  },
  {
   "cell_type": "code",
   "execution_count": 10,
   "id": "a5da571a",
   "metadata": {
    "execution": {
     "iopub.execute_input": "2023-06-16T12:35:28.437323Z",
     "iopub.status.busy": "2023-06-16T12:35:28.436951Z",
     "iopub.status.idle": "2023-06-16T12:35:28.441240Z",
     "shell.execute_reply": "2023-06-16T12:35:28.440139Z"
    },
    "papermill": {
     "duration": 0.037228,
     "end_time": "2023-06-16T12:35:28.443557",
     "exception": false,
     "start_time": "2023-06-16T12:35:28.406329",
     "status": "completed"
    },
    "tags": []
   },
   "outputs": [],
   "source": [
    "#!pip uninstall jax jaxlib\n",
    "#!pip install --upgrade jax jaxlib"
   ]
  },
  {
   "cell_type": "markdown",
   "id": "28fa82ae",
   "metadata": {
    "id": "UO1mrqrBPS9j",
    "papermill": {
     "duration": 0.02906,
     "end_time": "2023-06-16T12:35:28.501705",
     "exception": false,
     "start_time": "2023-06-16T12:35:28.472645",
     "status": "completed"
    },
    "tags": []
   },
   "source": [
    "## ***Text Processing and Data Cleaning***"
   ]
  },
  {
   "cell_type": "code",
   "execution_count": 11,
   "id": "a67f7255",
   "metadata": {
    "execution": {
     "iopub.execute_input": "2023-06-16T12:35:28.561968Z",
     "iopub.status.busy": "2023-06-16T12:35:28.561546Z",
     "iopub.status.idle": "2023-06-16T12:35:47.660025Z",
     "shell.execute_reply": "2023-06-16T12:35:47.658517Z"
    },
    "id": "yh9Y51Sjb9UG",
    "outputId": "e348e368-f5a3-410f-b019-26885208d2b4",
    "papermill": {
     "duration": 19.131974,
     "end_time": "2023-06-16T12:35:47.662855",
     "exception": false,
     "start_time": "2023-06-16T12:35:28.530881",
     "status": "completed"
    },
    "tags": []
   },
   "outputs": [
    {
     "name": "stdout",
     "output_type": "stream",
     "text": [
      "[nltk_data] Downloading package stopwords to /usr/share/nltk_data...\n",
      "[nltk_data]   Package stopwords is already up-to-date!\n"
     ]
    },
    {
     "data": {
      "text/plain": [
       "True"
      ]
     },
     "execution_count": 11,
     "metadata": {},
     "output_type": "execute_result"
    }
   ],
   "source": [
    "#NLP Initialize\n",
    "import spacy\n",
    "import nltk\n",
    "\n",
    "nlp = spacy.load(name='en_core_web_sm')\n",
    "nltk.download('stopwords')"
   ]
  },
  {
   "cell_type": "code",
   "execution_count": 12,
   "id": "b89cd423",
   "metadata": {
    "execution": {
     "iopub.execute_input": "2023-06-16T12:35:47.726907Z",
     "iopub.status.busy": "2023-06-16T12:35:47.725203Z",
     "iopub.status.idle": "2023-06-16T12:35:47.731936Z",
     "shell.execute_reply": "2023-06-16T12:35:47.730711Z"
    },
    "id": "AFhtxl_XEju_",
    "papermill": {
     "duration": 0.041564,
     "end_time": "2023-06-16T12:35:47.734514",
     "exception": false,
     "start_time": "2023-06-16T12:35:47.692950",
     "status": "completed"
    },
    "tags": []
   },
   "outputs": [],
   "source": [
    "from nltk.corpus import stopwords\n",
    "#from nltk.tokenize import  WordPunctTokenizer\\\n",
    "from string import punctuation"
   ]
  },
  {
   "cell_type": "code",
   "execution_count": 13,
   "id": "e2bdd7ad",
   "metadata": {
    "execution": {
     "iopub.execute_input": "2023-06-16T12:35:47.797230Z",
     "iopub.status.busy": "2023-06-16T12:35:47.796843Z",
     "iopub.status.idle": "2023-06-16T12:35:47.803820Z",
     "shell.execute_reply": "2023-06-16T12:35:47.802710Z"
    },
    "id": "jYsKZY6eH_ah",
    "outputId": "f2e7a37e-6ee2-4e9c-84ad-54bfa9863007",
    "papermill": {
     "duration": 0.040898,
     "end_time": "2023-06-16T12:35:47.806466",
     "exception": false,
     "start_time": "2023-06-16T12:35:47.765568",
     "status": "completed"
    },
    "tags": []
   },
   "outputs": [
    {
     "data": {
      "text/plain": [
       "32"
      ]
     },
     "execution_count": 13,
     "metadata": {},
     "output_type": "execute_result"
    }
   ],
   "source": [
    "punctuations = list(set(punctuation))\n",
    "len(punctuations)"
   ]
  },
  {
   "cell_type": "code",
   "execution_count": 14,
   "id": "379cdbf6",
   "metadata": {
    "execution": {
     "iopub.execute_input": "2023-06-16T12:35:47.868228Z",
     "iopub.status.busy": "2023-06-16T12:35:47.867567Z",
     "iopub.status.idle": "2023-06-16T12:35:47.878989Z",
     "shell.execute_reply": "2023-06-16T12:35:47.877339Z"
    },
    "id": "Mj6C17PQJO3M",
    "outputId": "03cb032c-fd33-4199-da64-4839aff3d0e2",
    "papermill": {
     "duration": 0.045635,
     "end_time": "2023-06-16T12:35:47.881910",
     "exception": false,
     "start_time": "2023-06-16T12:35:47.836275",
     "status": "completed"
    },
    "tags": []
   },
   "outputs": [
    {
     "data": {
      "text/plain": [
       "382"
      ]
     },
     "execution_count": 14,
     "metadata": {},
     "output_type": "execute_result"
    }
   ],
   "source": [
    "stop_wrds= list(nlp.Defaults.stop_words) + list(stopwords.words('english'))\n",
    "len(list(set(stop_wrds)))"
   ]
  },
  {
   "cell_type": "code",
   "execution_count": 15,
   "id": "9afdf340",
   "metadata": {
    "execution": {
     "iopub.execute_input": "2023-06-16T12:35:47.946078Z",
     "iopub.status.busy": "2023-06-16T12:35:47.945709Z",
     "iopub.status.idle": "2023-06-16T12:35:47.952038Z",
     "shell.execute_reply": "2023-06-16T12:35:47.951172Z"
    },
    "id": "IK0H3AhpK8Qo",
    "outputId": "b0be9d10-31f8-4959-9f3b-1635273d215d",
    "papermill": {
     "duration": 0.041951,
     "end_time": "2023-06-16T12:35:47.954419",
     "exception": false,
     "start_time": "2023-06-16T12:35:47.912468",
     "status": "completed"
    },
    "tags": []
   },
   "outputs": [
    {
     "data": {
      "text/plain": [
       "414"
      ]
     },
     "execution_count": 15,
     "metadata": {},
     "output_type": "execute_result"
    }
   ],
   "source": [
    "len(list(set(stop_wrds))+list(set(punctuation)))"
   ]
  },
  {
   "cell_type": "code",
   "execution_count": 16,
   "id": "1266340b",
   "metadata": {
    "execution": {
     "iopub.execute_input": "2023-06-16T12:35:48.017756Z",
     "iopub.status.busy": "2023-06-16T12:35:48.017349Z",
     "iopub.status.idle": "2023-06-16T12:35:48.023810Z",
     "shell.execute_reply": "2023-06-16T12:35:48.022866Z"
    },
    "id": "78XKXJSs10Cc",
    "outputId": "15a6bbae-6410-49ea-8686-fa73546bc3aa",
    "papermill": {
     "duration": 0.041565,
     "end_time": "2023-06-16T12:35:48.026082",
     "exception": false,
     "start_time": "2023-06-16T12:35:47.984517",
     "status": "completed"
    },
    "tags": []
   },
   "outputs": [
    {
     "data": {
      "text/plain": [
       "31962"
      ]
     },
     "execution_count": 16,
     "metadata": {},
     "output_type": "execute_result"
    }
   ],
   "source": [
    "len(tweet_df)"
   ]
  },
  {
   "cell_type": "code",
   "execution_count": 17,
   "id": "e99455d2",
   "metadata": {
    "execution": {
     "iopub.execute_input": "2023-06-16T12:35:48.088546Z",
     "iopub.status.busy": "2023-06-16T12:35:48.088118Z",
     "iopub.status.idle": "2023-06-16T12:35:48.094314Z",
     "shell.execute_reply": "2023-06-16T12:35:48.093188Z"
    },
    "id": "9R7RC9wOtFag",
    "papermill": {
     "duration": 0.040846,
     "end_time": "2023-06-16T12:35:48.097179",
     "exception": false,
     "start_time": "2023-06-16T12:35:48.056333",
     "status": "completed"
    },
    "tags": []
   },
   "outputs": [],
   "source": [
    "stp_wrds = list(set(list(nlp.Defaults.stop_words) + list(stopwords.words('english')))) +list(set(punctuation))"
   ]
  },
  {
   "cell_type": "code",
   "execution_count": 18,
   "id": "03bf2036",
   "metadata": {
    "execution": {
     "iopub.execute_input": "2023-06-16T12:35:48.159349Z",
     "iopub.status.busy": "2023-06-16T12:35:48.158967Z",
     "iopub.status.idle": "2023-06-16T12:35:48.201956Z",
     "shell.execute_reply": "2023-06-16T12:35:48.200700Z"
    },
    "id": "0gJnXxL7suBw",
    "outputId": "e56006a1-5fa9-4efd-bb50-3ea416f4c702",
    "papermill": {
     "duration": 0.077145,
     "end_time": "2023-06-16T12:35:48.204502",
     "exception": false,
     "start_time": "2023-06-16T12:35:48.127357",
     "status": "completed"
    },
    "tags": []
   },
   "outputs": [
    {
     "data": {
      "text/plain": [
       "['#', 'model', 'love', 'u', 'u', 'time']"
      ]
     },
     "execution_count": 18,
     "metadata": {},
     "output_type": "execute_result"
    }
   ],
   "source": [
    "tokens = [token.lemma_.lower() for token in nlp(tweet_df.iloc[3]['tweet']) if token.text =='#' or (token.text not in stop_wrds and token.is_alpha)]\n",
    "tokens"
   ]
  },
  {
   "cell_type": "code",
   "execution_count": 19,
   "id": "373c5335",
   "metadata": {
    "execution": {
     "iopub.execute_input": "2023-06-16T12:35:48.268456Z",
     "iopub.status.busy": "2023-06-16T12:35:48.268069Z",
     "iopub.status.idle": "2023-06-16T12:35:48.304841Z",
     "shell.execute_reply": "2023-06-16T12:35:48.303210Z"
    },
    "id": "xKy7sHXpbp5p",
    "outputId": "71ed5d27-0336-48f3-bb7a-9bbe9e7d8242",
    "papermill": {
     "duration": 0.071394,
     "end_time": "2023-06-16T12:35:48.307429",
     "exception": false,
     "start_time": "2023-06-16T12:35:48.236035",
     "status": "completed"
    },
    "tags": []
   },
   "outputs": [
    {
     "name": "stdout",
     "output_type": "stream",
     "text": [
      "<class 'pandas.core.frame.DataFrame'>\n",
      "RangeIndex: 31962 entries, 0 to 31961\n",
      "Data columns (total 3 columns):\n",
      " #   Column  Non-Null Count  Dtype \n",
      "---  ------  --------------  ----- \n",
      " 0   id      31962 non-null  int64 \n",
      " 1   label   31962 non-null  int64 \n",
      " 2   tweet   31962 non-null  object\n",
      "dtypes: int64(2), object(1)\n",
      "memory usage: 749.2+ KB\n"
     ]
    }
   ],
   "source": [
    "tweet_df.info()"
   ]
  },
  {
   "cell_type": "markdown",
   "id": "8b96167d",
   "metadata": {
    "id": "Ht8ZLF7oPlSd",
    "papermill": {
     "duration": 0.03,
     "end_time": "2023-06-16T12:35:48.368340",
     "exception": false,
     "start_time": "2023-06-16T12:35:48.338340",
     "status": "completed"
    },
    "tags": []
   },
   "source": [
    "## ***NLP Pre-Processing***"
   ]
  },
  {
   "cell_type": "code",
   "execution_count": 20,
   "id": "39c0bdf1",
   "metadata": {
    "execution": {
     "iopub.execute_input": "2023-06-16T12:35:48.430291Z",
     "iopub.status.busy": "2023-06-16T12:35:48.429884Z",
     "iopub.status.idle": "2023-06-16T12:35:48.469959Z",
     "shell.execute_reply": "2023-06-16T12:35:48.469007Z"
    },
    "id": "0IJ1W6vYDMWl",
    "outputId": "c0d2089f-ee2d-49fa-fae4-ee9548005cfd",
    "papermill": {
     "duration": 0.07407,
     "end_time": "2023-06-16T12:35:48.472435",
     "exception": false,
     "start_time": "2023-06-16T12:35:48.398365",
     "status": "completed"
    },
    "tags": []
   },
   "outputs": [
    {
     "name": "stdout",
     "output_type": "stream",
     "text": [
      "#model   i love u take with u all the time in urð±!!! ðððð",
      "ð¦ð¦ð¦  \n",
      "['model', 'love', 'time']\n",
      "@user @user thanks for #lyft credit i can't use cause they don't offer wheelchair vans in pdx.    #disapointed #getthanked\n",
      "['thank', 'lyft', 'credit', 'use', 'cause', 'offer', 'wheelchair', 'van', 'pdx', 'disapointe', 'getthanked']\n"
     ]
    }
   ],
   "source": [
    "#NLP Pre-Processing\n",
    "#from IPython.display import display, clear_output #to update iteration display         #######commenting this func. to make program faster\n",
    "\n",
    "##def pre_processor(data, total,iter=0): #######commenting this func. to make program faster\n",
    "def pre_processor(data):\n",
    "  doc=nlp(data)#WordPunctTokenizer().tokenize(data)\n",
    "\n",
    "  #stopwords\n",
    "  stp_wrds = list(set(list(nlp.Defaults.stop_words) + list(stopwords.words('english')))) +list(set(punctuation))\n",
    "\n",
    "  #removing stopwords\n",
    "  #keeping only alphabetical words\n",
    "  #removing all words with less than 1 char, e.g., i, u etc.\n",
    "  #converting all to lower case root words\n",
    "  tokens = [token.lemma_.lower() for token in doc if  token.text not in stop_wrds and token.is_alpha and len(token.text)>2]\n",
    "\n",
    "  #clear_output()                                #######commenting this func. to make program faster\n",
    "  #display(f'Iteration {iter}/{total}') #######commenting this func. to make program faster\n",
    "\n",
    "  return tokens #,' '.join(tokens)\n",
    "\n",
    "print(tweet_df.iloc[3]['tweet'])\n",
    "##print(pre_processor(tweet_df.iloc[3]['tweet'],2,tweet_df.iloc[3]['id'])) #######commenting this func. to make program faster\n",
    "print(pre_processor(tweet_df.iloc[3]['tweet']))\n",
    "\n",
    "print(tweet_df.iloc[1]['tweet'])\n",
    "##a = pre_processor(tweet_df.iloc[1]['tweet'],2,tweet_df.iloc[1]['id']) #######commenting this func. to make program faster\n",
    "##print(a)\n",
    "\n",
    "print(pre_processor(tweet_df.iloc[1]['tweet']))\n"
   ]
  },
  {
   "cell_type": "markdown",
   "id": "4dd2fe14",
   "metadata": {
    "id": "MgtW7zIM1KFR",
    "papermill": {
     "duration": 0.030465,
     "end_time": "2023-06-16T12:35:48.533493",
     "exception": false,
     "start_time": "2023-06-16T12:35:48.503028",
     "status": "completed"
    },
    "tags": []
   },
   "source": [
    "### ***BAG OF WORDS***"
   ]
  },
  {
   "cell_type": "code",
   "execution_count": 21,
   "id": "722ae29f",
   "metadata": {
    "execution": {
     "iopub.execute_input": "2023-06-16T12:35:48.596723Z",
     "iopub.status.busy": "2023-06-16T12:35:48.596081Z",
     "iopub.status.idle": "2023-06-16T12:41:28.007364Z",
     "shell.execute_reply": "2023-06-16T12:41:28.006237Z"
    },
    "id": "-aazi4vUOXrl",
    "papermill": {
     "duration": 339.446389,
     "end_time": "2023-06-16T12:41:28.010451",
     "exception": false,
     "start_time": "2023-06-16T12:35:48.564062",
     "status": "completed"
    },
    "tags": []
   },
   "outputs": [],
   "source": [
    "#Applying to data\n",
    "## Creatting a BAG OF WORDS for each tweets\n",
    "\n",
    "tweet_df['tweet_bag']= tweet_df['tweet'].apply(pre_processor)\n",
    "\n",
    "##df_length=len(tweet_df)    #######commenting this func. to make program faster\n",
    "##tweet_df['tweet_bag']= tweet_df['id'].apply(lambda id: pre_processor(data=tweet_df.iloc[id-1]['tweet'], total=df_length, iter=id))   #######commenting this func. to make program faster"
   ]
  },
  {
   "cell_type": "code",
   "execution_count": 22,
   "id": "aa39b1c9",
   "metadata": {
    "execution": {
     "iopub.execute_input": "2023-06-16T12:41:28.073738Z",
     "iopub.status.busy": "2023-06-16T12:41:28.073300Z",
     "iopub.status.idle": "2023-06-16T12:41:28.106914Z",
     "shell.execute_reply": "2023-06-16T12:41:28.105695Z"
    },
    "id": "WyYJmrxdWsFy",
    "papermill": {
     "duration": 0.068416,
     "end_time": "2023-06-16T12:41:28.109865",
     "exception": false,
     "start_time": "2023-06-16T12:41:28.041449",
     "status": "completed"
    },
    "tags": []
   },
   "outputs": [],
   "source": [
    "tweet_df['tweet'] = tweet_df['tweet_bag'].apply(lambda twt: ' '.join(twt))"
   ]
  },
  {
   "cell_type": "code",
   "execution_count": 23,
   "id": "e688336b",
   "metadata": {
    "execution": {
     "iopub.execute_input": "2023-06-16T12:41:28.173782Z",
     "iopub.status.busy": "2023-06-16T12:41:28.173363Z",
     "iopub.status.idle": "2023-06-16T12:41:28.189664Z",
     "shell.execute_reply": "2023-06-16T12:41:28.188387Z"
    },
    "id": "ZUQy9FXkIjXy",
    "outputId": "9f929ebf-5c12-4189-bd5f-38d5afdde73e",
    "papermill": {
     "duration": 0.051234,
     "end_time": "2023-06-16T12:41:28.191991",
     "exception": false,
     "start_time": "2023-06-16T12:41:28.140757",
     "status": "completed"
    },
    "tags": []
   },
   "outputs": [
    {
     "data": {
      "text/html": [
       "<div>\n",
       "<style scoped>\n",
       "    .dataframe tbody tr th:only-of-type {\n",
       "        vertical-align: middle;\n",
       "    }\n",
       "\n",
       "    .dataframe tbody tr th {\n",
       "        vertical-align: top;\n",
       "    }\n",
       "\n",
       "    .dataframe thead th {\n",
       "        text-align: right;\n",
       "    }\n",
       "</style>\n",
       "<table border=\"1\" class=\"dataframe\">\n",
       "  <thead>\n",
       "    <tr style=\"text-align: right;\">\n",
       "      <th></th>\n",
       "      <th>id</th>\n",
       "      <th>label</th>\n",
       "      <th>tweet</th>\n",
       "      <th>tweet_bag</th>\n",
       "    </tr>\n",
       "  </thead>\n",
       "  <tbody>\n",
       "    <tr>\n",
       "      <th>0</th>\n",
       "      <td>1</td>\n",
       "      <td>0</td>\n",
       "      <td>father dysfunctional selfish drag kid dysfunct...</td>\n",
       "      <td>[father, dysfunctional, selfish, drag, kid, dy...</td>\n",
       "    </tr>\n",
       "    <tr>\n",
       "      <th>1</th>\n",
       "      <td>2</td>\n",
       "      <td>0</td>\n",
       "      <td>thank lyft credit use cause offer wheelchair v...</td>\n",
       "      <td>[thank, lyft, credit, use, cause, offer, wheel...</td>\n",
       "    </tr>\n",
       "    <tr>\n",
       "      <th>2</th>\n",
       "      <td>3</td>\n",
       "      <td>0</td>\n",
       "      <td>bihday majesty</td>\n",
       "      <td>[bihday, majesty]</td>\n",
       "    </tr>\n",
       "    <tr>\n",
       "      <th>3</th>\n",
       "      <td>4</td>\n",
       "      <td>0</td>\n",
       "      <td>model love time</td>\n",
       "      <td>[model, love, time]</td>\n",
       "    </tr>\n",
       "    <tr>\n",
       "      <th>4</th>\n",
       "      <td>5</td>\n",
       "      <td>0</td>\n",
       "      <td>factsguide society motivation</td>\n",
       "      <td>[factsguide, society, motivation]</td>\n",
       "    </tr>\n",
       "  </tbody>\n",
       "</table>\n",
       "</div>"
      ],
      "text/plain": [
       "   id  label                                              tweet  \\\n",
       "0   1      0  father dysfunctional selfish drag kid dysfunct...   \n",
       "1   2      0  thank lyft credit use cause offer wheelchair v...   \n",
       "2   3      0                                     bihday majesty   \n",
       "3   4      0                                    model love time   \n",
       "4   5      0                      factsguide society motivation   \n",
       "\n",
       "                                           tweet_bag  \n",
       "0  [father, dysfunctional, selfish, drag, kid, dy...  \n",
       "1  [thank, lyft, credit, use, cause, offer, wheel...  \n",
       "2                                  [bihday, majesty]  \n",
       "3                                [model, love, time]  \n",
       "4                  [factsguide, society, motivation]  "
      ]
     },
     "execution_count": 23,
     "metadata": {},
     "output_type": "execute_result"
    }
   ],
   "source": [
    "tweet_df.head()"
   ]
  },
  {
   "cell_type": "markdown",
   "id": "51e25011",
   "metadata": {
    "id": "3li_6EMBWF15",
    "papermill": {
     "duration": 0.031119,
     "end_time": "2023-06-16T12:41:28.253681",
     "exception": false,
     "start_time": "2023-06-16T12:41:28.222562",
     "status": "completed"
    },
    "tags": []
   },
   "source": [
    "## ***Predictive Analytics by ML models (without ANN)***\n",
    "\n",
    "Execution steps for less RAM consumption:\n",
    "\n",
    "    1. Data Collection\n",
    "    2. NLP Initialize\n",
    "    3. NLP Pre-Processing\n"
   ]
  },
  {
   "cell_type": "markdown",
   "id": "0075849e",
   "metadata": {
    "id": "XML7W6C2Rv1i",
    "papermill": {
     "duration": 0.030228,
     "end_time": "2023-06-16T12:41:28.314676",
     "exception": false,
     "start_time": "2023-06-16T12:41:28.284448",
     "status": "completed"
    },
    "tags": []
   },
   "source": [
    "###***Train & Test Split***"
   ]
  },
  {
   "cell_type": "code",
   "execution_count": 24,
   "id": "0bdd57f3",
   "metadata": {
    "execution": {
     "iopub.execute_input": "2023-06-16T12:41:28.377511Z",
     "iopub.status.busy": "2023-06-16T12:41:28.377083Z",
     "iopub.status.idle": "2023-06-16T12:41:28.389502Z",
     "shell.execute_reply": "2023-06-16T12:41:28.388702Z"
    },
    "id": "RpZGu-uCRvKO",
    "papermill": {
     "duration": 0.046769,
     "end_time": "2023-06-16T12:41:28.391922",
     "exception": false,
     "start_time": "2023-06-16T12:41:28.345153",
     "status": "completed"
    },
    "tags": []
   },
   "outputs": [],
   "source": [
    "from sklearn.model_selection import train_test_split\n",
    "\n",
    "x= tweet_df.tweet\n",
    "y= tweet_df.label\n",
    "x_train, x_test, y_train, y_test = train_test_split(x, y , test_size=.20, shuffle=True, random_state=41)"
   ]
  },
  {
   "cell_type": "code",
   "execution_count": 25,
   "id": "39312044",
   "metadata": {
    "execution": {
     "iopub.execute_input": "2023-06-16T12:41:28.455205Z",
     "iopub.status.busy": "2023-06-16T12:41:28.454562Z",
     "iopub.status.idle": "2023-06-16T12:41:28.461193Z",
     "shell.execute_reply": "2023-06-16T12:41:28.460205Z"
    },
    "id": "8n9bsSloUJRK",
    "outputId": "2b7aa2e4-ecb8-4add-8301-01c28efda578",
    "papermill": {
     "duration": 0.041017,
     "end_time": "2023-06-16T12:41:28.463400",
     "exception": false,
     "start_time": "2023-06-16T12:41:28.422383",
     "status": "completed"
    },
    "tags": []
   },
   "outputs": [
    {
     "data": {
      "text/plain": [
       "((31962,), (31962,))"
      ]
     },
     "execution_count": 25,
     "metadata": {},
     "output_type": "execute_result"
    }
   ],
   "source": [
    "x.shape, y.shape"
   ]
  },
  {
   "cell_type": "code",
   "execution_count": 26,
   "id": "fbd2ca94",
   "metadata": {
    "execution": {
     "iopub.execute_input": "2023-06-16T12:41:28.526319Z",
     "iopub.status.busy": "2023-06-16T12:41:28.525708Z",
     "iopub.status.idle": "2023-06-16T12:41:28.777444Z",
     "shell.execute_reply": "2023-06-16T12:41:28.776328Z"
    },
    "id": "TwLf9ZGhtQeD",
    "outputId": "a00bc461-b8d6-4453-e0c0-21b2dd0cfa82",
    "papermill": {
     "duration": 0.286095,
     "end_time": "2023-06-16T12:41:28.779888",
     "exception": false,
     "start_time": "2023-06-16T12:41:28.493793",
     "status": "completed"
    },
    "tags": []
   },
   "outputs": [
    {
     "data": {
      "image/png": "[encoded data removed]",
      "text/plain": [
       "<Figure size 640x480 with 1 Axes>"
      ]
     },
     "metadata": {},
     "output_type": "display_data"
    }
   ],
   "source": [
    "plt.hist(y_train)\n",
    "plt.show()"
   ]
  },
  {
   "cell_type": "markdown",
   "id": "e60f1f42",
   "metadata": {
    "id": "5O2B46ILt0so",
    "papermill": {
     "duration": 0.030547,
     "end_time": "2023-06-16T12:41:28.841289",
     "exception": false,
     "start_time": "2023-06-16T12:41:28.810742",
     "status": "completed"
    },
    "tags": []
   },
   "source": [
    "*Since, we have **Imbalance dataset**. Our models will face issue while preicting label 1.*\n",
    "\n",
    "*Therefore, we do **random sampling**.*"
   ]
  },
  {
   "cell_type": "markdown",
   "id": "974a6363",
   "metadata": {
    "id": "rYW_HSuVt28p",
    "papermill": {
     "duration": 0.031113,
     "end_time": "2023-06-16T12:41:28.903353",
     "exception": false,
     "start_time": "2023-06-16T12:41:28.872240",
     "status": "completed"
    },
    "tags": []
   },
   "source": [
    "#### ***SMOTE***\n",
    "\n",
    "**Synthetic Minority Oversampling Technique** is an oversampling technique but SMOTE works differently than your typical oversampling.\n",
    "\n",
    "SMOTE works by utilizing a k-nearest neighbour algorithm to create synthetic data. SMOTE first starts by choosing random data from the minority class, then k-nearest neighbors from the data are set. Synthetic data would then be made between the random data and the randomly selected k-nearest neighbor."
   ]
  },
  {
   "cell_type": "code",
   "execution_count": 27,
   "id": "c3ea57eb",
   "metadata": {
    "execution": {
     "iopub.execute_input": "2023-06-16T12:41:28.967505Z",
     "iopub.status.busy": "2023-06-16T12:41:28.966898Z",
     "iopub.status.idle": "2023-06-16T12:41:56.697089Z",
     "shell.execute_reply": "2023-06-16T12:41:56.695545Z"
    },
    "id": "_73dLsW5uDgB",
    "outputId": "febbeecc-ddeb-47c8-c164-dff40b65002c",
    "papermill": {
     "duration": 27.766126,
     "end_time": "2023-06-16T12:41:56.700455",
     "exception": false,
     "start_time": "2023-06-16T12:41:28.934329",
     "status": "completed"
    },
    "tags": []
   },
   "outputs": [
    {
     "name": "stdout",
     "output_type": "stream",
     "text": [
      "Requirement already satisfied: imbalanced-learn in /opt/conda/lib/python3.10/site-packages (0.10.1)\r\n",
      "Requirement already satisfied: numpy>=1.17.3 in /opt/conda/lib/python3.10/site-packages (from imbalanced-learn) (1.23.5)\r\n",
      "Requirement already satisfied: scipy>=1.3.2 in /opt/conda/lib/python3.10/site-packages (from imbalanced-learn) (1.10.1)\r\n",
      "Requirement already satisfied: scikit-learn>=1.0.2 in /opt/conda/lib/python3.10/site-packages (from imbalanced-learn) (1.2.2)\r\n",
      "Requirement already satisfied: joblib>=1.1.1 in /opt/conda/lib/python3.10/site-packages (from imbalanced-learn) (1.2.0)\r\n",
      "Requirement already satisfied: threadpoolctl>=2.0.0 in /opt/conda/lib/python3.10/site-packages (from imbalanced-learn) (3.1.0)\r\n",
      "\u001b[33mWARNING: Running pip as the 'root' user can result in broken permissions and conflicting behaviour with the system package manager. It is recommended to use a virtual environment instead: https://pip.pypa.io/warnings/venv\u001b[0m\u001b[33m\r\n",
      "\u001b[0mRequirement already satisfied: imbalanced-learn in /opt/conda/lib/python3.10/site-packages (0.10.1)\r\n",
      "Requirement already satisfied: numpy>=1.17.3 in /opt/conda/lib/python3.10/site-packages (from imbalanced-learn) (1.23.5)\r\n",
      "Requirement already satisfied: scipy>=1.3.2 in /opt/conda/lib/python3.10/site-packages (from imbalanced-learn) (1.10.1)\r\n",
      "Requirement already satisfied: scikit-learn>=1.0.2 in /opt/conda/lib/python3.10/site-packages (from imbalanced-learn) (1.2.2)\r\n",
      "Requirement already satisfied: joblib>=1.1.1 in /opt/conda/lib/python3.10/site-packages (from imbalanced-learn) (1.2.0)\r\n",
      "Requirement already satisfied: threadpoolctl>=2.0.0 in /opt/conda/lib/python3.10/site-packages (from imbalanced-learn) (3.1.0)\r\n",
      "\u001b[33mWARNING: Running pip as the 'root' user can result in broken permissions and conflicting behaviour with the system package manager. It is recommended to use a virtual environment instead: https://pip.pypa.io/warnings/venv\u001b[0m\u001b[33m\r\n",
      "\u001b[0m"
     ]
    }
   ],
   "source": [
    "#Installing imblearn\n",
    "!pip install -U imbalanced-learn\n",
    "!pip install --upgrade imbalanced-learn"
   ]
  },
  {
   "cell_type": "code",
   "execution_count": 28,
   "id": "85186eaf",
   "metadata": {
    "execution": {
     "iopub.execute_input": "2023-06-16T12:41:56.768441Z",
     "iopub.status.busy": "2023-06-16T12:41:56.768022Z",
     "iopub.status.idle": "2023-06-16T12:41:57.324716Z",
     "shell.execute_reply": "2023-06-16T12:41:57.323484Z"
    },
    "id": "k5v6w1e5Wz0Y",
    "papermill": {
     "duration": 0.59413,
     "end_time": "2023-06-16T12:41:57.327534",
     "exception": false,
     "start_time": "2023-06-16T12:41:56.733404",
     "status": "completed"
    },
    "tags": []
   },
   "outputs": [],
   "source": [
    "#setting-up pipeline for the ML models\n",
    "#from sklearn.pipeline import Pipeline ### not working with oversampling method\n",
    "from imblearn.pipeline import Pipeline\n",
    "from sklearn.feature_extraction.text import TfidfVectorizer\n",
    "from sklearn.metrics import accuracy_score, confusion_matrix, f1_score, classification_report,mean_squared_error, recall_score,precision_score\n",
    "\n"
   ]
  },
  {
   "cell_type": "code",
   "execution_count": 29,
   "id": "246d293d",
   "metadata": {
    "execution": {
     "iopub.execute_input": "2023-06-16T12:41:57.393164Z",
     "iopub.status.busy": "2023-06-16T12:41:57.392787Z",
     "iopub.status.idle": "2023-06-16T12:41:58.931903Z",
     "shell.execute_reply": "2023-06-16T12:41:58.930814Z"
    },
    "id": "Ej2hWJ3LuEh8",
    "outputId": "dfd92594-88ef-487e-de3d-a664333d584f",
    "papermill": {
     "duration": 1.575035,
     "end_time": "2023-06-16T12:41:58.934818",
     "exception": false,
     "start_time": "2023-06-16T12:41:57.359783",
     "status": "completed"
    },
    "tags": []
   },
   "outputs": [
    {
     "data": {
      "image/png": "[encoded data removed]",
      "text/plain": [
       "<Figure size 640x480 with 1 Axes>"
      ]
     },
     "metadata": {},
     "output_type": "display_data"
    }
   ],
   "source": [
    "#Importing SMOTE\n",
    "from imblearn.over_sampling import SMOTE\n",
    "\n",
    "#Oversampling the data\n",
    "pipe = Pipeline([('vector',TfidfVectorizer()),('smote',SMOTE(random_state = 101))])\n",
    "\n",
    "ovr_sampler= pipe.fit(x_train,y_train)\n",
    "\n",
    "x_ovr,y_ovr=ovr_sampler.fit_resample(x_train,y_train)\n",
    "plt.hist(y_ovr)\n",
    "plt.show()"
   ]
  },
  {
   "cell_type": "markdown",
   "id": "191141b2",
   "metadata": {
    "id": "vHz8TFPOetdw",
    "papermill": {
     "duration": 0.031489,
     "end_time": "2023-06-16T12:41:58.998823",
     "exception": false,
     "start_time": "2023-06-16T12:41:58.967334",
     "status": "completed"
    },
    "tags": []
   },
   "source": [
    "### ***Linear Regression***\n",
    "\n",
    "*Linear Regression algorithm, is a simple yet powerful machine learning algorithm for predicting a continuous output variable based on one or more input variables.*\n",
    "\n",
    "*In Linear Regression, the algorithm fits a linear equation to the input data that best represents the relationship between the input variables and the output variable. The linear equation is typically represented as y = mx + b, where y is the output variable, x is the input variable, m is the slope, and b is the intercept. The algorithm uses a method called **ordinary least squares to find the values of m and b that minimize the sum of squared errors between the predicted values and the actual values**.*\n",
    "\n",
    "*One of the advantages of Linear Regression is that it is easy to understand and interpret, making it a popular choice for data analysis and modeling. Additionally, Linear Regression can be used for both simple and complex datasets, and it can handle both categorical and continuous input variables.*\n",
    "\n",
    "*Overall, Linear Regression is a powerful algorithm for predicting a continuous output variable based on one or more input variables, and can be used in a variety of applications such as predicting stock prices, housing prices, and customer behavior.*\n",
    "\n",
    "\n",
    "\n",
    "```\n",
    "from sklearn.linear_model import LinearRegression\n",
    "\n",
    "# create linear regression model\n",
    "model = LinearRegression()\n",
    "\n",
    "# fit the model to the data\n",
    "model.fit(X, y)\n",
    "\n",
    "y_new = model.predict(X_new)\n",
    "\n",
    "# print the predictions\n",
    "print(y_new)\n",
    "```\n",
    "\n"
   ]
  },
  {
   "cell_type": "code",
   "execution_count": 30,
   "id": "39857918",
   "metadata": {
    "execution": {
     "iopub.execute_input": "2023-06-16T12:41:59.065288Z",
     "iopub.status.busy": "2023-06-16T12:41:59.064864Z",
     "iopub.status.idle": "2023-06-16T12:41:59.071601Z",
     "shell.execute_reply": "2023-06-16T12:41:59.070798Z"
    },
    "id": "0j_kf7V9lREA",
    "papermill": {
     "duration": 0.042646,
     "end_time": "2023-06-16T12:41:59.073763",
     "exception": false,
     "start_time": "2023-06-16T12:41:59.031117",
     "status": "completed"
    },
    "tags": []
   },
   "outputs": [],
   "source": [
    "model_outputs={}\n",
    "def model_result(model_name, pred_val):\n",
    "  global model_outputs\n",
    "  model_outputs[model_name] = {'accuracy':accuracy_score(y_true=y_test, y_pred=pred_val),\n",
    "                              'f1_score':f1_score(y_true=y_test, y_pred=pred_val),\n",
    "                              'recall':recall_score(y_true=y_test, y_pred=pred_val),\n",
    "                              'precision':precision_score(y_true=y_test, y_pred=pred_val,),\n",
    "                              'mean_squared_error':mean_squared_error(y_true=y_test, y_pred=pred_val,)}"
   ]
  },
  {
   "cell_type": "markdown",
   "id": "36a60323",
   "metadata": {
    "id": "T_hw-20hZKCn",
    "papermill": {
     "duration": 0.032773,
     "end_time": "2023-06-16T12:41:59.138849",
     "exception": false,
     "start_time": "2023-06-16T12:41:59.106076",
     "status": "completed"
    },
    "tags": []
   },
   "source": [
    "### ***Logistic Regression***\n",
    "\n",
    "*A popular algorithm used for classification tasks.*\n",
    "\n",
    "*It is used to predict the probability of an event occurring based on input features.*\n",
    "\n",
    "*It is particularly useful for applications such as predicting whether an email is spam or not, or whether a patient is likely to develop a certain medical condition.*\n",
    "\n",
    "***3 Types:***\n",
    "\n",
    "*➢ Binomial:*\n",
    "\n",
    "    In binomial Logistic regression, there can be only two possible types of the dependent variables, such as 0 or 1, Pass or Fail, etc.\n",
    "*➢ Multinomial:*\n",
    "\n",
    "    In multinomial Logistic regression, there can be 3 or more possible unordered types of the dependent variable, such as \"cat\", \"dogs\", or \"sheep\"\n",
    "*➢ Ordinal:*\n",
    "\n",
    "    In ordinal Logistic regression, there can be 3 or more possible ordered types of dependent variables, such as \"low\", \"Medium\", or \"High\"."
   ]
  },
  {
   "cell_type": "code",
   "execution_count": 31,
   "id": "71e29f01",
   "metadata": {
    "execution": {
     "iopub.execute_input": "2023-06-16T12:41:59.205957Z",
     "iopub.status.busy": "2023-06-16T12:41:59.204841Z",
     "iopub.status.idle": "2023-06-16T12:42:02.625239Z",
     "shell.execute_reply": "2023-06-16T12:42:02.623779Z"
    },
    "id": "6IkNj6ysaDH3",
    "papermill": {
     "duration": 3.457292,
     "end_time": "2023-06-16T12:42:02.628200",
     "exception": false,
     "start_time": "2023-06-16T12:41:59.170908",
     "status": "completed"
    },
    "tags": []
   },
   "outputs": [],
   "source": [
    "from sklearn.linear_model import LogisticRegression\n",
    "\n",
    "lgr_model= Pipeline([('vector',TfidfVectorizer()),('smote',SMOTE(random_state = 101)), ('lgr', LogisticRegression(random_state=41))]) #Pipeline td-idf ---> lgr\n",
    "lgr_model.fit(x_train, y_train) # model training\n",
    "lgr_pred=lgr_model.predict(x_test) # model prediction\n",
    "\n",
    "model_result(model_name= 'LogRegress', pred_val= lgr_pred)\n",
    "#model_outputs"
   ]
  },
  {
   "cell_type": "markdown",
   "id": "9426708d",
   "metadata": {
    "id": "jxRiwMu9wRgA",
    "papermill": {
     "duration": 0.032456,
     "end_time": "2023-06-16T12:42:02.693303",
     "exception": false,
     "start_time": "2023-06-16T12:42:02.660847",
     "status": "completed"
    },
    "tags": []
   },
   "source": [
    "### ***Regularization***"
   ]
  },
  {
   "cell_type": "markdown",
   "id": "bec51422",
   "metadata": {
    "id": "FGUTe2NHq9VN",
    "papermill": {
     "duration": 0.031945,
     "end_time": "2023-06-16T12:42:02.757393",
     "exception": false,
     "start_time": "2023-06-16T12:42:02.725448",
     "status": "completed"
    },
    "tags": []
   },
   "source": [
    "#### ***LASSO and Ridge Regularization***\n",
    "\n",
    "*➢ Variance : Variance tells us about the spread of the data points. High variance leads to **Overfitting**.*\n",
    "\n",
    "*➢ Bias : The inability of the ML methods (like Linear Regression) to capture the true relationship is called bias. High Bias leads to **Underfitting**.*\n",
    "\n",
    "➢ Regularization\n",
    "\n",
    "    ➢ Regularization is one of the ways to improve our model to work on unseen data by ignoring the less important features.\n",
    "\n",
    "    ➢ Regularization minimizes the validation loss (i.e., Cost function/ Loss function) and tries to improve the accuracy of the model.\n",
    "\n",
    "    ➢ It avoids overfitting by adding a \"penalty\" to the model with high variance, thereby shrinking the beta coefficients to zero.\n",
    "\n",
    "    ➢ 2 types:\n",
    "        1. L1 Regularization (Lasso Regression)\n",
    "        2. L2 Regularization (Ridge Regression)\n",
    "\n",
    "Explanation:\n",
    "\n",
    "    ➢ In Linear regression, after training model, Model performs well for training datasets but, fails to predict for test dataset and give huge difference b/w test data from mean or best fit line (i.e., gives high variance). Hence, model overfitting the training dataset.\n",
    "    ➢ Thus, RSS is large for Linear Regression model for test dataset whereas, it was giving 0 or less error for training dataset.\n",
    "    ➢ LASSO and Ridge Regression add a penalty term (i.e., λ* |slope| and λ*(slope)^2) respectively to regularize Cost function (i.e., Loss function or Residual Sum of Square (RSS) or Sum of Squared Error (SSE)).\n",
    "            Note:\n",
    "            Cost function = Loss function = MSE and\n",
    "            RSS = SSE = (N * MSE)\n",
    "    ➢ This λ term called as regularization parameter identified through Cross Validation penalizes the βi where i = 1, 2, 3, …., n (i.e., coefficients or weights or slopes) except β0 (i.e., intercept) in older linear best fit line.\n",
    "    ➢ This penalty term increases the cost function at training linear model, to give an error when there is no or less error.\n",
    "    ➢ Thus, this will help Gradient descent to reduce slope (βi where i = 1, 2, 3, …., n) to give new best fit line in order to reduce cost function.\n",
    "    ➢ This, new best fit line reduces the high variance at time of test dataset and gives a generalize model with less error and high accuracy for both training and test dataset.\n",
    "    ➢ The only difference b/w L1 and L2 regularization is that:\n",
    "          1. Ridge (L2) with help of λ*(slope)2 forces all the coefficients to be small.\n",
    "          2. Whereas LASSO (L1) with help of λ*|slope| forces all the coefficients to be 0.\n",
    "              • Due to this, less important coefficients or weights or slopes are reduced/shrank equal to 0 (Selection in LASSO)\n",
    "              • And important coefficients are reduced/shrank to small values. (Least Absolute Shrinkage in LASSO)\n",
    "    ➢ Hence LASSO can be used for selection purpose also while both Ridge and LASSO shrinks the coefficient to small values to reduce cost function and give new best fit line as solution to Overfitting.\n",
    "\n"
   ]
  },
  {
   "cell_type": "markdown",
   "id": "c87095ef",
   "metadata": {
    "id": "TGWhiq4ZvMvt",
    "papermill": {
     "duration": 0.032636,
     "end_time": "2023-06-16T12:42:02.821863",
     "exception": false,
     "start_time": "2023-06-16T12:42:02.789227",
     "status": "completed"
    },
    "tags": []
   },
   "source": [
    "#### ***Elastic Net Regression***\n",
    "    → So generally, we should avoid plain Linear Regression.\n",
    "    → Ridge is a good default, but it includes all features even if they are not useful. (Problem with Ridge)\n",
    "          ✓ We should prefer Lasso or Elastic Net since they tend to reduce the useless features’ weights down to zero as we have discussed.\n",
    "\n",
    "    → In general, Elastic Net is preferred over Lasso since Lasso may behave erratically when: (Problem with LASSO)\n",
    "        ✓ The number of features is greater than the number of training instances or\n",
    "        ✓ when several features are strongly correlated (i.e., Multicollinearity is not considered in LASSO’s feature regularization).\n",
    "\n",
    "    → For Elastic Net use, both L1 and L2 regularizations to produce most optimized output. (Overcoming both Ridge and LASSO limitation by combining them both)\n",
    "    → In addition to setting and choosing a lambda value elastic net also allows us to tune the alpha parameter where\n",
    "    ✓ 𝞪 = 0 ➔ Ridge and,\n",
    "    ✓ 𝞪 = 1 ➔ LASSO\n",
    "    → Simply put plug in 0 for alpha, the penalty function reduces to the L1 (ridge) term and if we set alpha to 1 we get the L2 (lasso) term.\n",
    "    → So, keeping 0 ≤ α ≤ 1, we can achieve benefits of both Ridge and LASSO Regressions in Elastic Net Regression.\n",
    "\n",
    "Code:\n",
    "\n",
    "\n",
    "```\n",
    "from sklearn.linear_model import ElasticNetCV\n",
    "elasticnet = ElasticNetCV ( )\n",
    "elasticnet.fit(x_train,y_train)\n",
    "```\n",
    "\n"
   ]
  },
  {
   "cell_type": "markdown",
   "id": "0c0ac545",
   "metadata": {
    "id": "kKF0ZxBAxu_n",
    "papermill": {
     "duration": 0.035638,
     "end_time": "2023-06-16T12:42:02.890188",
     "exception": false,
     "start_time": "2023-06-16T12:42:02.854550",
     "status": "completed"
    },
    "tags": []
   },
   "source": [
    "### ***Decision Tree***\n",
    "\n",
    "*Decision Tree is used for both classification and Regression problems, but mostly it is preferred for solving Classification problems.*\n",
    "\n",
    "*Decision Trees are essentially tree-like structures that partition the data based on a series of simple decision rules, with each node representing a decision and each branch representing an outcome of that decision.*\n",
    "\n",
    "*For classification tasks, a Decision Tree would start with the entire dataset, and then at each decision node, it would split the data into smaller subsets based on a feature value. This process continues recursively until each subset cannot be divided further.*\n",
    "\n",
    "*Decision Trees can suffer from overfitting if they are allowed to grow too deep, which can lead to poor generalization performance on new data. To address this, several techniques have been developed, such as pruning, which involves removing branches from the tree, and using ensemble methods such as Random Forests, which combine the predictions of multiple Decision Trees to improve performance.*"
   ]
  },
  {
   "cell_type": "code",
   "execution_count": 32,
   "id": "e0610d45",
   "metadata": {
    "execution": {
     "iopub.execute_input": "2023-06-16T12:42:02.956071Z",
     "iopub.status.busy": "2023-06-16T12:42:02.955581Z",
     "iopub.status.idle": "2023-06-16T12:42:12.890047Z",
     "shell.execute_reply": "2023-06-16T12:42:12.888820Z"
    },
    "id": "ysRlxnwwxuLu",
    "papermill": {
     "duration": 9.970742,
     "end_time": "2023-06-16T12:42:12.892972",
     "exception": false,
     "start_time": "2023-06-16T12:42:02.922230",
     "status": "completed"
    },
    "tags": []
   },
   "outputs": [],
   "source": [
    "from sklearn.tree import DecisionTreeClassifier\n",
    "\n",
    "dt_model= Pipeline([('vector',TfidfVectorizer()),('smote',SMOTE(random_state = 101)), ('dt', DecisionTreeClassifier(random_state=41))]) #Pipeline td-idf ---> dt\n",
    "dt_model.fit(x_train, y_train) # model training\n",
    "dt_pred=dt_model.predict(x_test) # model prediction\n",
    "\n",
    "model_result(model_name= 'DecisionTree', pred_val= dt_pred)\n",
    "#model_outputs"
   ]
  },
  {
   "cell_type": "markdown",
   "id": "84484ac4",
   "metadata": {
    "id": "thWpEB7v8ZT9",
    "papermill": {
     "duration": 0.032045,
     "end_time": "2023-06-16T12:42:12.958191",
     "exception": false,
     "start_time": "2023-06-16T12:42:12.926146",
     "status": "completed"
    },
    "tags": []
   },
   "source": [
    "### ***Random Forest***\n",
    "\n",
    "*It is a popular ensemble learning technique used for both **regression** and **classification** tasks.*\n",
    "\n",
    "*Random forests uses bagging method to combine multiple decision trees, where each tree is trained on a random subset of the data and a random subset of the input features.*\n",
    "\n",
    "*Then output of each decision tree in a random forest is combined using a simple **majority vote (for classification tasks)** or **averaging (for regression tasks)**. This helps to reduce the risk of overfitting and improve the accuracy of the algorithm as compare to Decision Tree.*\n",
    "\n",
    "*Overall, **random forests are powerful and widely used** algorithms in ML, particularly in applications **where the input features are noisy or correlated**. The use of bagging ensemble techniques and combining the outputs of multiple decision trees help to improve the performance and robustness of the algorithm.*"
   ]
  },
  {
   "cell_type": "code",
   "execution_count": 33,
   "id": "ab2a6427",
   "metadata": {
    "execution": {
     "iopub.execute_input": "2023-06-16T12:42:13.029704Z",
     "iopub.status.busy": "2023-06-16T12:42:13.028648Z",
     "iopub.status.idle": "2023-06-16T12:42:42.273544Z",
     "shell.execute_reply": "2023-06-16T12:42:42.272374Z"
    },
    "id": "qof8qf_dCnZ1",
    "papermill": {
     "duration": 29.28607,
     "end_time": "2023-06-16T12:42:42.276490",
     "exception": false,
     "start_time": "2023-06-16T12:42:12.990420",
     "status": "completed"
    },
    "tags": []
   },
   "outputs": [],
   "source": [
    "from sklearn.ensemble import RandomForestClassifier\n",
    "\n",
    "#n_estimators=100, 100 decision trees\n",
    "#n_jobs= 2,  2 number of jobs run in parallel.\n",
    "#criterion : {\"gini\", \"entropy\", \"log_loss\"}, default=\"gini\" ,\n",
    "#The function to measure the quality of a split.\n",
    "'''##Supported criteria are \"gini\" for the Gini impurity (1- [P(+ve or Yes)]^2 - [P(-ve or No)^2])\n",
    "##and \"log_loss\" and \"entropy\" both for the information gain.\n",
    "##   Note: This parameter is tree-specific.'''\n",
    "#max_depth : int, default=None. The maximum depth of the tree. If None, then nodes are expanded until all leaves are pure or until all leaves contain less than min_samples_split samples\n",
    "\n",
    "rfc_model= Pipeline([('vector',TfidfVectorizer()), ('smote',SMOTE(random_state = 101)),('rfc', RandomForestClassifier(n_estimators=100, n_jobs=2, random_state=41))]) #Pipeline td-idf ---> rfc\n",
    "rfc_model.fit(x_train, y_train) # model training\n",
    "rfc_pred=rfc_model.predict(x_test) # model prediction\n",
    "\n",
    "model_result(model_name= 'RandomForest', pred_val= rfc_pred)\n",
    "#model_outputs"
   ]
  },
  {
   "cell_type": "markdown",
   "id": "9307db50",
   "metadata": {
    "id": "Fb-a9kLUEsOF",
    "papermill": {
     "duration": 0.031853,
     "end_time": "2023-06-16T12:42:42.340298",
     "exception": false,
     "start_time": "2023-06-16T12:42:42.308445",
     "status": "completed"
    },
    "tags": []
   },
   "source": [
    "### ***Naive Bayes Classifier***\n",
    "\n",
    "*It is a popular algorithm used for classification tasks.*\n",
    "\n",
    "*Naive Bayes is a probabilistic algorithm that makes predictions based on Bayes' theorem, which calculates the probability of a hypothesis based on the probability of the evidence.*\n",
    "\n",
    "*Naive Bayes Classifier assumes that the input features are independent of each other, which is a \"naive\" assumption but often works well in practice. The algorithm calculates the probability of each class given the input features, and selects the class with the highest probability as the prediction.*\n",
    "\n",
    "*Furthermore, Naive Bayes is particularly useful for applications with a large number of input features, such as NLP or spam filtering. It is also computationally efficient, making it a popular choice for real-time applications.*"
   ]
  },
  {
   "cell_type": "code",
   "execution_count": 34,
   "id": "4e335ae3",
   "metadata": {
    "execution": {
     "iopub.execute_input": "2023-06-16T12:42:42.406708Z",
     "iopub.status.busy": "2023-06-16T12:42:42.405443Z",
     "iopub.status.idle": "2023-06-16T12:42:43.651732Z",
     "shell.execute_reply": "2023-06-16T12:42:43.650599Z"
    },
    "id": "OwV5FFr6OcqM",
    "papermill": {
     "duration": 1.282793,
     "end_time": "2023-06-16T12:42:43.654842",
     "exception": false,
     "start_time": "2023-06-16T12:42:42.372049",
     "status": "completed"
    },
    "tags": []
   },
   "outputs": [],
   "source": [
    "from sklearn.naive_bayes import GaussianNB, MultinomialNB\n",
    "\n",
    "nb_model = Pipeline([('vector',TfidfVectorizer()),('smote',SMOTE(random_state = 101)), ('nb', MultinomialNB())]) #Pipeline td-idf ---> nb\n",
    "nb_model.fit(x_train,y_train) # model training\n",
    "nb_pred=rfc_model.predict(x_test) # model prediction\n",
    "\n",
    "model_result(model_name= 'NB', pred_val= nb_pred)\n",
    "#model_outputs"
   ]
  },
  {
   "cell_type": "markdown",
   "id": "d62566a2",
   "metadata": {
    "id": "1wgROWgngWHE",
    "papermill": {
     "duration": 0.032559,
     "end_time": "2023-06-16T12:42:43.719784",
     "exception": false,
     "start_time": "2023-06-16T12:42:43.687225",
     "status": "completed"
    },
    "tags": []
   },
   "source": [
    "### ***Support Vector Machine (SVM)***\n",
    "\n",
    "*SVM are a powerful and widely used ML algorithms, used primarily for classification tasks SVC (Support Vector Classifier). In particular, the SVM algorithm seeks to find the hyperplane that maximally separates two classes of data points in a high-dimensional space.*\n",
    "\n",
    "*SVM is a type of supervised learning algorithm and can be used for both linear and non-linear classification problems. The linear version is called **Linear SVM or Linear SVC**. Non-linear SVMs use kernel functions to transform the data into a higher-dimensional space, where a linear hyperplane can be found to separate the classes.*\n",
    "\n",
    "*Furthermore, SVMs have several advantages, including being able to handle high-dimensional data with a small number of training samples, and being **less prone to overfitting**.*\n",
    "\n",
    "*SVMs are well-suited for a variety of applications, such as text classification, image classification, and bioinformatics.*"
   ]
  },
  {
   "cell_type": "code",
   "execution_count": 35,
   "id": "6162daef",
   "metadata": {
    "execution": {
     "iopub.execute_input": "2023-06-16T12:42:43.786721Z",
     "iopub.status.busy": "2023-06-16T12:42:43.786314Z",
     "iopub.status.idle": "2023-06-16T12:46:36.446704Z",
     "shell.execute_reply": "2023-06-16T12:46:36.445135Z"
    },
    "id": "Mr2ii0s6gSwG",
    "papermill": {
     "duration": 232.697589,
     "end_time": "2023-06-16T12:46:36.449635",
     "exception": false,
     "start_time": "2023-06-16T12:42:43.752046",
     "status": "completed"
    },
    "tags": []
   },
   "outputs": [],
   "source": [
    "from sklearn.svm import SVC\n",
    "\n",
    "#kernel used here is 'rbf'\n",
    "svc_model = Pipeline([('vector',TfidfVectorizer()),('smote',SMOTE(random_state = 101)), ('svc', SVC(random_state=41))]) #Pipeline td-idf ---> svc\n",
    "svc_model.fit(x_train,y_train) # model\n",
    "svc_pred=svc_model.predict(x_test) # model prediction\n",
    "\n",
    "model_result(model_name= 'SVC', pred_val= svc_pred)\n",
    "#model_outputs"
   ]
  },
  {
   "cell_type": "markdown",
   "id": "4098aad5",
   "metadata": {
    "id": "V2SU8DNVTBot",
    "papermill": {
     "duration": 0.031922,
     "end_time": "2023-06-16T12:46:36.514285",
     "exception": false,
     "start_time": "2023-06-16T12:46:36.482363",
     "status": "completed"
    },
    "tags": []
   },
   "source": [
    "### ***Extreme Gradient Boosting (XGBoost)***\n",
    "\n",
    "*XGBoost is a popular and powerful gradient boosting library used in machine learning for both regression and classification tasks, mostly for classification.*\n",
    "\n",
    "*XGBoost is an optimized **implementation of gradient boosting** that is designed to be highly efficient and scalable.*\n",
    "\n",
    "*Boosting is an ensemble technique that combines multiple weak models into a single strong model. It works by training a sequence of models, each one improving on the mistakes of the previous model, until a final strong model is obtained. **Gradient boosting is a specific type of boosting that uses gradients to minimize the loss function during training that enhances the accuracy of the model**.*\n",
    "\n",
    "*In XGBoost, the gradient boosting algorithm is optimized for speed and efficiency using several techniques, including parallel processing, approximate greedy algorithm, and a customized data structure to store the input data. The library also includes several **regularization techniques (L1 &L2) to prevent overfitting and improve generalization performance**.*\n",
    "\n",
    "*Overall, XGBoost is a powerful and widely used library in machine learning due to its efficiency, scalability, and high accuracy. It is used in a variety of applications, such as fraud detection, image classification, and customer churn prediction.*"
   ]
  },
  {
   "cell_type": "code",
   "execution_count": 36,
   "id": "143afa74",
   "metadata": {
    "execution": {
     "iopub.execute_input": "2023-06-16T12:46:36.581305Z",
     "iopub.status.busy": "2023-06-16T12:46:36.580057Z",
     "iopub.status.idle": "2023-06-16T12:47:44.879977Z",
     "shell.execute_reply": "2023-06-16T12:47:44.878963Z"
    },
    "id": "TwyLd7H7TAjV",
    "papermill": {
     "duration": 68.336476,
     "end_time": "2023-06-16T12:47:44.882770",
     "exception": false,
     "start_time": "2023-06-16T12:46:36.546294",
     "status": "completed"
    },
    "tags": []
   },
   "outputs": [],
   "source": [
    "from xgboost import XGBClassifier\n",
    "\n",
    "xgb_model = Pipeline([('vector',TfidfVectorizer()),('smote',SMOTE(random_state = 101)), ('xgb', XGBClassifier(n_estimators=1000,n_jobs=2,random_state=41))]) #Pipeline td-idf ---> xgb\n",
    "xgb_model.fit(x_train,y_train) # model training\n",
    "xgb_pred=xgb_model.predict(x_test) # model prediction\n",
    "\n",
    "model_result(model_name= 'XGB', pred_val= xgb_pred)\n",
    "#model_outputs"
   ]
  },
  {
   "cell_type": "markdown",
   "id": "584fed92",
   "metadata": {
    "id": "ZDHOHemoOStt",
    "papermill": {
     "duration": 0.031639,
     "end_time": "2023-06-16T12:47:44.947458",
     "exception": false,
     "start_time": "2023-06-16T12:47:44.915819",
     "status": "completed"
    },
    "tags": []
   },
   "source": [
    "### ***Light GBM Model (LGBM)***\n",
    "\n",
    "Light GBM is a fast, distributed, high-performance gradient boosting framework based on decision tree algorithm,\n",
    "\n",
    "    ✓ Used for ranking, classification, and many other machine learning tasks.\n",
    "    ✓ Since it is based on decision tree algorithms, it splits the tree leaf wise with the best fit whereas other boosting algorithms split the tree depth wise or level wise rather than leaf-wise.\n",
    "    ✓ So, when growing on the same leaf in Light GBM, the leaf-wise algorithm can reduce more loss than the level-wise algorithm and hence results in much better accuracy which can rarely be achieved by any of the existing boosting algorithms.\n",
    "    ✓ Also, it is surprisingly very fast, hence the word ‘Light’.\n",
    "    ✓ Leaf wise splits lead to increase in complexity and may lead to overfitting and\n",
    "    ✓ Overfitting can be overcome by specifying another parameter max-depth which specifies the depth to which splitting will occur.\n",
    "\n",
    "✓ Advantages of Light GBM\n",
    "\n",
    "    ➢ Faster training speed and higher efficiency:\n",
    "        • Light GBM use histogram-based algorithm i.e., it buckets continuous feature values into discrete bins which fasten the training procedure.\n",
    "\n",
    "    ➢ Lower memory usage:\n",
    "        • Replaces continuous values to discrete bins which result in lower memory usage.\n",
    "\n",
    "    ➢ Better accuracy than any other boosting algorithm:\n",
    "        • It produces much more complex trees by following leaf wise split approach rather than a level-wise approach which is the main factor in achieving higher accuracy.\n",
    "\n",
    "        • However, it can sometimes lead to overfitting which can be avoided by setting the max_depth parameter.\n",
    "\n",
    "    ➢ Compatibility with Large Datasets:\n",
    "        • It can perform equally good with large datasets with a significant reduction in training time as compared to XGBOOST.\n",
    "\n",
    "    ➢ Parallel learning supported\n",
    "        → Bagging is also supported\n",
    "\n"
   ]
  },
  {
   "cell_type": "code",
   "execution_count": 37,
   "id": "7559df02",
   "metadata": {
    "execution": {
     "iopub.execute_input": "2023-06-16T12:47:45.013386Z",
     "iopub.status.busy": "2023-06-16T12:47:45.012973Z",
     "iopub.status.idle": "2023-06-16T12:48:26.446638Z",
     "shell.execute_reply": "2023-06-16T12:48:26.445211Z"
    },
    "id": "26Fwrkk4NCjm",
    "papermill": {
     "duration": 41.470383,
     "end_time": "2023-06-16T12:48:26.449798",
     "exception": false,
     "start_time": "2023-06-16T12:47:44.979415",
     "status": "completed"
    },
    "tags": []
   },
   "outputs": [],
   "source": [
    "from lightgbm import LGBMClassifier\n",
    "\n",
    "lgbm_model = Pipeline([('vector',TfidfVectorizer()), ('smote',SMOTE(random_state = 101)),('lgbm', LGBMClassifier(n_estimators=1000,n_jobs=2,random_state=41,max_depth=-1,num_leaves=40))]) #Pipeline td-idf ---> lgbm\n",
    "lgbm_model.fit(x_train,y_train) # model training\n",
    "lgbm_pred=lgbm_model.predict(x_test) # model prediction\n",
    "\n",
    "model_result(model_name= 'LGBM', pred_val= lgbm_pred)\n",
    "#model_outputs"
   ]
  },
  {
   "cell_type": "markdown",
   "id": "3dd5d12f",
   "metadata": {
    "id": "KI05ZHErvoqY",
    "papermill": {
     "duration": 0.031847,
     "end_time": "2023-06-16T12:48:26.513947",
     "exception": false,
     "start_time": "2023-06-16T12:48:26.482100",
     "status": "completed"
    },
    "tags": []
   },
   "source": [
    "### ***K- Nearest Neighbour (KNN)***\n",
    "\n",
    "*K-Nearest Neighbors (KNN) algorithm, is a simple and widely used machine learning algorithm for classification and regression tasks.*\n",
    "\n",
    "*In KNN, the output value for a data point is determined by the k nearest data points in the training set. The algorithm works by measuring the distance between the data points using a distance metric (such as Euclidean distance), and then selecting the k nearest neighbors based on the distance. The output value for the new data point is then determined by a **majority vote or averaging of the output values of the k neighbors**.*\n",
    "\n",
    "*One of the advantages of KNN is that it is easy to understand and implement. Additionally, KNN is a non-parametric algorithm, which means it does not make any assumptions about the underlying distribution of the data. However, KNN can be computationally expensive for large datasets, and the performance can be sensitive to the choice of k and the distance metric.*\n",
    "\n",
    "*Overall, KNN is a simple yet powerful algorithm that can be effective for a wide range of classification and regression tasks, especially for small to medium-sized datasets.*\n",
    "\n"
   ]
  },
  {
   "cell_type": "code",
   "execution_count": 38,
   "id": "f392a7a7",
   "metadata": {
    "execution": {
     "iopub.execute_input": "2023-06-16T12:48:26.580130Z",
     "iopub.status.busy": "2023-06-16T12:48:26.579297Z",
     "iopub.status.idle": "2023-06-16T12:48:26.585011Z",
     "shell.execute_reply": "2023-06-16T12:48:26.584201Z"
    },
    "id": "Fh-qr42V5r6C",
    "papermill": {
     "duration": 0.041669,
     "end_time": "2023-06-16T12:48:26.587451",
     "exception": false,
     "start_time": "2023-06-16T12:48:26.545782",
     "status": "completed"
    },
    "tags": []
   },
   "outputs": [],
   "source": [
    "from sklearn.neighbors import KNeighborsClassifier\n",
    "from sklearn.model_selection import cross_val_score\n",
    "import numpy as np"
   ]
  },
  {
   "cell_type": "code",
   "execution_count": 39,
   "id": "6426f34e",
   "metadata": {
    "execution": {
     "iopub.execute_input": "2023-06-16T12:48:26.654441Z",
     "iopub.status.busy": "2023-06-16T12:48:26.653660Z",
     "iopub.status.idle": "2023-06-16T12:48:26.661504Z",
     "shell.execute_reply": "2023-06-16T12:48:26.660755Z"
    },
    "id": "5loilMaJ-Anq",
    "papermill": {
     "duration": 0.044685,
     "end_time": "2023-06-16T12:48:26.664115",
     "exception": false,
     "start_time": "2023-06-16T12:48:26.619430",
     "status": "completed"
    },
    "tags": []
   },
   "outputs": [],
   "source": [
    "#finding best k-value\n",
    "def find_best_k(x, y,scoring_param):\n",
    "    k_range = range(1, 6)\n",
    "    k_scores = []\n",
    "    print('Finding best k value:')\n",
    "    for k in k_range:\n",
    "        print(f'For k = {k}',end='    -------------------->>>>>    ') #To Track\n",
    "        knn = KNeighborsClassifier(n_neighbors=k)\n",
    "        scores = cross_val_score(knn, x, y, cv=10, scoring=scoring_param)  #k value using cross-validation (K-Fold CV). Here, 10-Fold CV\n",
    "        print(f'{scoring_param} = ',scores.mean()) #To Track\n",
    "        k_scores.append(scores.mean())\n",
    "\n",
    "    best_k = k_range[np.argmax(k_scores)]\n",
    "    return best_k\n",
    "\n",
    "#vectorizor=TfidfVectorizer()\n",
    "#x_data=vectorizor.fit_transform(x_train)\n",
    "#x,y=find_best_k(x_data,y_train)"
   ]
  },
  {
   "cell_type": "code",
   "execution_count": 40,
   "id": "db8e375b",
   "metadata": {
    "execution": {
     "iopub.execute_input": "2023-06-16T12:48:26.730120Z",
     "iopub.status.busy": "2023-06-16T12:48:26.729738Z",
     "iopub.status.idle": "2023-06-16T12:51:18.553735Z",
     "shell.execute_reply": "2023-06-16T12:51:18.552382Z"
    },
    "id": "GwOpjTlI-LKa",
    "outputId": "16e62971-4d2b-4eb7-ad65-262a5dcc394b",
    "papermill": {
     "duration": 171.860598,
     "end_time": "2023-06-16T12:51:18.556772",
     "exception": false,
     "start_time": "2023-06-16T12:48:26.696174",
     "status": "completed"
    },
    "tags": []
   },
   "outputs": [
    {
     "name": "stdout",
     "output_type": "stream",
     "text": [
      "Finding best k value:\n",
      "For k = 1    -------------------->>>>>    accuracy =  0.9520512594534749\n",
      "For k = 2    -------------------->>>>>    accuracy =  0.9435253221847051\n",
      "For k = 3    -------------------->>>>>    accuracy =  0.9432515332729878\n",
      "For k = 4    -------------------->>>>>    accuracy =  0.9407094153151648\n",
      "For k = 5    -------------------->>>>>    accuracy =  0.9406703069850904\n",
      "Number of N-neighbours = 1\n"
     ]
    }
   ],
   "source": [
    "#pipeline with TF-IDF vectorization and KNN classifier\n",
    "knn_model = Pipeline([('vectorizer', TfidfVectorizer()),('smote',SMOTE(random_state = 101)), ('knn', KNeighborsClassifier())])\n",
    "\n",
    "# Train the model using the best k value\n",
    "knn_model.fit(x_train, y_train)\n",
    "\n",
    "#setting best k value to the model\n",
    "knn_model.set_params(knn__n_neighbors=find_best_k(x= knn_model['vectorizer'].transform(x_train), y= y_train, scoring_param='accuracy'))\n",
    "\n",
    "# Use function to find best k value used in 'knn'\n",
    "n = knn_model.named_steps['knn'].n_neighbors\n",
    "print(f'Number of N-neighbours = {n}')\n",
    "\n",
    "#Model Train\n",
    "knn_model.fit(x_train, y_train)\n",
    "\n",
    "# Make predictions on the test set\n",
    "knn_pred = knn_model.predict(x_test)\n",
    "\n",
    "#model_outputs\n",
    "model_result(model_name= 'KNeighbors', pred_val= knn_pred)\n"
   ]
  },
  {
   "cell_type": "markdown",
   "id": "524ee9f9",
   "metadata": {
    "id": "hjROKoF0_4Xr",
    "papermill": {
     "duration": 0.034019,
     "end_time": "2023-06-16T12:51:18.624442",
     "exception": false,
     "start_time": "2023-06-16T12:51:18.590423",
     "status": "completed"
    },
    "tags": []
   },
   "source": [
    "### ***K-Means***\n",
    "\n",
    "    Used to find target variable, so as it could further pass through supervised ML algo.\n",
    "\n",
    "*K-Means algorithm, is a popular unsupervised machine learning algorithm for clustering data points into K clusters based on their similarity.*\n",
    "\n",
    "*In K-Means, the algorithm iteratively partitions the data points into K clusters by minimizing the sum of squared distances between the data points and their assigned cluster centroids.*\n",
    "\n",
    "*The algorithm starts by randomly selecting K data points as the initial centroids, then assigns each data point to the nearest centroid, and updates the centroids based on the mean of the assigned data points. This process repeats until convergence, which occurs when the centroids no longer change significantly.*\n",
    "\n",
    "*One of the advantages of K-Means is that it is relatively fast and scalable, making it suitable for large datasets. However, K-Means can be sensitive to the choice of the initial centroids, and the algorithm may converge to a suboptimal solution if the initial centroids are not representative of the data*.\n",
    "\n",
    "*Overall, K-Means is a powerful algorithm for clustering data points into K groups based on their similarity, and can be used in a variety of applications such as image segmentation, customer segmentation, and anomaly detection.*"
   ]
  },
  {
   "cell_type": "code",
   "execution_count": 41,
   "id": "ffe11761",
   "metadata": {
    "execution": {
     "iopub.execute_input": "2023-06-16T12:51:18.692158Z",
     "iopub.status.busy": "2023-06-16T12:51:18.691732Z",
     "iopub.status.idle": "2023-06-16T12:51:18.696863Z",
     "shell.execute_reply": "2023-06-16T12:51:18.696019Z"
    },
    "id": "Q2Kqs9ZF-8tK",
    "papermill": {
     "duration": 0.041828,
     "end_time": "2023-06-16T12:51:18.699095",
     "exception": false,
     "start_time": "2023-06-16T12:51:18.657267",
     "status": "completed"
    },
    "tags": []
   },
   "outputs": [],
   "source": [
    "from sklearn.cluster import KMeans\n",
    "\n",
    "kmeans_model =  Pipeline([('vector',TfidfVectorizer()), ('kmeans', KMeans(random_state=41))]) #Pipeline td-idf ---> kmeans"
   ]
  },
  {
   "cell_type": "code",
   "execution_count": 42,
   "id": "55f42915",
   "metadata": {
    "execution": {
     "iopub.execute_input": "2023-06-16T12:51:18.767113Z",
     "iopub.status.busy": "2023-06-16T12:51:18.765855Z",
     "iopub.status.idle": "2023-06-16T12:51:33.760548Z",
     "shell.execute_reply": "2023-06-16T12:51:33.758664Z"
    },
    "id": "bS1ND7l8TV8z",
    "outputId": "f52aa0a1-9707-46f7-f611-f8f3d0be3f5a",
    "papermill": {
     "duration": 15.031705,
     "end_time": "2023-06-16T12:51:33.763492",
     "exception": false,
     "start_time": "2023-06-16T12:51:18.731787",
     "status": "completed"
    },
    "tags": []
   },
   "outputs": [
    {
     "data": {
      "image/png": "[encoded data removed]",
      "text/plain": [
       "<Figure size 600x400 with 1 Axes>"
      ]
     },
     "metadata": {},
     "output_type": "display_data"
    }
   ],
   "source": [
    "#finding WCSS, Within Cluster Sum of Square --> Square Sum of Eucledian distances between each points in a cluster from the centroid of that cluster\n",
    "wcss=[]\n",
    "cluster_range = range(1,11)\n",
    "for k in cluster_range:\n",
    "  #setting k no. of clusters to the model\n",
    "  kmeans_model.set_params(kmeans__n_clusters=k)\n",
    "  kmeans_model.fit(x_train)\n",
    "  wcss.append(int(kmeans_model['kmeans'].inertia_))\n",
    "\n",
    "plt.figure(figsize=(6,4))\n",
    "plt.plot(cluster_range,wcss,marker='o')\n",
    "plt.xlabel('No. of Clusters')\n",
    "plt.ylabel('Within Cluster Sum of Square')\n",
    "plt.title('Elbow Method')\n",
    "\n",
    "plt.show()"
   ]
  },
  {
   "cell_type": "code",
   "execution_count": 43,
   "id": "e2d381c2",
   "metadata": {
    "execution": {
     "iopub.execute_input": "2023-06-16T12:51:33.832662Z",
     "iopub.status.busy": "2023-06-16T12:51:33.832239Z",
     "iopub.status.idle": "2023-06-16T12:51:34.588153Z",
     "shell.execute_reply": "2023-06-16T12:51:34.586138Z"
    },
    "id": "GxNAtlbQYzi_",
    "papermill": {
     "duration": 0.795579,
     "end_time": "2023-06-16T12:51:34.592476",
     "exception": false,
     "start_time": "2023-06-16T12:51:33.796897",
     "status": "completed"
    },
    "tags": []
   },
   "outputs": [],
   "source": [
    "#best no. of cluster is 3\n",
    "best_n_cluster=1\n",
    "kmeans_model.set_params(kmeans__n_clusters = best_n_cluster)\n",
    "kmeans_model.fit(x_train)\n",
    "kmeans_pred = kmeans_model.predict(x_test)\n",
    "\n",
    "#model_outputs\n",
    "model_outputs['KMeans'] = {'accuracy':accuracy_score(y_true=y_test, y_pred=kmeans_pred),\n",
    "                              'recall':recall_score(y_true=y_test, y_pred=kmeans_pred,average='weighted'),\n",
    "                              'precision':precision_score(y_true=y_test, y_pred=kmeans_pred,average='weighted'),\n",
    "                              'f1_score':f1_score(y_true=y_test, y_pred=kmeans_pred,average='weighted'),         #Target is multiclass but average='binary'. Please choose another average setting, one of [None, 'micro', 'macro', 'weighted'].\n",
    "                              'mean_squared_error':mean_squared_error(y_true=y_test, y_pred=kmeans_pred)}\n"
   ]
  },
  {
   "cell_type": "markdown",
   "id": "b0470958",
   "metadata": {
    "id": "iO2ShY0TQCBk",
    "papermill": {
     "duration": 0.033719,
     "end_time": "2023-06-16T12:51:34.663293",
     "exception": false,
     "start_time": "2023-06-16T12:51:34.629574",
     "status": "completed"
    },
    "tags": []
   },
   "source": [
    "### ***Model Outputs***"
   ]
  },
  {
   "cell_type": "code",
   "execution_count": 44,
   "id": "55dadc8e",
   "metadata": {
    "execution": {
     "iopub.execute_input": "2023-06-16T12:51:34.733910Z",
     "iopub.status.busy": "2023-06-16T12:51:34.733155Z",
     "iopub.status.idle": "2023-06-16T12:51:34.752615Z",
     "shell.execute_reply": "2023-06-16T12:51:34.751271Z"
    },
    "id": "Zy_xIXK_QAGm",
    "outputId": "24521eea-41aa-4cdf-e07e-28a49a87dd33",
    "papermill": {
     "duration": 0.058661,
     "end_time": "2023-06-16T12:51:34.755718",
     "exception": false,
     "start_time": "2023-06-16T12:51:34.697057",
     "status": "completed"
    },
    "tags": []
   },
   "outputs": [
    {
     "data": {
      "text/html": [
       "<div>\n",
       "<style scoped>\n",
       "    .dataframe tbody tr th:only-of-type {\n",
       "        vertical-align: middle;\n",
       "    }\n",
       "\n",
       "    .dataframe tbody tr th {\n",
       "        vertical-align: top;\n",
       "    }\n",
       "\n",
       "    .dataframe thead th {\n",
       "        text-align: right;\n",
       "    }\n",
       "</style>\n",
       "<table border=\"1\" class=\"dataframe\">\n",
       "  <thead>\n",
       "    <tr style=\"text-align: right;\">\n",
       "      <th></th>\n",
       "      <th>accuracy</th>\n",
       "      <th>f1_score</th>\n",
       "      <th>recall</th>\n",
       "      <th>precision</th>\n",
       "      <th>mean_squared_error</th>\n",
       "    </tr>\n",
       "  </thead>\n",
       "  <tbody>\n",
       "    <tr>\n",
       "      <th>LogRegress</th>\n",
       "      <td>0.905209</td>\n",
       "      <td>0.570822</td>\n",
       "      <td>0.822449</td>\n",
       "      <td>0.437093</td>\n",
       "      <td>0.094791</td>\n",
       "    </tr>\n",
       "    <tr>\n",
       "      <th>DecisionTree</th>\n",
       "      <td>0.943219</td>\n",
       "      <td>0.640238</td>\n",
       "      <td>0.659184</td>\n",
       "      <td>0.622351</td>\n",
       "      <td>0.056781</td>\n",
       "    </tr>\n",
       "    <tr>\n",
       "      <th>RandomForest</th>\n",
       "      <td>0.959643</td>\n",
       "      <td>0.712695</td>\n",
       "      <td>0.653061</td>\n",
       "      <td>0.784314</td>\n",
       "      <td>0.040357</td>\n",
       "    </tr>\n",
       "    <tr>\n",
       "      <th>NB</th>\n",
       "      <td>0.959643</td>\n",
       "      <td>0.712695</td>\n",
       "      <td>0.653061</td>\n",
       "      <td>0.784314</td>\n",
       "      <td>0.040357</td>\n",
       "    </tr>\n",
       "    <tr>\n",
       "      <th>SVC</th>\n",
       "      <td>0.949789</td>\n",
       "      <td>0.607099</td>\n",
       "      <td>0.506122</td>\n",
       "      <td>0.758410</td>\n",
       "      <td>0.050211</td>\n",
       "    </tr>\n",
       "    <tr>\n",
       "      <th>XGB</th>\n",
       "      <td>0.956671</td>\n",
       "      <td>0.697268</td>\n",
       "      <td>0.651020</td>\n",
       "      <td>0.750588</td>\n",
       "      <td>0.043329</td>\n",
       "    </tr>\n",
       "    <tr>\n",
       "      <th>LGBM</th>\n",
       "      <td>0.956359</td>\n",
       "      <td>0.693069</td>\n",
       "      <td>0.642857</td>\n",
       "      <td>0.751790</td>\n",
       "      <td>0.043641</td>\n",
       "    </tr>\n",
       "    <tr>\n",
       "      <th>KNeighbors</th>\n",
       "      <td>0.515407</td>\n",
       "      <td>0.230502</td>\n",
       "      <td>0.946939</td>\n",
       "      <td>0.131222</td>\n",
       "      <td>0.484593</td>\n",
       "    </tr>\n",
       "    <tr>\n",
       "      <th>KMeans</th>\n",
       "      <td>0.923354</td>\n",
       "      <td>0.886558</td>\n",
       "      <td>0.923354</td>\n",
       "      <td>0.852582</td>\n",
       "      <td>0.076646</td>\n",
       "    </tr>\n",
       "  </tbody>\n",
       "</table>\n",
       "</div>"
      ],
      "text/plain": [
       "              accuracy  f1_score    recall  precision  mean_squared_error\n",
       "LogRegress    0.905209  0.570822  0.822449   0.437093            0.094791\n",
       "DecisionTree  0.943219  0.640238  0.659184   0.622351            0.056781\n",
       "RandomForest  0.959643  0.712695  0.653061   0.784314            0.040357\n",
       "NB            0.959643  0.712695  0.653061   0.784314            0.040357\n",
       "SVC           0.949789  0.607099  0.506122   0.758410            0.050211\n",
       "XGB           0.956671  0.697268  0.651020   0.750588            0.043329\n",
       "LGBM          0.956359  0.693069  0.642857   0.751790            0.043641\n",
       "KNeighbors    0.515407  0.230502  0.946939   0.131222            0.484593\n",
       "KMeans        0.923354  0.886558  0.923354   0.852582            0.076646"
      ]
     },
     "execution_count": 44,
     "metadata": {},
     "output_type": "execute_result"
    }
   ],
   "source": [
    "ml_model_df = pd.DataFrame(model_outputs).T\n",
    "ml_model_df"
   ]
  },
  {
   "cell_type": "markdown",
   "id": "b44ea526",
   "metadata": {
    "id": "-vzoIpygEKjh",
    "papermill": {
     "duration": 0.033941,
     "end_time": "2023-06-16T12:51:34.824503",
     "exception": false,
     "start_time": "2023-06-16T12:51:34.790562",
     "status": "completed"
    },
    "tags": []
   },
   "source": [
    "#### LOGIC ---> Model Building"
   ]
  },
  {
   "cell_type": "code",
   "execution_count": 45,
   "id": "173c48f3",
   "metadata": {
    "execution": {
     "iopub.execute_input": "2023-06-16T12:51:34.895742Z",
     "iopub.status.busy": "2023-06-16T12:51:34.895092Z",
     "iopub.status.idle": "2023-06-16T12:51:34.903817Z",
     "shell.execute_reply": "2023-06-16T12:51:34.902966Z"
    },
    "id": "hqOfpq7hRH0L",
    "papermill": {
     "duration": 0.047176,
     "end_time": "2023-06-16T12:51:34.906294",
     "exception": false,
     "start_time": "2023-06-16T12:51:34.859118",
     "status": "completed"
    },
    "tags": []
   },
   "outputs": [],
   "source": [
    "def model_metrics(df, metric, rev_cond):\n",
    "  '''model_accuracy=list(df[df['accuracy']==max(df['accuracy'])].index)\n",
    "  model_f1score=list(df[df['f1_score']==max(df['f1_score'])].index)\n",
    "  model_mse=list(df[df['mean_squared_error']==min(df['mean_squared_error'])].index)'''\n",
    "\n",
    "  #model_accuracy= enumerate(df.sort_values(by='accuracy',axis=0, ascending=False).index)\n",
    "\n",
    "  # Create a dictionary to store the rankings\n",
    "  rankings = {}\n",
    "\n",
    "  # Loop through the dictionary to find the unique values and sort them in descending order\n",
    "  sorted_values = sorted(set(df[metric]), reverse=rev_cond)\n",
    "\n",
    "  # Loop through the sorted values and assign a rank to each key\n",
    "  for rank, value in enumerate(sorted_values, start=1):\n",
    "      # Find the keys that have this value\n",
    "      keys_with_value = [list(df[df[metric]==val].index) for val in df[metric].unique() if val==value ]\n",
    "\n",
    "      # If there's only one key with this value, add it to the rankings dictionary\n",
    "      if len(keys_with_value) == 1:\n",
    "          rankings[rank] = ', '.join(keys_with_value[0])\n",
    "      # If there are multiple keys with this value, add them as a list\n",
    "      else:\n",
    "          rankings[rank] = keys_with_value[0]\n",
    "\n",
    "  return rankings\n",
    "\n",
    "\n",
    "#dict(model_metrics(ml_model_df,'accuracy',True))"
   ]
  },
  {
   "cell_type": "markdown",
   "id": "c35d6c99",
   "metadata": {
    "id": "dc7ag0tYEWTi",
    "papermill": {
     "duration": 0.033933,
     "end_time": "2023-06-16T12:51:34.974843",
     "exception": false,
     "start_time": "2023-06-16T12:51:34.940910",
     "status": "completed"
    },
    "tags": []
   },
   "source": [
    "#### LOGIC ---> Model Output"
   ]
  },
  {
   "cell_type": "code",
   "execution_count": 46,
   "id": "4b9b6270",
   "metadata": {
    "execution": {
     "iopub.execute_input": "2023-06-16T12:51:35.044699Z",
     "iopub.status.busy": "2023-06-16T12:51:35.044274Z",
     "iopub.status.idle": "2023-06-16T12:51:35.059758Z",
     "shell.execute_reply": "2023-06-16T12:51:35.058543Z"
    },
    "id": "rbEjURP7fYjU",
    "outputId": "9933afcc-654e-4a65-ff46-39bbed39362e",
    "papermill": {
     "duration": 0.053424,
     "end_time": "2023-06-16T12:51:35.062188",
     "exception": false,
     "start_time": "2023-06-16T12:51:35.008764",
     "status": "completed"
    },
    "tags": []
   },
   "outputs": [
    {
     "data": {
      "text/html": [
       "<div>\n",
       "<style scoped>\n",
       "    .dataframe tbody tr th:only-of-type {\n",
       "        vertical-align: middle;\n",
       "    }\n",
       "\n",
       "    .dataframe tbody tr th {\n",
       "        vertical-align: top;\n",
       "    }\n",
       "\n",
       "    .dataframe thead th {\n",
       "        text-align: right;\n",
       "    }\n",
       "</style>\n",
       "<table border=\"1\" class=\"dataframe\">\n",
       "  <thead>\n",
       "    <tr style=\"text-align: right;\">\n",
       "      <th></th>\n",
       "      <th>accuracy</th>\n",
       "      <th>f1_score</th>\n",
       "      <th>recall</th>\n",
       "      <th>precision</th>\n",
       "      <th>mean_squared_error</th>\n",
       "    </tr>\n",
       "  </thead>\n",
       "  <tbody>\n",
       "    <tr>\n",
       "      <th>LogRegress</th>\n",
       "      <td>0.905209</td>\n",
       "      <td>0.570822</td>\n",
       "      <td>0.822449</td>\n",
       "      <td>0.437093</td>\n",
       "      <td>0.094791</td>\n",
       "    </tr>\n",
       "    <tr>\n",
       "      <th>DecisionTree</th>\n",
       "      <td>0.943219</td>\n",
       "      <td>0.640238</td>\n",
       "      <td>0.659184</td>\n",
       "      <td>0.622351</td>\n",
       "      <td>0.056781</td>\n",
       "    </tr>\n",
       "    <tr>\n",
       "      <th>RandomForest</th>\n",
       "      <td>0.959643</td>\n",
       "      <td>0.712695</td>\n",
       "      <td>0.653061</td>\n",
       "      <td>0.784314</td>\n",
       "      <td>0.040357</td>\n",
       "    </tr>\n",
       "    <tr>\n",
       "      <th>NB</th>\n",
       "      <td>0.959643</td>\n",
       "      <td>0.712695</td>\n",
       "      <td>0.653061</td>\n",
       "      <td>0.784314</td>\n",
       "      <td>0.040357</td>\n",
       "    </tr>\n",
       "    <tr>\n",
       "      <th>SVC</th>\n",
       "      <td>0.949789</td>\n",
       "      <td>0.607099</td>\n",
       "      <td>0.506122</td>\n",
       "      <td>0.758410</td>\n",
       "      <td>0.050211</td>\n",
       "    </tr>\n",
       "    <tr>\n",
       "      <th>XGB</th>\n",
       "      <td>0.956671</td>\n",
       "      <td>0.697268</td>\n",
       "      <td>0.651020</td>\n",
       "      <td>0.750588</td>\n",
       "      <td>0.043329</td>\n",
       "    </tr>\n",
       "    <tr>\n",
       "      <th>LGBM</th>\n",
       "      <td>0.956359</td>\n",
       "      <td>0.693069</td>\n",
       "      <td>0.642857</td>\n",
       "      <td>0.751790</td>\n",
       "      <td>0.043641</td>\n",
       "    </tr>\n",
       "    <tr>\n",
       "      <th>KNeighbors</th>\n",
       "      <td>0.515407</td>\n",
       "      <td>0.230502</td>\n",
       "      <td>0.946939</td>\n",
       "      <td>0.131222</td>\n",
       "      <td>0.484593</td>\n",
       "    </tr>\n",
       "    <tr>\n",
       "      <th>KMeans</th>\n",
       "      <td>0.923354</td>\n",
       "      <td>0.886558</td>\n",
       "      <td>0.923354</td>\n",
       "      <td>0.852582</td>\n",
       "      <td>0.076646</td>\n",
       "    </tr>\n",
       "  </tbody>\n",
       "</table>\n",
       "</div>"
      ],
      "text/plain": [
       "              accuracy  f1_score    recall  precision  mean_squared_error\n",
       "LogRegress    0.905209  0.570822  0.822449   0.437093            0.094791\n",
       "DecisionTree  0.943219  0.640238  0.659184   0.622351            0.056781\n",
       "RandomForest  0.959643  0.712695  0.653061   0.784314            0.040357\n",
       "NB            0.959643  0.712695  0.653061   0.784314            0.040357\n",
       "SVC           0.949789  0.607099  0.506122   0.758410            0.050211\n",
       "XGB           0.956671  0.697268  0.651020   0.750588            0.043329\n",
       "LGBM          0.956359  0.693069  0.642857   0.751790            0.043641\n",
       "KNeighbors    0.515407  0.230502  0.946939   0.131222            0.484593\n",
       "KMeans        0.923354  0.886558  0.923354   0.852582            0.076646"
      ]
     },
     "execution_count": 46,
     "metadata": {},
     "output_type": "execute_result"
    }
   ],
   "source": [
    "ml_model_df"
   ]
  },
  {
   "cell_type": "code",
   "execution_count": 47,
   "id": "658bccc1",
   "metadata": {
    "execution": {
     "iopub.execute_input": "2023-06-16T12:51:35.133054Z",
     "iopub.status.busy": "2023-06-16T12:51:35.132550Z",
     "iopub.status.idle": "2023-06-16T12:51:35.178279Z",
     "shell.execute_reply": "2023-06-16T12:51:35.176847Z"
    },
    "id": "bS-Wr6p9etZb",
    "outputId": "4d3d13c8-87cd-4637-ec39-1e2c9f05d363",
    "papermill": {
     "duration": 0.084773,
     "end_time": "2023-06-16T12:51:35.181330",
     "exception": false,
     "start_time": "2023-06-16T12:51:35.096557",
     "status": "completed"
    },
    "tags": []
   },
   "outputs": [
    {
     "data": {
      "text/html": [
       "<div>\n",
       "<style scoped>\n",
       "    .dataframe tbody tr th:only-of-type {\n",
       "        vertical-align: middle;\n",
       "    }\n",
       "\n",
       "    .dataframe tbody tr th {\n",
       "        vertical-align: top;\n",
       "    }\n",
       "\n",
       "    .dataframe thead th {\n",
       "        text-align: right;\n",
       "    }\n",
       "</style>\n",
       "<table border=\"1\" class=\"dataframe\">\n",
       "  <thead>\n",
       "    <tr style=\"text-align: right;\">\n",
       "      <th></th>\n",
       "      <th>accuracy</th>\n",
       "      <th>recall</th>\n",
       "      <th>precision</th>\n",
       "      <th>f1_score</th>\n",
       "      <th>MSE</th>\n",
       "    </tr>\n",
       "  </thead>\n",
       "  <tbody>\n",
       "    <tr>\n",
       "      <th>1</th>\n",
       "      <td>RandomForest, NB</td>\n",
       "      <td>KNeighbors</td>\n",
       "      <td>KMeans</td>\n",
       "      <td>KMeans</td>\n",
       "      <td>RandomForest, NB</td>\n",
       "    </tr>\n",
       "    <tr>\n",
       "      <th>2</th>\n",
       "      <td>XGB</td>\n",
       "      <td>KMeans</td>\n",
       "      <td>RandomForest, NB</td>\n",
       "      <td>RandomForest, NB</td>\n",
       "      <td>XGB</td>\n",
       "    </tr>\n",
       "    <tr>\n",
       "      <th>3</th>\n",
       "      <td>LGBM</td>\n",
       "      <td>LogRegress</td>\n",
       "      <td>SVC</td>\n",
       "      <td>XGB</td>\n",
       "      <td>LGBM</td>\n",
       "    </tr>\n",
       "    <tr>\n",
       "      <th>4</th>\n",
       "      <td>SVC</td>\n",
       "      <td>DecisionTree</td>\n",
       "      <td>LGBM</td>\n",
       "      <td>LGBM</td>\n",
       "      <td>SVC</td>\n",
       "    </tr>\n",
       "    <tr>\n",
       "      <th>5</th>\n",
       "      <td>DecisionTree</td>\n",
       "      <td>RandomForest, NB</td>\n",
       "      <td>XGB</td>\n",
       "      <td>DecisionTree</td>\n",
       "      <td>DecisionTree</td>\n",
       "    </tr>\n",
       "    <tr>\n",
       "      <th>6</th>\n",
       "      <td>KMeans</td>\n",
       "      <td>XGB</td>\n",
       "      <td>DecisionTree</td>\n",
       "      <td>SVC</td>\n",
       "      <td>KMeans</td>\n",
       "    </tr>\n",
       "    <tr>\n",
       "      <th>7</th>\n",
       "      <td>LogRegress</td>\n",
       "      <td>LGBM</td>\n",
       "      <td>LogRegress</td>\n",
       "      <td>LogRegress</td>\n",
       "      <td>LogRegress</td>\n",
       "    </tr>\n",
       "    <tr>\n",
       "      <th>8</th>\n",
       "      <td>KNeighbors</td>\n",
       "      <td>SVC</td>\n",
       "      <td>KNeighbors</td>\n",
       "      <td>KNeighbors</td>\n",
       "      <td>KNeighbors</td>\n",
       "    </tr>\n",
       "  </tbody>\n",
       "</table>\n",
       "</div>"
      ],
      "text/plain": [
       "           accuracy            recall         precision          f1_score  \\\n",
       "1  RandomForest, NB        KNeighbors            KMeans            KMeans   \n",
       "2               XGB            KMeans  RandomForest, NB  RandomForest, NB   \n",
       "3              LGBM        LogRegress               SVC               XGB   \n",
       "4               SVC      DecisionTree              LGBM              LGBM   \n",
       "5      DecisionTree  RandomForest, NB               XGB      DecisionTree   \n",
       "6            KMeans               XGB      DecisionTree               SVC   \n",
       "7        LogRegress              LGBM        LogRegress        LogRegress   \n",
       "8        KNeighbors               SVC        KNeighbors        KNeighbors   \n",
       "\n",
       "                MSE  \n",
       "1  RandomForest, NB  \n",
       "2               XGB  \n",
       "3              LGBM  \n",
       "4               SVC  \n",
       "5      DecisionTree  \n",
       "6            KMeans  \n",
       "7        LogRegress  \n",
       "8        KNeighbors  "
      ]
     },
     "execution_count": 47,
     "metadata": {},
     "output_type": "execute_result"
    }
   ],
   "source": [
    "best_model={}\n",
    "# accuracy measures how well the model can classify instances into their correct categories. A higher accuracy score indicates better performance of the model. [(TP+TN)/(TP+FP+TN+FN)]\n",
    "best_model['accuracy']=dict(model_metrics(ml_model_df,'accuracy',True))\n",
    "\n",
    "#Precision measures how many of the positive predictions by the model (positive y_pred) were actually correct (correct y_test).  [TP/(TP+FP)]\n",
    "#Recall measures how many of the actual positives (positive y_test) were correctly predicted by the model (correct y_pred).  [TP/(TP+FN)]\n",
    "#f1-score is the harmonic mean of precision and recall, and it ranges from 0 to 1, with 1 being the best possible score. An f1-score closer to 1 indicates a better performing model. [2*precision*recall/(precision+recall)]\n",
    "best_model['recall']=dict(model_metrics(ml_model_df,'recall',True))\n",
    "best_model['precision']=dict(model_metrics(ml_model_df,'precision',True))\n",
    "best_model['f1_score']=dict(model_metrics(ml_model_df,'f1_score',True))\n",
    "\n",
    "#MSE measures the average squared difference between the predicted and actual values (SSE= SST-SSR). It provides a measure of the quality of the model's predictions. A lower MSE indicates better performance of the model.\n",
    "# [sqrt(SSE/n)]\n",
    "best_model['MSE']=dict(model_metrics(ml_model_df,'mean_squared_error',False))\n",
    "\n",
    "ml_model_rankings = pd.DataFrame(best_model)\n",
    "ml_model_rankings"
   ]
  },
  {
   "cell_type": "code",
   "execution_count": 48,
   "id": "b11e4f6e",
   "metadata": {
    "execution": {
     "iopub.execute_input": "2023-06-16T12:51:35.252729Z",
     "iopub.status.busy": "2023-06-16T12:51:35.252296Z",
     "iopub.status.idle": "2023-06-16T12:51:35.279904Z",
     "shell.execute_reply": "2023-06-16T12:51:35.278549Z"
    },
    "id": "azFQu5NQg3sN",
    "outputId": "199a2112-78c6-40ba-e0ff-3414b0b373db",
    "papermill": {
     "duration": 0.065834,
     "end_time": "2023-06-16T12:51:35.282488",
     "exception": false,
     "start_time": "2023-06-16T12:51:35.216654",
     "status": "completed"
    },
    "tags": []
   },
   "outputs": [
    {
     "data": {
      "text/html": [
       "<div>\n",
       "<style scoped>\n",
       "    .dataframe tbody tr th:only-of-type {\n",
       "        vertical-align: middle;\n",
       "    }\n",
       "\n",
       "    .dataframe tbody tr th {\n",
       "        vertical-align: top;\n",
       "    }\n",
       "\n",
       "    .dataframe thead th {\n",
       "        text-align: right;\n",
       "    }\n",
       "</style>\n",
       "<table border=\"1\" class=\"dataframe\">\n",
       "  <thead>\n",
       "    <tr style=\"text-align: right;\">\n",
       "      <th></th>\n",
       "      <th>accuracy</th>\n",
       "      <th>f1_score</th>\n",
       "      <th>recall</th>\n",
       "      <th>precision</th>\n",
       "      <th>mean_squared_error</th>\n",
       "    </tr>\n",
       "  </thead>\n",
       "  <tbody>\n",
       "    <tr>\n",
       "      <th>LogRegress</th>\n",
       "      <td>0.877465</td>\n",
       "      <td>0.518736</td>\n",
       "      <td>0.717593</td>\n",
       "      <td>0.424021</td>\n",
       "      <td>0.122535</td>\n",
       "    </tr>\n",
       "    <tr>\n",
       "      <th>DecisionTree</th>\n",
       "      <td>0.963028</td>\n",
       "      <td>0.624544</td>\n",
       "      <td>0.347222</td>\n",
       "      <td>0.680837</td>\n",
       "      <td>0.036972</td>\n",
       "    </tr>\n",
       "    <tr>\n",
       "      <th>RandomForest</th>\n",
       "      <td>1.000000</td>\n",
       "      <td>0.734988</td>\n",
       "      <td>0.333333</td>\n",
       "      <td>0.905362</td>\n",
       "      <td>0.000000</td>\n",
       "    </tr>\n",
       "    <tr>\n",
       "      <th>NB</th>\n",
       "      <td>1.000000</td>\n",
       "      <td>0.734988</td>\n",
       "      <td>0.333333</td>\n",
       "      <td>0.905362</td>\n",
       "      <td>0.000000</td>\n",
       "    </tr>\n",
       "    <tr>\n",
       "      <th>SVC</th>\n",
       "      <td>0.977817</td>\n",
       "      <td>0.574032</td>\n",
       "      <td>0.000000</td>\n",
       "      <td>0.869452</td>\n",
       "      <td>0.022183</td>\n",
       "    </tr>\n",
       "    <tr>\n",
       "      <th>XGB</th>\n",
       "      <td>0.993310</td>\n",
       "      <td>0.711473</td>\n",
       "      <td>0.328704</td>\n",
       "      <td>0.858609</td>\n",
       "      <td>0.006690</td>\n",
       "    </tr>\n",
       "    <tr>\n",
       "      <th>LGBM</th>\n",
       "      <td>0.992606</td>\n",
       "      <td>0.705073</td>\n",
       "      <td>0.310185</td>\n",
       "      <td>0.860275</td>\n",
       "      <td>0.007394</td>\n",
       "    </tr>\n",
       "    <tr>\n",
       "      <th>KNeighbors</th>\n",
       "      <td>0.000000</td>\n",
       "      <td>0.000000</td>\n",
       "      <td>1.000000</td>\n",
       "      <td>0.000000</td>\n",
       "      <td>1.000000</td>\n",
       "    </tr>\n",
       "    <tr>\n",
       "      <th>KMeans</th>\n",
       "      <td>0.918310</td>\n",
       "      <td>1.000000</td>\n",
       "      <td>0.946497</td>\n",
       "      <td>1.000000</td>\n",
       "      <td>0.081690</td>\n",
       "    </tr>\n",
       "  </tbody>\n",
       "</table>\n",
       "</div>"
      ],
      "text/plain": [
       "              accuracy  f1_score    recall  precision  mean_squared_error\n",
       "LogRegress    0.877465  0.518736  0.717593   0.424021            0.122535\n",
       "DecisionTree  0.963028  0.624544  0.347222   0.680837            0.036972\n",
       "RandomForest  1.000000  0.734988  0.333333   0.905362            0.000000\n",
       "NB            1.000000  0.734988  0.333333   0.905362            0.000000\n",
       "SVC           0.977817  0.574032  0.000000   0.869452            0.022183\n",
       "XGB           0.993310  0.711473  0.328704   0.858609            0.006690\n",
       "LGBM          0.992606  0.705073  0.310185   0.860275            0.007394\n",
       "KNeighbors    0.000000  0.000000  1.000000   0.000000            1.000000\n",
       "KMeans        0.918310  1.000000  0.946497   1.000000            0.081690"
      ]
     },
     "execution_count": 48,
     "metadata": {},
     "output_type": "execute_result"
    }
   ],
   "source": [
    "from sklearn.preprocessing import MinMaxScaler, StandardScaler\n",
    "\n",
    "# For Min-Max normalization\n",
    "##scaler = MinMaxScaler()\n",
    "\n",
    "# For standardization\n",
    "#scaler = StandardScaler()\n",
    "scaler = MinMaxScaler()\n",
    "\n",
    "# Fit the scaler to the data\n",
    "scaler.fit(ml_model_df[['accuracy', 'recall','precision','f1_score', 'mean_squared_error']])\n",
    "# Normalize the data\n",
    "ml_model_df[['accuracy', 'recall','precision', 'f1_score', 'mean_squared_error']] = scaler.transform(ml_model_df[['accuracy', 'recall','precision', 'f1_score', 'mean_squared_error']])\n",
    "ml_model_df"
   ]
  },
  {
   "cell_type": "markdown",
   "id": "fd30525b",
   "metadata": {
    "id": "2XegZ9CAMYg9",
    "papermill": {
     "duration": 0.034628,
     "end_time": "2023-06-16T12:51:35.352195",
     "exception": false,
     "start_time": "2023-06-16T12:51:35.317567",
     "status": "completed"
    },
    "tags": []
   },
   "source": [
    "## ***Model Performance Visualization***"
   ]
  },
  {
   "cell_type": "code",
   "execution_count": 49,
   "id": "e7ec0391",
   "metadata": {
    "execution": {
     "iopub.execute_input": "2023-06-16T12:51:35.425038Z",
     "iopub.status.busy": "2023-06-16T12:51:35.424525Z",
     "iopub.status.idle": "2023-06-16T12:51:35.851150Z",
     "shell.execute_reply": "2023-06-16T12:51:35.850229Z"
    },
    "id": "4FIhzGwQdJfn",
    "outputId": "b441f247-9a4f-4a47-e123-62570494d91e",
    "papermill": {
     "duration": 0.467277,
     "end_time": "2023-06-16T12:51:35.855466",
     "exception": false,
     "start_time": "2023-06-16T12:51:35.388189",
     "status": "completed"
    },
    "tags": []
   },
   "outputs": [
    {
     "data": {
      "image/png": "[encoded data removed]",
      "text/plain": [
       "<Figure size 1500x700 with 1 Axes>"
      ]
     },
     "metadata": {},
     "output_type": "display_data"
    }
   ],
   "source": [
    "from matplotlib import markers\n",
    "#Visualizing output\n",
    "import matplotlib.pyplot as plt\n",
    "\n",
    "x_axis = list(ml_model_df.index)\n",
    "y_axis = list(ml_model_df.values)\n",
    "\n",
    "plt.figure(figsize=(15, 7))\n",
    "plt.plot(x_axis,y_axis, marker='o')\n",
    "plt.grid(color = 'green', linestyle = '--', linewidth = 0.5)\n",
    "\n",
    "# Add axis labels and a title\n",
    "plt.ylabel('Metrics Score')\n",
    "plt.xlabel('Machine Learning Model')\n",
    "plt.title('Performance Metrics Visualization', loc='center')\n",
    "plt.legend(ml_model_df.columns)\n",
    "plt.show()"
   ]
  },
  {
   "cell_type": "markdown",
   "id": "fca84869",
   "metadata": {
    "id": "ueapVC6PgGXw",
    "papermill": {
     "duration": 0.03785,
     "end_time": "2023-06-16T12:51:35.933697",
     "exception": false,
     "start_time": "2023-06-16T12:51:35.895847",
     "status": "completed"
    },
    "tags": []
   },
   "source": [
    "### ***MODEL SELECTION:***\n",
    "\n",
    "After Oversampling we have reflicated many records of lable 1, Hence we need to focus on **recall** score that implies out of actual positives values from dataset how much have are correctly predicted by the model. \n",
    "\n",
    "1. **Accuracy** of Random Forest, Naive Bayes, XgBoost and Light Gradient Boost are really high.\n",
    "2. **Recall** of Logistic Regression is much higher than other, maybe due to oversampling the model is unergone overfitt. As precision and mse are very low and high respectively. \n",
    "    And for Random Forest, Naive Bayes, XgBoost and Light Gradient Boost are bad but, more than 60%.\n",
    "3. **Precision** for Random Forest, Naive Bayes, XgBoost and Light Gradient Boost are good.\n",
    "4. **f1-score**  for Random Forest, Naive Bayes, XgBoost and Light Gradient Boost are good.\n",
    "5. **mean sq. error**  for Random Forest, Naive Bayes, XgBoost and Light Gradient Boost are very less.\n",
    "\n",
    "\n",
    "\n",
    "*In conclusion we will consider **Random Forest, Naive Bayes, XgBoost** and **Light Gradient** Models for our predictions.*"
   ]
  },
  {
   "cell_type": "markdown",
   "id": "c39cba3b",
   "metadata": {
    "id": "biebEC0Fhpdt",
    "papermill": {
     "duration": 0.03767,
     "end_time": "2023-06-16T12:51:36.009959",
     "exception": false,
     "start_time": "2023-06-16T12:51:35.972289",
     "status": "completed"
    },
    "tags": []
   },
   "source": [
    "## ***Predictive Analytics by ML models (with ANN)***\n",
    "\n",
    "Execution steps for less RAM consumption:\n",
    "\n",
    "    1. Data Collection\n",
    "    2. NLP Initialize\n",
    "    3. NLP Pre-Processing"
   ]
  },
  {
   "cell_type": "code",
   "execution_count": 50,
   "id": "41478273",
   "metadata": {
    "execution": {
     "iopub.execute_input": "2023-06-16T12:51:36.088086Z",
     "iopub.status.busy": "2023-06-16T12:51:36.087679Z",
     "iopub.status.idle": "2023-06-16T12:51:36.104875Z",
     "shell.execute_reply": "2023-06-16T12:51:36.103500Z"
    },
    "id": "u2SeVQuEh82k",
    "outputId": "f36e875f-4257-41df-9ee9-0713c5aedb09",
    "papermill": {
     "duration": 0.0587,
     "end_time": "2023-06-16T12:51:36.107451",
     "exception": false,
     "start_time": "2023-06-16T12:51:36.048751",
     "status": "completed"
    },
    "tags": []
   },
   "outputs": [
    {
     "data": {
      "text/html": [
       "<div>\n",
       "<style scoped>\n",
       "    .dataframe tbody tr th:only-of-type {\n",
       "        vertical-align: middle;\n",
       "    }\n",
       "\n",
       "    .dataframe tbody tr th {\n",
       "        vertical-align: top;\n",
       "    }\n",
       "\n",
       "    .dataframe thead th {\n",
       "        text-align: right;\n",
       "    }\n",
       "</style>\n",
       "<table border=\"1\" class=\"dataframe\">\n",
       "  <thead>\n",
       "    <tr style=\"text-align: right;\">\n",
       "      <th></th>\n",
       "      <th>id</th>\n",
       "      <th>label</th>\n",
       "      <th>tweet</th>\n",
       "      <th>tweet_bag</th>\n",
       "    </tr>\n",
       "  </thead>\n",
       "  <tbody>\n",
       "    <tr>\n",
       "      <th>0</th>\n",
       "      <td>1</td>\n",
       "      <td>0</td>\n",
       "      <td>father dysfunctional selfish drag kid dysfunct...</td>\n",
       "      <td>[father, dysfunctional, selfish, drag, kid, dy...</td>\n",
       "    </tr>\n",
       "    <tr>\n",
       "      <th>1</th>\n",
       "      <td>2</td>\n",
       "      <td>0</td>\n",
       "      <td>thank lyft credit use cause offer wheelchair v...</td>\n",
       "      <td>[thank, lyft, credit, use, cause, offer, wheel...</td>\n",
       "    </tr>\n",
       "    <tr>\n",
       "      <th>2</th>\n",
       "      <td>3</td>\n",
       "      <td>0</td>\n",
       "      <td>bihday majesty</td>\n",
       "      <td>[bihday, majesty]</td>\n",
       "    </tr>\n",
       "    <tr>\n",
       "      <th>3</th>\n",
       "      <td>4</td>\n",
       "      <td>0</td>\n",
       "      <td>model love time</td>\n",
       "      <td>[model, love, time]</td>\n",
       "    </tr>\n",
       "    <tr>\n",
       "      <th>4</th>\n",
       "      <td>5</td>\n",
       "      <td>0</td>\n",
       "      <td>factsguide society motivation</td>\n",
       "      <td>[factsguide, society, motivation]</td>\n",
       "    </tr>\n",
       "  </tbody>\n",
       "</table>\n",
       "</div>"
      ],
      "text/plain": [
       "   id  label                                              tweet  \\\n",
       "0   1      0  father dysfunctional selfish drag kid dysfunct...   \n",
       "1   2      0  thank lyft credit use cause offer wheelchair v...   \n",
       "2   3      0                                     bihday majesty   \n",
       "3   4      0                                    model love time   \n",
       "4   5      0                      factsguide society motivation   \n",
       "\n",
       "                                           tweet_bag  \n",
       "0  [father, dysfunctional, selfish, drag, kid, dy...  \n",
       "1  [thank, lyft, credit, use, cause, offer, wheel...  \n",
       "2                                  [bihday, majesty]  \n",
       "3                                [model, love, time]  \n",
       "4                  [factsguide, society, motivation]  "
      ]
     },
     "execution_count": 50,
     "metadata": {},
     "output_type": "execute_result"
    }
   ],
   "source": [
    "tweet_df.head()"
   ]
  },
  {
   "cell_type": "markdown",
   "id": "f2913dd1",
   "metadata": {
    "id": "utxJCKNz5H5R",
    "papermill": {
     "duration": 0.037719,
     "end_time": "2023-06-16T12:51:36.183676",
     "exception": false,
     "start_time": "2023-06-16T12:51:36.145957",
     "status": "completed"
    },
    "tags": []
   },
   "source": [
    "### ***INPUT Geneneration for Neural Network***"
   ]
  },
  {
   "cell_type": "markdown",
   "id": "5a7ba79a",
   "metadata": {
    "id": "sVJBvjAI3iot",
    "papermill": {
     "duration": 0.038429,
     "end_time": "2023-06-16T12:51:36.261000",
     "exception": false,
     "start_time": "2023-06-16T12:51:36.222571",
     "status": "completed"
    },
    "tags": []
   },
   "source": [
    "##### ***TD-IDF and Word2Vec***\n",
    "\n",
    "*While both techniques create numerical vectors from text data:*\n",
    "\n",
    " *tf-idf represents the **importance of each word in a document** relative to the corpus.*\n",
    "\n",
    " *While word2vec represents the **semantic meaning of words based on their co-occurrence patterns.***\n",
    "\n",
    " https://www.guru99.com/word-embedding-word2vec.html\n",
    "\n",
    " *Two types: CBOW and skip-gram*\n",
    "\n",
    "\n"
   ]
  },
  {
   "cell_type": "code",
   "execution_count": 51,
   "id": "3406ddec",
   "metadata": {
    "execution": {
     "iopub.execute_input": "2023-06-16T12:51:36.340180Z",
     "iopub.status.busy": "2023-06-16T12:51:36.339595Z",
     "iopub.status.idle": "2023-06-16T12:51:45.407283Z",
     "shell.execute_reply": "2023-06-16T12:51:45.405941Z"
    },
    "id": "GeKdyzhgyqLt",
    "outputId": "ab7879a5-64d9-41e9-e1af-f97d1032d194",
    "papermill": {
     "duration": 9.110753,
     "end_time": "2023-06-16T12:51:45.410102",
     "exception": false,
     "start_time": "2023-06-16T12:51:36.299349",
     "status": "completed"
    },
    "tags": []
   },
   "outputs": [
    {
     "data": {
      "text/plain": [
       "(3968036, 4191660)"
      ]
     },
     "execution_count": 51,
     "metadata": {},
     "output_type": "execute_result"
    }
   ],
   "source": [
    "#Finding Vectors based on there meanings in the sentences (semantic meaning with co-occurence words)\n",
    "from gensim.models import Word2Vec\n",
    "\n",
    "#min_count=1, minimum freq should be 1\n",
    "#sg = 0, if 1 for skip-gram; otherwise CBOW.\n",
    "#hs : 0, If 1, hierarchical softmax will be used for model training. Otherwise, 0\n",
    "\n",
    "wv_model =  Word2Vec(sentences=tweet_df['tweet_bag'], min_count=1, sg=0, hs=0, workers=4, vector_size=100)   #passing the output from BOW to the model\n",
    "wv_model.train(tweet_df['tweet_bag'], total_examples= len(tweet_df['tweet_bag']), epochs=20)"
   ]
  },
  {
   "cell_type": "code",
   "execution_count": 52,
   "id": "bc2d7e66",
   "metadata": {
    "execution": {
     "iopub.execute_input": "2023-06-16T12:51:45.487229Z",
     "iopub.status.busy": "2023-06-16T12:51:45.486799Z",
     "iopub.status.idle": "2023-06-16T12:51:45.516393Z",
     "shell.execute_reply": "2023-06-16T12:51:45.515061Z"
    },
    "id": "TDENSI_yvdfW",
    "outputId": "d0e35fa8-cb88-4ed3-cf3e-eb2ec0ab310d",
    "papermill": {
     "duration": 0.072781,
     "end_time": "2023-06-16T12:51:45.520570",
     "exception": false,
     "start_time": "2023-06-16T12:51:45.447789",
     "status": "completed"
    },
    "tags": []
   },
   "outputs": [
    {
     "data": {
      "text/plain": [
       "[('putin', 0.8779545426368713),\n",
       " ('donald', 0.869062066078186),\n",
       " ('dumptrump', 0.8618332147598267),\n",
       " ('fascist', 0.860852837562561),\n",
       " ('biher', 0.849299967288971),\n",
       " ('carlpaladino', 0.8484054803848267),\n",
       " ('killary', 0.8447814583778381),\n",
       " ('carl', 0.8447205424308777),\n",
       " ('bernie', 0.8424986600875854),\n",
       " ('nominee', 0.8414889574050903)]"
      ]
     },
     "execution_count": 52,
     "metadata": {},
     "output_type": "execute_result"
    }
   ],
   "source": [
    "wv_model.wv.most_similar(positive='trump')"
   ]
  },
  {
   "cell_type": "code",
   "execution_count": 53,
   "id": "09f70e59",
   "metadata": {
    "execution": {
     "iopub.execute_input": "2023-06-16T12:51:45.652042Z",
     "iopub.status.busy": "2023-06-16T12:51:45.651659Z",
     "iopub.status.idle": "2023-06-16T12:51:45.662548Z",
     "shell.execute_reply": "2023-06-16T12:51:45.661301Z"
    },
    "id": "ngoY6AjDwF6j",
    "outputId": "94a8d59b-53ae-43c7-cdd7-ec26cc67351c",
    "papermill": {
     "duration": 0.062063,
     "end_time": "2023-06-16T12:51:45.666347",
     "exception": false,
     "start_time": "2023-06-16T12:51:45.604284",
     "status": "completed"
    },
    "tags": []
   },
   "outputs": [
    {
     "data": {
      "text/plain": [
       "[('letsdoashotgun', 0.5746351480484009),\n",
       " ('bribieisland', 0.5376661419868469),\n",
       " ('awesomeday', 0.5163062810897827),\n",
       " ('dmj', 0.5161136388778687),\n",
       " ('ripstick', 0.515072226524353),\n",
       " ('reallife', 0.502529501914978),\n",
       " ('nextisnow', 0.4967474043369293),\n",
       " ('chasingdestiny', 0.48595207929611206),\n",
       " ('feijoadacr', 0.4742940664291382),\n",
       " ('witchktaft', 0.4699017405509949)]"
      ]
     },
     "execution_count": 53,
     "metadata": {},
     "output_type": "execute_result"
    }
   ],
   "source": [
    "wv_model.wv.most_similar(negative='india')"
   ]
  },
  {
   "cell_type": "code",
   "execution_count": 54,
   "id": "60e47021",
   "metadata": {
    "execution": {
     "iopub.execute_input": "2023-06-16T12:51:45.801614Z",
     "iopub.status.busy": "2023-06-16T12:51:45.801238Z",
     "iopub.status.idle": "2023-06-16T12:51:45.806021Z",
     "shell.execute_reply": "2023-06-16T12:51:45.805062Z"
    },
    "id": "eAr0FPxqLQnm",
    "papermill": {
     "duration": 0.0618,
     "end_time": "2023-06-16T12:51:45.808350",
     "exception": false,
     "start_time": "2023-06-16T12:51:45.746550",
     "status": "completed"
    },
    "tags": []
   },
   "outputs": [],
   "source": [
    "#wv_model.wv['india'] #vector representation for word 'india'"
   ]
  },
  {
   "cell_type": "code",
   "execution_count": 55,
   "id": "63111963",
   "metadata": {
    "execution": {
     "iopub.execute_input": "2023-06-16T12:51:45.886794Z",
     "iopub.status.busy": "2023-06-16T12:51:45.885404Z",
     "iopub.status.idle": "2023-06-16T12:51:45.893167Z",
     "shell.execute_reply": "2023-06-16T12:51:45.892151Z"
    },
    "id": "LTb5877z_3ZB",
    "outputId": "04d5e52a-9798-4ffa-9ecc-36f5556e0ff8",
    "papermill": {
     "duration": 0.049386,
     "end_time": "2023-06-16T12:51:45.895512",
     "exception": false,
     "start_time": "2023-06-16T12:51:45.846126",
     "status": "completed"
    },
    "tags": []
   },
   "outputs": [
    {
     "data": {
      "text/plain": [
       "100"
      ]
     },
     "execution_count": 55,
     "metadata": {},
     "output_type": "execute_result"
    }
   ],
   "source": [
    "wv_model.vector_size #same as ---> wv_model.wv['india'].shape"
   ]
  },
  {
   "cell_type": "code",
   "execution_count": 56,
   "id": "eb33c2d1",
   "metadata": {
    "execution": {
     "iopub.execute_input": "2023-06-16T12:51:45.974115Z",
     "iopub.status.busy": "2023-06-16T12:51:45.973712Z",
     "iopub.status.idle": "2023-06-16T12:51:45.982336Z",
     "shell.execute_reply": "2023-06-16T12:51:45.981147Z"
    },
    "id": "9V4Dalc0_9l2",
    "outputId": "caf1fd08-a627-4151-f1bc-360697027218",
    "papermill": {
     "duration": 0.050466,
     "end_time": "2023-06-16T12:51:45.984749",
     "exception": false,
     "start_time": "2023-06-16T12:51:45.934283",
     "status": "completed"
    },
    "tags": []
   },
   "outputs": [
    {
     "data": {
      "text/plain": [
       "(array([0., 0., 0., 0., 0.]),\n",
       " array([[0., 0., 0., 0., 0., 0., 0., 0., 0., 0.],\n",
       "        [0., 0., 0., 0., 0., 0., 0., 0., 0., 0.],\n",
       "        [0., 0., 0., 0., 0., 0., 0., 0., 0., 0.],\n",
       "        [0., 0., 0., 0., 0., 0., 0., 0., 0., 0.],\n",
       "        [0., 0., 0., 0., 0., 0., 0., 0., 0., 0.]]))"
      ]
     },
     "execution_count": 56,
     "metadata": {},
     "output_type": "execute_result"
    }
   ],
   "source": [
    "import numpy as np\n",
    "\n",
    "np.zeros(5), np.zeros((5,10))"
   ]
  },
  {
   "cell_type": "markdown",
   "id": "9c711233",
   "metadata": {
    "id": "8wTuxoJ4wjkU",
    "papermill": {
     "duration": 0.037688,
     "end_time": "2023-06-16T12:51:46.060887",
     "exception": false,
     "start_time": "2023-06-16T12:51:46.023199",
     "status": "completed"
    },
    "tags": []
   },
   "source": [
    "### ***Embedding Matrix***\n",
    "\n",
    "*Creating a embedding matrix from the Word2Vec model*"
   ]
  },
  {
   "cell_type": "code",
   "execution_count": 57,
   "id": "8f20ef78",
   "metadata": {
    "execution": {
     "iopub.execute_input": "2023-06-16T12:51:46.139843Z",
     "iopub.status.busy": "2023-06-16T12:51:46.139374Z",
     "iopub.status.idle": "2023-06-16T12:51:46.153725Z",
     "shell.execute_reply": "2023-06-16T12:51:46.152402Z"
    },
    "id": "UCvw7llzB80Z",
    "outputId": "5f9958ef-5a0f-4c28-e9fc-c87fb813ad9d",
    "papermill": {
     "duration": 0.056824,
     "end_time": "2023-06-16T12:51:46.156360",
     "exception": false,
     "start_time": "2023-06-16T12:51:46.099536",
     "status": "completed"
    },
    "tags": []
   },
   "outputs": [
    {
     "data": {
      "text/plain": [
       "array([[-0.03780947,  0.01687168, -0.03323532, ..., -0.10398135,\n",
       "         0.04987422, -0.00360946],\n",
       "       [ 0.        ,  0.        ,  0.        , ...,  0.        ,\n",
       "         0.        ,  0.        ],\n",
       "       [-0.09059175,  0.02634901,  0.02450743, ..., -0.00337566,\n",
       "        -0.01321317,  0.04931093],\n",
       "       ...,\n",
       "       [ 0.        ,  0.        ,  0.        , ...,  0.        ,\n",
       "         0.        ,  0.        ],\n",
       "       [ 0.        ,  0.        ,  0.        , ...,  0.        ,\n",
       "         0.        ,  0.        ],\n",
       "       [ 0.        ,  0.        ,  0.        , ...,  0.        ,\n",
       "         0.        ,  0.        ]])"
      ]
     },
     "execution_count": 57,
     "metadata": {},
     "output_type": "execute_result"
    }
   ],
   "source": [
    "# Define the maximum length of a tweet\n",
    "max_length = 50\n",
    "\n",
    "# Create a function to convert text data to numerical vectors using the Word2Vec model\n",
    "def vectorize_text(text):\n",
    "    # Create an empty array to store the vectorized text data\n",
    "    #print(text)\n",
    "    vectors = np.zeros((max_length, wv_model.vector_size))\n",
    "    # Loop through each word in the text data\n",
    "    for i, word in enumerate(text):\n",
    "        # If the word is in the Word2Vec model vocabulary, get its vector representation\n",
    "        if word in wv_model.wv.key_to_index:\n",
    "            vectors[i] = wv_model.wv[word]\n",
    "        # If the word is not in the Word2Vec model vocabulary, use a zero vector\n",
    "        else:\n",
    "            vectors[i] = np.zeros(wv_model.vector_size)\n",
    "    #print(vectors)\n",
    "    return vectors\n",
    "\n",
    "vectorize_text(tweet_df.iloc[3]['tweet'])"
   ]
  },
  {
   "cell_type": "code",
   "execution_count": 58,
   "id": "dbdc073a",
   "metadata": {
    "execution": {
     "iopub.execute_input": "2023-06-16T12:51:46.235319Z",
     "iopub.status.busy": "2023-06-16T12:51:46.234848Z",
     "iopub.status.idle": "2023-06-16T12:51:48.491863Z",
     "shell.execute_reply": "2023-06-16T12:51:48.490775Z"
    },
    "id": "qXbsB5H_ODTv",
    "outputId": "dc02a52c-8dbe-4e0a-b220-980eafc7bb26",
    "papermill": {
     "duration": 2.300657,
     "end_time": "2023-06-16T12:51:48.495503",
     "exception": false,
     "start_time": "2023-06-16T12:51:46.194846",
     "status": "completed"
    },
    "tags": []
   },
   "outputs": [
    {
     "data": {
      "text/html": [
       "<div>\n",
       "<style scoped>\n",
       "    .dataframe tbody tr th:only-of-type {\n",
       "        vertical-align: middle;\n",
       "    }\n",
       "\n",
       "    .dataframe tbody tr th {\n",
       "        vertical-align: top;\n",
       "    }\n",
       "\n",
       "    .dataframe thead th {\n",
       "        text-align: right;\n",
       "    }\n",
       "</style>\n",
       "<table border=\"1\" class=\"dataframe\">\n",
       "  <thead>\n",
       "    <tr style=\"text-align: right;\">\n",
       "      <th></th>\n",
       "      <th>id</th>\n",
       "      <th>label</th>\n",
       "      <th>tweet</th>\n",
       "      <th>tweet_bag</th>\n",
       "      <th>tweet_vector</th>\n",
       "    </tr>\n",
       "  </thead>\n",
       "  <tbody>\n",
       "    <tr>\n",
       "      <th>0</th>\n",
       "      <td>1</td>\n",
       "      <td>0</td>\n",
       "      <td>father dysfunctional selfish drag kid dysfunct...</td>\n",
       "      <td>[father, dysfunctional, selfish, drag, kid, dy...</td>\n",
       "      <td>[[-1.7449917793273926, -0.8006261587142944, 1....</td>\n",
       "    </tr>\n",
       "    <tr>\n",
       "      <th>1</th>\n",
       "      <td>2</td>\n",
       "      <td>0</td>\n",
       "      <td>thank lyft credit use cause offer wheelchair v...</td>\n",
       "      <td>[thank, lyft, credit, use, cause, offer, wheel...</td>\n",
       "      <td>[[-2.498167037963867, -1.3327043056488037, 1.6...</td>\n",
       "    </tr>\n",
       "    <tr>\n",
       "      <th>2</th>\n",
       "      <td>3</td>\n",
       "      <td>0</td>\n",
       "      <td>bihday majesty</td>\n",
       "      <td>[bihday, majesty]</td>\n",
       "      <td>[[-0.20147322118282318, -2.567058801651001, 1....</td>\n",
       "    </tr>\n",
       "    <tr>\n",
       "      <th>3</th>\n",
       "      <td>4</td>\n",
       "      <td>0</td>\n",
       "      <td>model love time</td>\n",
       "      <td>[model, love, time]</td>\n",
       "      <td>[[-0.7642348408699036, 1.5427579879760742, -0....</td>\n",
       "    </tr>\n",
       "    <tr>\n",
       "      <th>4</th>\n",
       "      <td>5</td>\n",
       "      <td>0</td>\n",
       "      <td>factsguide society motivation</td>\n",
       "      <td>[factsguide, society, motivation]</td>\n",
       "      <td>[[0.19698360562324524, 0.5804141759872437, 0.0...</td>\n",
       "    </tr>\n",
       "  </tbody>\n",
       "</table>\n",
       "</div>"
      ],
      "text/plain": [
       "   id  label                                              tweet  \\\n",
       "0   1      0  father dysfunctional selfish drag kid dysfunct...   \n",
       "1   2      0  thank lyft credit use cause offer wheelchair v...   \n",
       "2   3      0                                     bihday majesty   \n",
       "3   4      0                                    model love time   \n",
       "4   5      0                      factsguide society motivation   \n",
       "\n",
       "                                           tweet_bag  \\\n",
       "0  [father, dysfunctional, selfish, drag, kid, dy...   \n",
       "1  [thank, lyft, credit, use, cause, offer, wheel...   \n",
       "2                                  [bihday, majesty]   \n",
       "3                                [model, love, time]   \n",
       "4                  [factsguide, society, motivation]   \n",
       "\n",
       "                                        tweet_vector  \n",
       "0  [[-1.7449917793273926, -0.8006261587142944, 1....  \n",
       "1  [[-2.498167037963867, -1.3327043056488037, 1.6...  \n",
       "2  [[-0.20147322118282318, -2.567058801651001, 1....  \n",
       "3  [[-0.7642348408699036, 1.5427579879760742, -0....  \n",
       "4  [[0.19698360562324524, 0.5804141759872437, 0.0...  "
      ]
     },
     "execution_count": 58,
     "metadata": {},
     "output_type": "execute_result"
    }
   ],
   "source": [
    "#applying word2Vec to all rows and padding \"sequences of zeros\" to maintain same shape of each vector\n",
    "import tensorflow as tf\n",
    "tweet_df['tweet_vector'] = tweet_df['tweet_bag'].apply(vectorize_text)\n",
    "\n",
    "tweet_df.head()"
   ]
  },
  {
   "cell_type": "code",
   "execution_count": 59,
   "id": "9588134f",
   "metadata": {
    "execution": {
     "iopub.execute_input": "2023-06-16T12:51:48.649839Z",
     "iopub.status.busy": "2023-06-16T12:51:48.648525Z",
     "iopub.status.idle": "2023-06-16T12:51:48.661789Z",
     "shell.execute_reply": "2023-06-16T12:51:48.660822Z"
    },
    "id": "8TSfBTuAhB5D",
    "papermill": {
     "duration": 0.058266,
     "end_time": "2023-06-16T12:51:48.664517",
     "exception": false,
     "start_time": "2023-06-16T12:51:48.606251",
     "status": "completed"
    },
    "tags": []
   },
   "outputs": [],
   "source": [
    "#Train and test split\n",
    "from sklearn.model_selection import train_test_split\n",
    "\n",
    "x= tweet_df.tweet_vector\n",
    "y= tweet_df.label\n",
    "\n",
    "x_train, x_test, y_train, y_test = train_test_split(x, y , test_size=.20, shuffle=True, random_state=41)"
   ]
  },
  {
   "cell_type": "code",
   "execution_count": 60,
   "id": "29253e74",
   "metadata": {
    "execution": {
     "iopub.execute_input": "2023-06-16T12:51:48.748831Z",
     "iopub.status.busy": "2023-06-16T12:51:48.747583Z",
     "iopub.status.idle": "2023-06-16T12:51:49.477376Z",
     "shell.execute_reply": "2023-06-16T12:51:49.475977Z"
    },
    "id": "v-sSpXCiFte-",
    "papermill": {
     "duration": 0.774813,
     "end_time": "2023-06-16T12:51:49.480681",
     "exception": false,
     "start_time": "2023-06-16T12:51:48.705868",
     "status": "completed"
    },
    "tags": []
   },
   "outputs": [],
   "source": [
    "# Convert the training and testing data to 3D numpy arrays\n",
    "x_train = np.array([vec for vec in x_train])\n",
    "x_test = np.array([vec for vec in x_test])"
   ]
  },
  {
   "cell_type": "markdown",
   "id": "2bcfd221",
   "metadata": {
    "id": "I_cqD-X-4Cxu",
    "papermill": {
     "duration": 0.039033,
     "end_time": "2023-06-16T12:51:49.560250",
     "exception": false,
     "start_time": "2023-06-16T12:51:49.521217",
     "status": "completed"
    },
    "tags": []
   },
   "source": [
    "https://www.guru99.com/convnet-tensorflow-image-classification.html\n",
    "\n",
    "https://chat.openai.com/c/2794ed6d-a46b-4aa2-8d66-136e4e8af8f3 set 2/4 and then study"
   ]
  },
  {
   "cell_type": "markdown",
   "id": "239d4de6",
   "metadata": {
    "id": "LBpugWenxmwS",
    "papermill": {
     "duration": 0.041644,
     "end_time": "2023-06-16T12:51:49.642081",
     "exception": false,
     "start_time": "2023-06-16T12:51:49.600437",
     "status": "completed"
    },
    "tags": []
   },
   "source": [
    "### ***CNN Architecture and Prediction***"
   ]
  },
  {
   "cell_type": "code",
   "execution_count": 61,
   "id": "41846687",
   "metadata": {
    "execution": {
     "iopub.execute_input": "2023-06-16T12:51:49.724338Z",
     "iopub.status.busy": "2023-06-16T12:51:49.723921Z",
     "iopub.status.idle": "2023-06-16T12:51:49.729874Z",
     "shell.execute_reply": "2023-06-16T12:51:49.728554Z"
    },
    "id": "uFIQ2MHjm_z7",
    "papermill": {
     "duration": 0.049217,
     "end_time": "2023-06-16T12:51:49.732472",
     "exception": false,
     "start_time": "2023-06-16T12:51:49.683255",
     "status": "completed"
    },
    "tags": []
   },
   "outputs": [],
   "source": [
    "from keras.models import Sequential\n",
    "from keras.layers import  Embedding, Conv1D, GlobalMaxPooling1D, Dropout,Flatten, Dense,MaxPooling1D,LSTM"
   ]
  },
  {
   "cell_type": "markdown",
   "id": "f921061e",
   "metadata": {
    "id": "QBbTkj3S3RTR",
    "papermill": {
     "duration": 0.04104,
     "end_time": "2023-06-16T12:51:49.817067",
     "exception": false,
     "start_time": "2023-06-16T12:51:49.776027",
     "status": "completed"
    },
    "tags": []
   },
   "source": [
    "#### ***CNN Architecture***\n",
    "\n",
    "***Conv1D layer:***\n",
    "\n",
    "    This layer will apply filters to our word vectors to detect features. We'll use 128 filters with a kernel size of 5.\n",
    "\n",
    "***MaxPooling1D layer:***\n",
    "\n",
    "    This layer will reduce the dimensionality of our feature maps. We'll use a pool size of 2.\n",
    "    output_shape = (input_shape - pool_size + 1) / strides)\n",
    "***Flatten layer:***\n",
    "\n",
    "    This layer will convert our 2D feature maps into a 1D vector.\n",
    "\n",
    "***Dense layer:***\n",
    "\n",
    "    1. The Dense layer with \"n\" units and ReLU activation is added in the code to perform non-linear transformations on the input data.\n",
    "    2. The output of the previous layer, which is the flattened layer, contains a large number of features.\n",
    "    3. The dense layer is added to reduce the number of features to a smaller and more manageable size, which improves the training performance of the model.\n",
    "    4. The ReLU activation function is used to introduce non-linearity into the model,\n",
    "         which allows the model to learn complex relationships between the input data and the output labels.\n",
    "\n",
    "***Output Dense layer:***\n",
    "\n",
    "    This layer will be our output layer, with a single neuron and a sigmoid activation function."
   ]
  },
  {
   "cell_type": "code",
   "execution_count": 62,
   "id": "3bc666f2",
   "metadata": {
    "execution": {
     "iopub.execute_input": "2023-06-16T12:51:49.898698Z",
     "iopub.status.busy": "2023-06-16T12:51:49.898251Z",
     "iopub.status.idle": "2023-06-16T12:51:50.187658Z",
     "shell.execute_reply": "2023-06-16T12:51:50.186194Z"
    },
    "id": "4ASwCO_93Mb7",
    "papermill": {
     "duration": 0.333241,
     "end_time": "2023-06-16T12:51:50.190677",
     "exception": false,
     "start_time": "2023-06-16T12:51:49.857436",
     "status": "completed"
    },
    "tags": []
   },
   "outputs": [],
   "source": [
    "# Add convolutional layer with 128 and 64 filters, kernel size of 5 and 3, and ReLU activation\n",
    "model = Sequential()\n",
    "\n",
    "#for creating embedding matrix\n",
    "#model.add(Embedding(input_dim=len(wv_model.wv.key_to_index), output_dim=wv_model.vector_size, input_length=max_length, weights=[wv_model.wv.vectors]))\n",
    "model.add(Conv1D(filters=128, kernel_size=5, activation='relu', input_shape=(max_length, wv_model.vector_size)))\n",
    "\n",
    "# Add max pooling layer\n",
    "##pool size --> size of max pooling window\n",
    "model.add(MaxPooling1D(pool_size=4))\n",
    "\n",
    "model.add(Conv1D(filters=70, kernel_size=3, activation='relu', input_shape=(max_length, wv_model.vector_size)))\n",
    "model.add(MaxPooling1D(pool_size=4))\n",
    "\n",
    "# Flatten the output\n",
    "model.add(Flatten())\n",
    "\n",
    "# Add dense layer with 64 units/neurons and ReLU activation\n",
    "model.add(Dense(units=128, activation='relu'))\n",
    "\n",
    "#model.add(Dropout(rate=0.2))\n",
    "\n",
    "# Add output layer with sigmoid activation\n",
    "model.add(Dense(1, activation='sigmoid'))"
   ]
  },
  {
   "cell_type": "markdown",
   "id": "52ce7093",
   "metadata": {
    "id": "w683uv575Fny",
    "papermill": {
     "duration": 0.039481,
     "end_time": "2023-06-16T12:51:50.269865",
     "exception": false,
     "start_time": "2023-06-16T12:51:50.230384",
     "status": "completed"
    },
    "tags": []
   },
   "source": []
  },
  {
   "cell_type": "code",
   "execution_count": 63,
   "id": "b12579a3",
   "metadata": {
    "execution": {
     "iopub.execute_input": "2023-06-16T12:51:50.350449Z",
     "iopub.status.busy": "2023-06-16T12:51:50.350036Z",
     "iopub.status.idle": "2023-06-16T12:51:50.373444Z",
     "shell.execute_reply": "2023-06-16T12:51:50.372256Z"
    },
    "id": "W5y1dx_zDQU_",
    "papermill": {
     "duration": 0.067767,
     "end_time": "2023-06-16T12:51:50.376770",
     "exception": false,
     "start_time": "2023-06-16T12:51:50.309003",
     "status": "completed"
    },
    "tags": []
   },
   "outputs": [],
   "source": [
    "model.compile(optimizer='adam', loss='binary_crossentropy', metrics=['accuracy'])"
   ]
  },
  {
   "cell_type": "code",
   "execution_count": 64,
   "id": "57532be2",
   "metadata": {
    "execution": {
     "iopub.execute_input": "2023-06-16T12:51:50.460752Z",
     "iopub.status.busy": "2023-06-16T12:51:50.459514Z",
     "iopub.status.idle": "2023-06-16T12:51:50.468411Z",
     "shell.execute_reply": "2023-06-16T12:51:50.467364Z"
    },
    "id": "E9oJ01HdSS0e",
    "outputId": "29646a11-6f87-4569-babd-11944ab399cf",
    "papermill": {
     "duration": 0.0539,
     "end_time": "2023-06-16T12:51:50.470993",
     "exception": false,
     "start_time": "2023-06-16T12:51:50.417093",
     "status": "completed"
    },
    "tags": []
   },
   "outputs": [
    {
     "data": {
      "text/plain": [
       "((25569, 50, 100), (6393, 50, 100), 25569, 5113)"
      ]
     },
     "execution_count": 64,
     "metadata": {},
     "output_type": "execute_result"
    }
   ],
   "source": [
    "batch_size= len(x_train)//5 ## reducing the m/m consumption\n",
    "x_train.shape, x_test.shape, len(x_train), batch_size"
   ]
  },
  {
   "cell_type": "code",
   "execution_count": 65,
   "id": "501db553",
   "metadata": {
    "execution": {
     "iopub.execute_input": "2023-06-16T12:51:50.552658Z",
     "iopub.status.busy": "2023-06-16T12:51:50.551984Z",
     "iopub.status.idle": "2023-06-16T12:53:14.834759Z",
     "shell.execute_reply": "2023-06-16T12:53:14.833516Z"
    },
    "id": "QS7s8499DRF_",
    "outputId": "193c2349-b30a-4029-f7c8-f5003b8c0bad",
    "papermill": {
     "duration": 84.326304,
     "end_time": "2023-06-16T12:53:14.837371",
     "exception": false,
     "start_time": "2023-06-16T12:51:50.511067",
     "status": "completed"
    },
    "tags": []
   },
   "outputs": [
    {
     "name": "stdout",
     "output_type": "stream",
     "text": [
      "Epoch 1/10\n",
      "6/6 [==============================] - 11s 2s/step - loss: 0.4638 - accuracy: 0.7980 - val_loss: 0.2933 - val_accuracy: 0.9315\n",
      "Epoch 2/10\n",
      "6/6 [==============================] - 8s 1s/step - loss: 0.3002 - accuracy: 0.9315 - val_loss: 0.2714 - val_accuracy: 0.9315\n",
      "Epoch 3/10\n",
      "6/6 [==============================] - 8s 1s/step - loss: 0.2471 - accuracy: 0.9315 - val_loss: 0.2134 - val_accuracy: 0.9315\n",
      "Epoch 4/10\n",
      "6/6 [==============================] - 8s 1s/step - loss: 0.2190 - accuracy: 0.9315 - val_loss: 0.2316 - val_accuracy: 0.9315\n",
      "Epoch 5/10\n",
      "6/6 [==============================] - 8s 1s/step - loss: 0.2269 - accuracy: 0.9315 - val_loss: 0.2088 - val_accuracy: 0.9315\n",
      "Epoch 6/10\n",
      "6/6 [==============================] - 8s 1s/step - loss: 0.2012 - accuracy: 0.9315 - val_loss: 0.1938 - val_accuracy: 0.9315\n",
      "Epoch 7/10\n",
      "6/6 [==============================] - 8s 1s/step - loss: 0.1950 - accuracy: 0.9315 - val_loss: 0.1955 - val_accuracy: 0.9315\n",
      "Epoch 8/10\n",
      "6/6 [==============================] - 7s 1s/step - loss: 0.1923 - accuracy: 0.9315 - val_loss: 0.1846 - val_accuracy: 0.9315\n",
      "Epoch 9/10\n",
      "6/6 [==============================] - 8s 1s/step - loss: 0.1821 - accuracy: 0.9315 - val_loss: 0.1782 - val_accuracy: 0.9327\n",
      "Epoch 10/10\n",
      "6/6 [==============================] - 8s 1s/step - loss: 0.1770 - accuracy: 0.9340 - val_loss: 0.1746 - val_accuracy: 0.9382\n"
     ]
    },
    {
     "data": {
      "text/plain": [
       "<keras.callbacks.History at 0x7e496c5855a0>"
      ]
     },
     "execution_count": 65,
     "metadata": {},
     "output_type": "execute_result"
    }
   ],
   "source": [
    "#batch_size: Integer or `None`. Trains the model for a fixed number of epochs (dataset iterations)\n",
    "#In each iteration (epochs) pass the data in batches and\n",
    "\n",
    "model.fit(x_train, y_train, epochs=10, batch_size=batch_size, validation_data=[x_train,y_train])"
   ]
  },
  {
   "cell_type": "code",
   "execution_count": 66,
   "id": "e00dbff3",
   "metadata": {
    "execution": {
     "iopub.execute_input": "2023-06-16T12:53:14.930658Z",
     "iopub.status.busy": "2023-06-16T12:53:14.929825Z",
     "iopub.status.idle": "2023-06-16T12:53:16.475248Z",
     "shell.execute_reply": "2023-06-16T12:53:16.473563Z"
    },
    "id": "6WAgq5Gb5FOr",
    "outputId": "aa2fe65b-c717-43a3-d3d9-072572ca7913",
    "papermill": {
     "duration": 1.595183,
     "end_time": "2023-06-16T12:53:16.477872",
     "exception": false,
     "start_time": "2023-06-16T12:53:14.882689",
     "status": "completed"
    },
    "tags": []
   },
   "outputs": [
    {
     "name": "stdout",
     "output_type": "stream",
     "text": [
      "200/200 [==============================] - 1s 5ms/step\n",
      "Accuracy: 0.9318004066948224\n",
      "Precision: 0.7109375\n",
      "Recall: 0.18571428571428572\n",
      "F1 score: 0.2944983818770227\n",
      "MSE: 0.06819959330517754\n"
     ]
    }
   ],
   "source": [
    "# Make predictions on test data\n",
    "y_pred = model.predict(x_test)\n",
    "\n",
    "# Convert predictions to binary labels\n",
    "y_pred = np.where(y_pred > 0.5, 1, 0)\n",
    "\n",
    "# Evaluate the model on test data\n",
    "from sklearn.metrics import accuracy_score, precision_score, recall_score, f1_score, mean_squared_error\n",
    "\n",
    "print(\"Accuracy:\", accuracy_score(y_test, y_pred))\n",
    "print(\"Precision:\", precision_score(y_test, y_pred))\n",
    "print(\"Recall:\", recall_score(y_test, y_pred))\n",
    "print(\"F1 score:\", f1_score(y_test, y_pred))\n",
    "print(\"MSE:\", mean_squared_error(y_test, y_pred))"
   ]
  }
 ],
 "metadata": {
  "kernelspec": {
   "display_name": "Python 3",
   "language": "python",
   "name": "python3"
  },
  "language_info": {
   "codemirror_mode": {
    "name": "ipython",
    "version": 3
   },
   "file_extension": ".py",
   "mimetype": "text/x-python",
   "name": "python",
   "nbconvert_exporter": "python",
   "pygments_lexer": "ipython3",
   "version": "3.10.10"
  },
  "papermill": {
   "default_parameters": {},
   "duration": 1085.350921,
   "end_time": "2023-06-16T12:53:19.558730",
   "environment_variables": {},
   "exception": null,
   "input_path": "__notebook__.ipynb",
   "output_path": "__notebook__.ipynb",
   "parameters": {},
   "start_time": "2023-06-16T12:35:14.207809",
   "version": "2.4.0"
  }
 },
 "nbformat": 4,
 "nbformat_minor": 5
}
