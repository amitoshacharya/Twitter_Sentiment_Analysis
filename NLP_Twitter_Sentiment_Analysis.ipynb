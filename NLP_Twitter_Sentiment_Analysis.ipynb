{
  "cells": [
    {
      "cell_type": "markdown",
      "metadata": {
        "id": "view-in-github",
        "colab_type": "text"
      },
      "source": [
        "<a href=\"https://colab.research.google.com/github/amitoshacharya/Twitter_Sentiment_Analysis/blob/main/NLP_Twitter_Sentiment_Analysis.ipynb\" target=\"_parent\"><img src=\"https://colab.research.google.com/assets/colab-badge.svg\" alt=\"Open In Colab\"/></a>"
      ]
    },
    {
      "cell_type": "markdown",
      "metadata": {
        "id": "7tarc3AXUX6N"
      },
      "source": [
        "#*Problem Statement:*\n",
        "The objective of this task is to detect hate speech in tweets. For the sake of simplicity, we say a tweet contains hate speech if it has a racist or sexist sentiment associated with it. So, the task is to classify racist or sexist tweets from other tweets. Formally, given a training sample of tweets and labels, where label ‘1’ denotes the tweet is racist/sexist and label ‘0’ denotes the tweet is not racist/sexist, your objective is to predict the labels on the given test dataset."
      ]
    },
    {
      "cell_type": "markdown",
      "source": [
        "##***Data Collection***"
      ],
      "metadata": {
        "id": "dTVK6PyR-iUp"
      }
    },
    {
      "cell_type": "code",
      "execution_count": 1,
      "metadata": {
        "colab": {
          "base_uri": "https://localhost:8080/"
        },
        "id": "4TW90NPUXehU",
        "outputId": "b6894285-c150-4fcd-89be-3f0468e5150d"
      },
      "outputs": [
        {
          "output_type": "stream",
          "name": "stdout",
          "text": [
            "Cloning into 'Twitter_Sentiment_Analysis-Using-ML-and-NLP'...\n",
            "remote: Enumerating objects: 32, done.\u001b[K\n",
            "remote: Counting objects: 100% (32/32), done.\u001b[K\n",
            "remote: Compressing objects: 100% (29/29), done.\u001b[K\n",
            "remote: Total 32 (delta 11), reused 14 (delta 1), pack-reused 0\u001b[K\n",
            "Unpacking objects: 100% (32/32), 2.65 MiB | 2.83 MiB/s, done.\n"
          ]
        }
      ],
      "source": [
        "#GIT CLonning to get dataset from GitHub\n",
        "!git clone https://github.com/mangipudiprashanth7/Twitter_Sentiment_Analysis-Using-ML-and-NLP.git"
      ]
    },
    {
      "cell_type": "code",
      "execution_count": 2,
      "metadata": {
        "colab": {
          "base_uri": "https://localhost:8080/"
        },
        "id": "GySHIpj1aItU",
        "outputId": "7854e476-9d4d-43b5-caa9-db52031e4f7f"
      },
      "outputs": [
        {
          "output_type": "stream",
          "name": "stdout",
          "text": [
            "/content/Twitter_Sentiment_Analysis-Using-ML-and-NLP/Data\n"
          ]
        }
      ],
      "source": [
        "%cd Twitter_Sentiment_Analysis-Using-ML-and-NLP/Data/"
      ]
    },
    {
      "cell_type": "code",
      "execution_count": 3,
      "metadata": {
        "colab": {
          "base_uri": "https://localhost:8080/"
        },
        "id": "AQ6HInyIaafr",
        "outputId": "71863c59-3c94-4609-f8fb-155d5062b752"
      },
      "outputs": [
        {
          "output_type": "stream",
          "name": "stdout",
          "text": [
            "test_tweets_anuFYb8.csv  train_E6oV3lV.csv\n"
          ]
        }
      ],
      "source": [
        "!ls"
      ]
    },
    {
      "cell_type": "code",
      "execution_count": 4,
      "metadata": {
        "id": "DQIEf6zgaeqb"
      },
      "outputs": [],
      "source": [
        "#Reading files\n",
        "import pandas as pd\n",
        "\n",
        "train_twt = pd.read_csv('train_E6oV3lV.csv')\n",
        "test_twt= pd.read_csv('test_tweets_anuFYb8.csv')"
      ]
    },
    {
      "cell_type": "code",
      "execution_count": 5,
      "metadata": {
        "colab": {
          "base_uri": "https://localhost:8080/",
          "height": 0
        },
        "id": "5h7glu8IbORE",
        "outputId": "56ee60c8-3fa0-4772-b7b8-da0e18d5e94b"
      },
      "outputs": [
        {
          "output_type": "execute_result",
          "data": {
            "text/plain": [
              "      id                                              tweet\n",
              "0  31963  #studiolife #aislife #requires #passion #dedic...\n",
              "1  31964   @user #white #supremacists want everyone to s...\n",
              "2  31965  safe ways to heal your #acne!!    #altwaystohe...\n",
              "3  31966  is the hp and the cursed child book up for res...\n",
              "4  31967    3rd #bihday to my amazing, hilarious #nephew..."
            ],
            "text/html": [
              "\n",
              "  <div id=\"df-00a8515b-8854-41d7-9546-0644fb1395ab\">\n",
              "    <div class=\"colab-df-container\">\n",
              "      <div>\n",
              "<style scoped>\n",
              "    .dataframe tbody tr th:only-of-type {\n",
              "        vertical-align: middle;\n",
              "    }\n",
              "\n",
              "    .dataframe tbody tr th {\n",
              "        vertical-align: top;\n",
              "    }\n",
              "\n",
              "    .dataframe thead th {\n",
              "        text-align: right;\n",
              "    }\n",
              "</style>\n",
              "<table border=\"1\" class=\"dataframe\">\n",
              "  <thead>\n",
              "    <tr style=\"text-align: right;\">\n",
              "      <th></th>\n",
              "      <th>id</th>\n",
              "      <th>tweet</th>\n",
              "    </tr>\n",
              "  </thead>\n",
              "  <tbody>\n",
              "    <tr>\n",
              "      <th>0</th>\n",
              "      <td>31963</td>\n",
              "      <td>#studiolife #aislife #requires #passion #dedic...</td>\n",
              "    </tr>\n",
              "    <tr>\n",
              "      <th>1</th>\n",
              "      <td>31964</td>\n",
              "      <td>@user #white #supremacists want everyone to s...</td>\n",
              "    </tr>\n",
              "    <tr>\n",
              "      <th>2</th>\n",
              "      <td>31965</td>\n",
              "      <td>safe ways to heal your #acne!!    #altwaystohe...</td>\n",
              "    </tr>\n",
              "    <tr>\n",
              "      <th>3</th>\n",
              "      <td>31966</td>\n",
              "      <td>is the hp and the cursed child book up for res...</td>\n",
              "    </tr>\n",
              "    <tr>\n",
              "      <th>4</th>\n",
              "      <td>31967</td>\n",
              "      <td>3rd #bihday to my amazing, hilarious #nephew...</td>\n",
              "    </tr>\n",
              "  </tbody>\n",
              "</table>\n",
              "</div>\n",
              "      <button class=\"colab-df-convert\" onclick=\"convertToInteractive('df-00a8515b-8854-41d7-9546-0644fb1395ab')\"\n",
              "              title=\"Convert this dataframe to an interactive table.\"\n",
              "              style=\"display:none;\">\n",
              "        \n",
              "  <svg xmlns=\"http://www.w3.org/2000/svg\" height=\"24px\"viewBox=\"0 0 24 24\"\n",
              "       width=\"24px\">\n",
              "    <path d=\"M0 0h24v24H0V0z\" fill=\"none\"/>\n",
              "    <path d=\"M18.56 5.44l.94 2.06.94-2.06 2.06-.94-2.06-.94-.94-2.06-.94 2.06-2.06.94zm-11 1L8.5 8.5l.94-2.06 2.06-.94-2.06-.94L8.5 2.5l-.94 2.06-2.06.94zm10 10l.94 2.06.94-2.06 2.06-.94-2.06-.94-.94-2.06-.94 2.06-2.06.94z\"/><path d=\"M17.41 7.96l-1.37-1.37c-.4-.4-.92-.59-1.43-.59-.52 0-1.04.2-1.43.59L10.3 9.45l-7.72 7.72c-.78.78-.78 2.05 0 2.83L4 21.41c.39.39.9.59 1.41.59.51 0 1.02-.2 1.41-.59l7.78-7.78 2.81-2.81c.8-.78.8-2.07 0-2.86zM5.41 20L4 18.59l7.72-7.72 1.47 1.35L5.41 20z\"/>\n",
              "  </svg>\n",
              "      </button>\n",
              "      \n",
              "  <style>\n",
              "    .colab-df-container {\n",
              "      display:flex;\n",
              "      flex-wrap:wrap;\n",
              "      gap: 12px;\n",
              "    }\n",
              "\n",
              "    .colab-df-convert {\n",
              "      background-color: #E8F0FE;\n",
              "      border: none;\n",
              "      border-radius: 50%;\n",
              "      cursor: pointer;\n",
              "      display: none;\n",
              "      fill: #1967D2;\n",
              "      height: 32px;\n",
              "      padding: 0 0 0 0;\n",
              "      width: 32px;\n",
              "    }\n",
              "\n",
              "    .colab-df-convert:hover {\n",
              "      background-color: #E2EBFA;\n",
              "      box-shadow: 0px 1px 2px rgba(60, 64, 67, 0.3), 0px 1px 3px 1px rgba(60, 64, 67, 0.15);\n",
              "      fill: #174EA6;\n",
              "    }\n",
              "\n",
              "    [theme=dark] .colab-df-convert {\n",
              "      background-color: #3B4455;\n",
              "      fill: #D2E3FC;\n",
              "    }\n",
              "\n",
              "    [theme=dark] .colab-df-convert:hover {\n",
              "      background-color: #434B5C;\n",
              "      box-shadow: 0px 1px 3px 1px rgba(0, 0, 0, 0.15);\n",
              "      filter: drop-shadow(0px 1px 2px rgba(0, 0, 0, 0.3));\n",
              "      fill: #FFFFFF;\n",
              "    }\n",
              "  </style>\n",
              "\n",
              "      <script>\n",
              "        const buttonEl =\n",
              "          document.querySelector('#df-00a8515b-8854-41d7-9546-0644fb1395ab button.colab-df-convert');\n",
              "        buttonEl.style.display =\n",
              "          google.colab.kernel.accessAllowed ? 'block' : 'none';\n",
              "\n",
              "        async function convertToInteractive(key) {\n",
              "          const element = document.querySelector('#df-00a8515b-8854-41d7-9546-0644fb1395ab');\n",
              "          const dataTable =\n",
              "            await google.colab.kernel.invokeFunction('convertToInteractive',\n",
              "                                                     [key], {});\n",
              "          if (!dataTable) return;\n",
              "\n",
              "          const docLinkHtml = 'Like what you see? Visit the ' +\n",
              "            '<a target=\"_blank\" href=https://colab.research.google.com/notebooks/data_table.ipynb>data table notebook</a>'\n",
              "            + ' to learn more about interactive tables.';\n",
              "          element.innerHTML = '';\n",
              "          dataTable['output_type'] = 'display_data';\n",
              "          await google.colab.output.renderOutput(dataTable, element);\n",
              "          const docLink = document.createElement('div');\n",
              "          docLink.innerHTML = docLinkHtml;\n",
              "          element.appendChild(docLink);\n",
              "        }\n",
              "      </script>\n",
              "    </div>\n",
              "  </div>\n",
              "  "
            ]
          },
          "metadata": {},
          "execution_count": 5
        }
      ],
      "source": [
        "test_twt.head() #not to be used in Any Circumstances"
      ]
    },
    {
      "cell_type": "code",
      "execution_count": 6,
      "metadata": {
        "colab": {
          "base_uri": "https://localhost:8080/",
          "height": 0
        },
        "id": "zVZ-fUYYbE8s",
        "outputId": "fab0a5c7-54c5-4012-abe1-d908e4950b29"
      },
      "outputs": [
        {
          "output_type": "execute_result",
          "data": {
            "text/plain": [
              "   id  label                                              tweet\n",
              "0   1      0   @user when a father is dysfunctional and is s...\n",
              "1   2      0  @user @user thanks for #lyft credit i can't us...\n",
              "2   3      0                                bihday your majesty\n",
              "3   4      0  #model   i love u take with u all the time in ...\n",
              "4   5      0             factsguide: society now    #motivation"
            ],
            "text/html": [
              "\n",
              "  <div id=\"df-dc65ac0f-6217-4e20-be80-7e0af9289b9b\">\n",
              "    <div class=\"colab-df-container\">\n",
              "      <div>\n",
              "<style scoped>\n",
              "    .dataframe tbody tr th:only-of-type {\n",
              "        vertical-align: middle;\n",
              "    }\n",
              "\n",
              "    .dataframe tbody tr th {\n",
              "        vertical-align: top;\n",
              "    }\n",
              "\n",
              "    .dataframe thead th {\n",
              "        text-align: right;\n",
              "    }\n",
              "</style>\n",
              "<table border=\"1\" class=\"dataframe\">\n",
              "  <thead>\n",
              "    <tr style=\"text-align: right;\">\n",
              "      <th></th>\n",
              "      <th>id</th>\n",
              "      <th>label</th>\n",
              "      <th>tweet</th>\n",
              "    </tr>\n",
              "  </thead>\n",
              "  <tbody>\n",
              "    <tr>\n",
              "      <th>0</th>\n",
              "      <td>1</td>\n",
              "      <td>0</td>\n",
              "      <td>@user when a father is dysfunctional and is s...</td>\n",
              "    </tr>\n",
              "    <tr>\n",
              "      <th>1</th>\n",
              "      <td>2</td>\n",
              "      <td>0</td>\n",
              "      <td>@user @user thanks for #lyft credit i can't us...</td>\n",
              "    </tr>\n",
              "    <tr>\n",
              "      <th>2</th>\n",
              "      <td>3</td>\n",
              "      <td>0</td>\n",
              "      <td>bihday your majesty</td>\n",
              "    </tr>\n",
              "    <tr>\n",
              "      <th>3</th>\n",
              "      <td>4</td>\n",
              "      <td>0</td>\n",
              "      <td>#model   i love u take with u all the time in ...</td>\n",
              "    </tr>\n",
              "    <tr>\n",
              "      <th>4</th>\n",
              "      <td>5</td>\n",
              "      <td>0</td>\n",
              "      <td>factsguide: society now    #motivation</td>\n",
              "    </tr>\n",
              "  </tbody>\n",
              "</table>\n",
              "</div>\n",
              "      <button class=\"colab-df-convert\" onclick=\"convertToInteractive('df-dc65ac0f-6217-4e20-be80-7e0af9289b9b')\"\n",
              "              title=\"Convert this dataframe to an interactive table.\"\n",
              "              style=\"display:none;\">\n",
              "        \n",
              "  <svg xmlns=\"http://www.w3.org/2000/svg\" height=\"24px\"viewBox=\"0 0 24 24\"\n",
              "       width=\"24px\">\n",
              "    <path d=\"M0 0h24v24H0V0z\" fill=\"none\"/>\n",
              "    <path d=\"M18.56 5.44l.94 2.06.94-2.06 2.06-.94-2.06-.94-.94-2.06-.94 2.06-2.06.94zm-11 1L8.5 8.5l.94-2.06 2.06-.94-2.06-.94L8.5 2.5l-.94 2.06-2.06.94zm10 10l.94 2.06.94-2.06 2.06-.94-2.06-.94-.94-2.06-.94 2.06-2.06.94z\"/><path d=\"M17.41 7.96l-1.37-1.37c-.4-.4-.92-.59-1.43-.59-.52 0-1.04.2-1.43.59L10.3 9.45l-7.72 7.72c-.78.78-.78 2.05 0 2.83L4 21.41c.39.39.9.59 1.41.59.51 0 1.02-.2 1.41-.59l7.78-7.78 2.81-2.81c.8-.78.8-2.07 0-2.86zM5.41 20L4 18.59l7.72-7.72 1.47 1.35L5.41 20z\"/>\n",
              "  </svg>\n",
              "      </button>\n",
              "      \n",
              "  <style>\n",
              "    .colab-df-container {\n",
              "      display:flex;\n",
              "      flex-wrap:wrap;\n",
              "      gap: 12px;\n",
              "    }\n",
              "\n",
              "    .colab-df-convert {\n",
              "      background-color: #E8F0FE;\n",
              "      border: none;\n",
              "      border-radius: 50%;\n",
              "      cursor: pointer;\n",
              "      display: none;\n",
              "      fill: #1967D2;\n",
              "      height: 32px;\n",
              "      padding: 0 0 0 0;\n",
              "      width: 32px;\n",
              "    }\n",
              "\n",
              "    .colab-df-convert:hover {\n",
              "      background-color: #E2EBFA;\n",
              "      box-shadow: 0px 1px 2px rgba(60, 64, 67, 0.3), 0px 1px 3px 1px rgba(60, 64, 67, 0.15);\n",
              "      fill: #174EA6;\n",
              "    }\n",
              "\n",
              "    [theme=dark] .colab-df-convert {\n",
              "      background-color: #3B4455;\n",
              "      fill: #D2E3FC;\n",
              "    }\n",
              "\n",
              "    [theme=dark] .colab-df-convert:hover {\n",
              "      background-color: #434B5C;\n",
              "      box-shadow: 0px 1px 3px 1px rgba(0, 0, 0, 0.15);\n",
              "      filter: drop-shadow(0px 1px 2px rgba(0, 0, 0, 0.3));\n",
              "      fill: #FFFFFF;\n",
              "    }\n",
              "  </style>\n",
              "\n",
              "      <script>\n",
              "        const buttonEl =\n",
              "          document.querySelector('#df-dc65ac0f-6217-4e20-be80-7e0af9289b9b button.colab-df-convert');\n",
              "        buttonEl.style.display =\n",
              "          google.colab.kernel.accessAllowed ? 'block' : 'none';\n",
              "\n",
              "        async function convertToInteractive(key) {\n",
              "          const element = document.querySelector('#df-dc65ac0f-6217-4e20-be80-7e0af9289b9b');\n",
              "          const dataTable =\n",
              "            await google.colab.kernel.invokeFunction('convertToInteractive',\n",
              "                                                     [key], {});\n",
              "          if (!dataTable) return;\n",
              "\n",
              "          const docLinkHtml = 'Like what you see? Visit the ' +\n",
              "            '<a target=\"_blank\" href=https://colab.research.google.com/notebooks/data_table.ipynb>data table notebook</a>'\n",
              "            + ' to learn more about interactive tables.';\n",
              "          element.innerHTML = '';\n",
              "          dataTable['output_type'] = 'display_data';\n",
              "          await google.colab.output.renderOutput(dataTable, element);\n",
              "          const docLink = document.createElement('div');\n",
              "          docLink.innerHTML = docLinkHtml;\n",
              "          element.appendChild(docLink);\n",
              "        }\n",
              "      </script>\n",
              "    </div>\n",
              "  </div>\n",
              "  "
            ]
          },
          "metadata": {},
          "execution_count": 6
        }
      ],
      "source": [
        "train_twt.head()"
      ]
    },
    {
      "cell_type": "code",
      "execution_count": 7,
      "metadata": {
        "id": "aOKnwriJT1rh"
      },
      "outputs": [],
      "source": [
        "tweet_df=train_twt.copy()"
      ]
    },
    {
      "cell_type": "code",
      "execution_count": 8,
      "metadata": {
        "colab": {
          "base_uri": "https://localhost:8080/"
        },
        "id": "l125hHBTbwEU",
        "outputId": "3523681c-aef6-4894-b08a-63836667c2df"
      },
      "outputs": [
        {
          "output_type": "execute_result",
          "data": {
            "text/plain": [
              "(31962, 3)"
            ]
          },
          "metadata": {},
          "execution_count": 8
        }
      ],
      "source": [
        "tweet_df.shape"
      ]
    },
    {
      "cell_type": "code",
      "execution_count": 9,
      "metadata": {
        "colab": {
          "base_uri": "https://localhost:8080/"
        },
        "id": "hUmmXtt8GvdN",
        "outputId": "780ca421-b306-42f3-8237-4bb94ec4561c"
      },
      "outputs": [
        {
          "output_type": "execute_result",
          "data": {
            "text/plain": [
              "id                                                       1\n",
              "label                                                    0\n",
              "tweet     @user when a father is dysfunctional and is s...\n",
              "Name: 0, dtype: object"
            ]
          },
          "metadata": {},
          "execution_count": 9
        }
      ],
      "source": [
        "tweet_df.iloc[0]"
      ]
    },
    {
      "cell_type": "code",
      "execution_count": 10,
      "metadata": {
        "colab": {
          "base_uri": "https://localhost:8080/"
        },
        "id": "Q6c06Ofrx6iA",
        "outputId": "0f1cab59-4207-4ce9-be16-9f46eecb27cd"
      },
      "outputs": [
        {
          "output_type": "execute_result",
          "data": {
            "text/plain": [
              "0    29720\n",
              "1     2242\n",
              "Name: label, dtype: int64"
            ]
          },
          "metadata": {},
          "execution_count": 10
        }
      ],
      "source": [
        "tweet_df.label.value_counts()"
      ]
    },
    {
      "cell_type": "code",
      "execution_count": 11,
      "metadata": {
        "colab": {
          "base_uri": "https://localhost:8080/",
          "height": 0
        },
        "id": "FydaDrjBnZr4",
        "outputId": "f49b2f90-2ea6-42a4-da80-6e44b7cf97f6"
      },
      "outputs": [
        {
          "output_type": "display_data",
          "data": {
            "text/plain": [
              "<Figure size 640x480 with 1 Axes>"
            ],
            "image/png": "[encoded data removed]"
          },
          "metadata": {}
        }
      ],
      "source": [
        "import matplotlib.pyplot as plt\n",
        "\n",
        "plt.hist(tweet_df.label)\n",
        "plt.show()"
      ]
    },
    {
      "cell_type": "markdown",
      "metadata": {
        "id": "UO1mrqrBPS9j"
      },
      "source": [
        "##***NLP Initialize***"
      ]
    },
    {
      "cell_type": "code",
      "execution_count": 13,
      "metadata": {
        "colab": {
          "base_uri": "https://localhost:8080/"
        },
        "id": "yh9Y51Sjb9UG",
        "outputId": "855c0c92-d066-44ef-dbb3-8a04a2f6aed1"
      },
      "outputs": [
        {
          "output_type": "stream",
          "name": "stderr",
          "text": [
            "[nltk_data] Downloading package stopwords to /root/nltk_data...\n",
            "[nltk_data]   Unzipping corpora/stopwords.zip.\n"
          ]
        },
        {
          "output_type": "execute_result",
          "data": {
            "text/plain": [
              "True"
            ]
          },
          "metadata": {},
          "execution_count": 13
        }
      ],
      "source": [
        "#NLP Initialize\n",
        "import spacy\n",
        "import nltk\n",
        "\n",
        "nlp = spacy.load(name='en_core_web_sm')\n",
        "nltk.download('stopwords')"
      ]
    },
    {
      "cell_type": "code",
      "execution_count": 14,
      "metadata": {
        "id": "AFhtxl_XEju_"
      },
      "outputs": [],
      "source": [
        "from nltk.corpus import stopwords\n",
        "#from nltk.tokenize import  WordPunctTokenizer\\\n",
        "from string import punctuation"
      ]
    },
    {
      "cell_type": "code",
      "execution_count": 15,
      "metadata": {
        "colab": {
          "base_uri": "https://localhost:8080/"
        },
        "id": "jYsKZY6eH_ah",
        "outputId": "222ba313-1181-4cd8-fe74-64e7f6ee5054"
      },
      "outputs": [
        {
          "output_type": "execute_result",
          "data": {
            "text/plain": [
              "32"
            ]
          },
          "metadata": {},
          "execution_count": 15
        }
      ],
      "source": [
        "punctuations = list(set(punctuation))\n",
        "len(punctuations)"
      ]
    },
    {
      "cell_type": "code",
      "execution_count": 16,
      "metadata": {
        "colab": {
          "base_uri": "https://localhost:8080/"
        },
        "id": "Mj6C17PQJO3M",
        "outputId": "c58cc4b9-4580-4f4c-ecfb-98bbd47b6954"
      },
      "outputs": [
        {
          "output_type": "execute_result",
          "data": {
            "text/plain": [
              "382"
            ]
          },
          "metadata": {},
          "execution_count": 16
        }
      ],
      "source": [
        "stop_wrds= list(nlp.Defaults.stop_words) + list(stopwords.words('english'))\n",
        "len(list(set(stop_wrds)))"
      ]
    },
    {
      "cell_type": "code",
      "execution_count": 17,
      "metadata": {
        "colab": {
          "base_uri": "https://localhost:8080/"
        },
        "id": "IK0H3AhpK8Qo",
        "outputId": "b0eb2269-cd82-46a3-e57f-e7562bbc9585"
      },
      "outputs": [
        {
          "output_type": "execute_result",
          "data": {
            "text/plain": [
              "414"
            ]
          },
          "metadata": {},
          "execution_count": 17
        }
      ],
      "source": [
        "len(list(set(stop_wrds))+list(set(punctuation)))"
      ]
    },
    {
      "cell_type": "code",
      "execution_count": 18,
      "metadata": {
        "colab": {
          "base_uri": "https://localhost:8080/"
        },
        "id": "78XKXJSs10Cc",
        "outputId": "18303b92-c695-4381-d24c-e5ede3551cb6"
      },
      "outputs": [
        {
          "output_type": "execute_result",
          "data": {
            "text/plain": [
              "31962"
            ]
          },
          "metadata": {},
          "execution_count": 18
        }
      ],
      "source": [
        "len(tweet_df)"
      ]
    },
    {
      "cell_type": "code",
      "execution_count": 19,
      "metadata": {
        "id": "9R7RC9wOtFag"
      },
      "outputs": [],
      "source": [
        "stp_wrds = list(set(list(nlp.Defaults.stop_words) + list(stopwords.words('english')))) +list(set(punctuation))"
      ]
    },
    {
      "cell_type": "code",
      "execution_count": 20,
      "metadata": {
        "colab": {
          "base_uri": "https://localhost:8080/"
        },
        "id": "0gJnXxL7suBw",
        "outputId": "c5f78f23-3d77-46fc-89e5-6a45f868dc96"
      },
      "outputs": [
        {
          "output_type": "execute_result",
          "data": {
            "text/plain": [
              "['#', 'model', 'love', 'u', 'u', 'time']"
            ]
          },
          "metadata": {},
          "execution_count": 20
        }
      ],
      "source": [
        "tokens = [token.lemma_.lower() for token in nlp(tweet_df.iloc[3]['tweet']) if token.text =='#' or (token.text not in stop_wrds and token.is_alpha)]\n",
        "tokens"
      ]
    },
    {
      "cell_type": "code",
      "execution_count": 21,
      "metadata": {
        "colab": {
          "base_uri": "https://localhost:8080/"
        },
        "id": "xKy7sHXpbp5p",
        "outputId": "9de2a801-843e-4b84-ea4a-c9bc3666a1c7"
      },
      "outputs": [
        {
          "output_type": "stream",
          "name": "stdout",
          "text": [
            "<class 'pandas.core.frame.DataFrame'>\n",
            "RangeIndex: 31962 entries, 0 to 31961\n",
            "Data columns (total 3 columns):\n",
            " #   Column  Non-Null Count  Dtype \n",
            "---  ------  --------------  ----- \n",
            " 0   id      31962 non-null  int64 \n",
            " 1   label   31962 non-null  int64 \n",
            " 2   tweet   31962 non-null  object\n",
            "dtypes: int64(2), object(1)\n",
            "memory usage: 749.2+ KB\n"
          ]
        }
      ],
      "source": [
        "tweet_df.info()"
      ]
    },
    {
      "cell_type": "markdown",
      "metadata": {
        "id": "Ht8ZLF7oPlSd"
      },
      "source": [
        "##***NLP Pre-Processing***"
      ]
    },
    {
      "cell_type": "code",
      "execution_count": 22,
      "metadata": {
        "colab": {
          "base_uri": "https://localhost:8080/"
        },
        "id": "0IJ1W6vYDMWl",
        "outputId": "df6bde56-5765-4b51-fded-93ea791d1a16"
      },
      "outputs": [
        {
          "output_type": "stream",
          "name": "stdout",
          "text": [
            "#model   i love u take with u all the time in urð±!!! ððððð¦ð¦ð¦  \n",
            "['model', 'love', 'time']\n",
            "@user @user thanks for #lyft credit i can't use cause they don't offer wheelchair vans in pdx.    #disapointed #getthanked\n",
            "['thank', 'lyft', 'credit', 'use', 'cause', 'offer', 'wheelchair', 'van', 'pdx', 'disapointe', 'getthanked']\n"
          ]
        }
      ],
      "source": [
        "#NLP Pre-Processing\n",
        "#from IPython.display import display, clear_output #to update iteration display         #######commenting this func. to make program faster\n",
        "\n",
        "##def pre_processor(data, total,iter=0): #######commenting this func. to make program faster\n",
        "def pre_processor(data):\n",
        "  doc=nlp(data)#WordPunctTokenizer().tokenize(data)\n",
        "\n",
        "  #stopwords\n",
        "  stp_wrds = list(set(list(nlp.Defaults.stop_words) + list(stopwords.words('english')))) +list(set(punctuation))\n",
        "\n",
        "  #removing stopwords\n",
        "  #keeping only alphabetical words\n",
        "  #removing all words with less than 1 char, e.g., i, u etc.\n",
        "  #converting all to lower case root words\n",
        "  tokens = [token.lemma_.lower() for token in doc if  token.text not in stop_wrds and token.is_alpha and len(token.text)>2]\n",
        "\n",
        "  #clear_output()                                #######commenting this func. to make program faster\n",
        "  #display(f'Iteration {iter}/{total}') #######commenting this func. to make program faster\n",
        "\n",
        "  return tokens #,' '.join(tokens)\n",
        "\n",
        "print(tweet_df.iloc[3]['tweet'])\n",
        "##print(pre_processor(tweet_df.iloc[3]['tweet'],2,tweet_df.iloc[3]['id'])) #######commenting this func. to make program faster\n",
        "print(pre_processor(tweet_df.iloc[3]['tweet']))\n",
        "\n",
        "print(tweet_df.iloc[1]['tweet'])\n",
        "##a = pre_processor(tweet_df.iloc[1]['tweet'],2,tweet_df.iloc[1]['id']) #######commenting this func. to make program faster\n",
        "##print(a)\n",
        "\n",
        "print(pre_processor(tweet_df.iloc[1]['tweet']))\n"
      ]
    },
    {
      "cell_type": "markdown",
      "metadata": {
        "id": "MgtW7zIM1KFR"
      },
      "source": [
        "###***BAG OF WORDS***"
      ]
    },
    {
      "cell_type": "code",
      "execution_count": 23,
      "metadata": {
        "id": "-aazi4vUOXrl"
      },
      "outputs": [],
      "source": [
        "#Applying to data\n",
        "## Creatting a BAG OF WORDS for each tweets\n",
        "\n",
        "tweet_df['tweet_bag']= tweet_df['tweet'].apply(pre_processor)\n",
        "\n",
        "##df_length=len(tweet_df)    #######commenting this func. to make program faster\n",
        "##tweet_df['tweet_bag']= tweet_df['id'].apply(lambda id: pre_processor(data=tweet_df.iloc[id-1]['tweet'], total=df_length, iter=id))   #######commenting this func. to make program faster"
      ]
    },
    {
      "cell_type": "code",
      "execution_count": 24,
      "metadata": {
        "id": "WyYJmrxdWsFy"
      },
      "outputs": [],
      "source": [
        "tweet_df['tweet'] = tweet_df['tweet_bag'].apply(lambda twt: ' '.join(twt))"
      ]
    },
    {
      "cell_type": "code",
      "execution_count": 25,
      "metadata": {
        "colab": {
          "base_uri": "https://localhost:8080/",
          "height": 0
        },
        "id": "ZUQy9FXkIjXy",
        "outputId": "869311ff-7b73-43ed-f24d-f90041deb9fb"
      },
      "outputs": [
        {
          "output_type": "execute_result",
          "data": {
            "text/plain": [
              "   id  label                                              tweet  \\\n",
              "0   1      0  father dysfunctional selfish drag kid dysfunct...   \n",
              "1   2      0  thank lyft credit use cause offer wheelchair v...   \n",
              "2   3      0                                     bihday majesty   \n",
              "3   4      0                                    model love time   \n",
              "4   5      0                      factsguide society motivation   \n",
              "\n",
              "                                           tweet_bag  \n",
              "0  [father, dysfunctional, selfish, drag, kid, dy...  \n",
              "1  [thank, lyft, credit, use, cause, offer, wheel...  \n",
              "2                                  [bihday, majesty]  \n",
              "3                                [model, love, time]  \n",
              "4                  [factsguide, society, motivation]  "
            ],
            "text/html": [
              "\n",
              "  <div id=\"df-a3c11596-1ddd-4240-ad4e-5690f504ff79\">\n",
              "    <div class=\"colab-df-container\">\n",
              "      <div>\n",
              "<style scoped>\n",
              "    .dataframe tbody tr th:only-of-type {\n",
              "        vertical-align: middle;\n",
              "    }\n",
              "\n",
              "    .dataframe tbody tr th {\n",
              "        vertical-align: top;\n",
              "    }\n",
              "\n",
              "    .dataframe thead th {\n",
              "        text-align: right;\n",
              "    }\n",
              "</style>\n",
              "<table border=\"1\" class=\"dataframe\">\n",
              "  <thead>\n",
              "    <tr style=\"text-align: right;\">\n",
              "      <th></th>\n",
              "      <th>id</th>\n",
              "      <th>label</th>\n",
              "      <th>tweet</th>\n",
              "      <th>tweet_bag</th>\n",
              "    </tr>\n",
              "  </thead>\n",
              "  <tbody>\n",
              "    <tr>\n",
              "      <th>0</th>\n",
              "      <td>1</td>\n",
              "      <td>0</td>\n",
              "      <td>father dysfunctional selfish drag kid dysfunct...</td>\n",
              "      <td>[father, dysfunctional, selfish, drag, kid, dy...</td>\n",
              "    </tr>\n",
              "    <tr>\n",
              "      <th>1</th>\n",
              "      <td>2</td>\n",
              "      <td>0</td>\n",
              "      <td>thank lyft credit use cause offer wheelchair v...</td>\n",
              "      <td>[thank, lyft, credit, use, cause, offer, wheel...</td>\n",
              "    </tr>\n",
              "    <tr>\n",
              "      <th>2</th>\n",
              "      <td>3</td>\n",
              "      <td>0</td>\n",
              "      <td>bihday majesty</td>\n",
              "      <td>[bihday, majesty]</td>\n",
              "    </tr>\n",
              "    <tr>\n",
              "      <th>3</th>\n",
              "      <td>4</td>\n",
              "      <td>0</td>\n",
              "      <td>model love time</td>\n",
              "      <td>[model, love, time]</td>\n",
              "    </tr>\n",
              "    <tr>\n",
              "      <th>4</th>\n",
              "      <td>5</td>\n",
              "      <td>0</td>\n",
              "      <td>factsguide society motivation</td>\n",
              "      <td>[factsguide, society, motivation]</td>\n",
              "    </tr>\n",
              "  </tbody>\n",
              "</table>\n",
              "</div>\n",
              "      <button class=\"colab-df-convert\" onclick=\"convertToInteractive('df-a3c11596-1ddd-4240-ad4e-5690f504ff79')\"\n",
              "              title=\"Convert this dataframe to an interactive table.\"\n",
              "              style=\"display:none;\">\n",
              "        \n",
              "  <svg xmlns=\"http://www.w3.org/2000/svg\" height=\"24px\"viewBox=\"0 0 24 24\"\n",
              "       width=\"24px\">\n",
              "    <path d=\"M0 0h24v24H0V0z\" fill=\"none\"/>\n",
              "    <path d=\"M18.56 5.44l.94 2.06.94-2.06 2.06-.94-2.06-.94-.94-2.06-.94 2.06-2.06.94zm-11 1L8.5 8.5l.94-2.06 2.06-.94-2.06-.94L8.5 2.5l-.94 2.06-2.06.94zm10 10l.94 2.06.94-2.06 2.06-.94-2.06-.94-.94-2.06-.94 2.06-2.06.94z\"/><path d=\"M17.41 7.96l-1.37-1.37c-.4-.4-.92-.59-1.43-.59-.52 0-1.04.2-1.43.59L10.3 9.45l-7.72 7.72c-.78.78-.78 2.05 0 2.83L4 21.41c.39.39.9.59 1.41.59.51 0 1.02-.2 1.41-.59l7.78-7.78 2.81-2.81c.8-.78.8-2.07 0-2.86zM5.41 20L4 18.59l7.72-7.72 1.47 1.35L5.41 20z\"/>\n",
              "  </svg>\n",
              "      </button>\n",
              "      \n",
              "  <style>\n",
              "    .colab-df-container {\n",
              "      display:flex;\n",
              "      flex-wrap:wrap;\n",
              "      gap: 12px;\n",
              "    }\n",
              "\n",
              "    .colab-df-convert {\n",
              "      background-color: #E8F0FE;\n",
              "      border: none;\n",
              "      border-radius: 50%;\n",
              "      cursor: pointer;\n",
              "      display: none;\n",
              "      fill: #1967D2;\n",
              "      height: 32px;\n",
              "      padding: 0 0 0 0;\n",
              "      width: 32px;\n",
              "    }\n",
              "\n",
              "    .colab-df-convert:hover {\n",
              "      background-color: #E2EBFA;\n",
              "      box-shadow: 0px 1px 2px rgba(60, 64, 67, 0.3), 0px 1px 3px 1px rgba(60, 64, 67, 0.15);\n",
              "      fill: #174EA6;\n",
              "    }\n",
              "\n",
              "    [theme=dark] .colab-df-convert {\n",
              "      background-color: #3B4455;\n",
              "      fill: #D2E3FC;\n",
              "    }\n",
              "\n",
              "    [theme=dark] .colab-df-convert:hover {\n",
              "      background-color: #434B5C;\n",
              "      box-shadow: 0px 1px 3px 1px rgba(0, 0, 0, 0.15);\n",
              "      filter: drop-shadow(0px 1px 2px rgba(0, 0, 0, 0.3));\n",
              "      fill: #FFFFFF;\n",
              "    }\n",
              "  </style>\n",
              "\n",
              "      <script>\n",
              "        const buttonEl =\n",
              "          document.querySelector('#df-a3c11596-1ddd-4240-ad4e-5690f504ff79 button.colab-df-convert');\n",
              "        buttonEl.style.display =\n",
              "          google.colab.kernel.accessAllowed ? 'block' : 'none';\n",
              "\n",
              "        async function convertToInteractive(key) {\n",
              "          const element = document.querySelector('#df-a3c11596-1ddd-4240-ad4e-5690f504ff79');\n",
              "          const dataTable =\n",
              "            await google.colab.kernel.invokeFunction('convertToInteractive',\n",
              "                                                     [key], {});\n",
              "          if (!dataTable) return;\n",
              "\n",
              "          const docLinkHtml = 'Like what you see? Visit the ' +\n",
              "            '<a target=\"_blank\" href=https://colab.research.google.com/notebooks/data_table.ipynb>data table notebook</a>'\n",
              "            + ' to learn more about interactive tables.';\n",
              "          element.innerHTML = '';\n",
              "          dataTable['output_type'] = 'display_data';\n",
              "          await google.colab.output.renderOutput(dataTable, element);\n",
              "          const docLink = document.createElement('div');\n",
              "          docLink.innerHTML = docLinkHtml;\n",
              "          element.appendChild(docLink);\n",
              "        }\n",
              "      </script>\n",
              "    </div>\n",
              "  </div>\n",
              "  "
            ]
          },
          "metadata": {},
          "execution_count": 25
        }
      ],
      "source": [
        "tweet_df.head()"
      ]
    },
    {
      "cell_type": "markdown",
      "metadata": {
        "id": "3li_6EMBWF15"
      },
      "source": [
        "##***Predictive Analytics by ML models (without ANN)***\n",
        "\n",
        "Execution steps for less RAM consumption:\n",
        "\n",
        "    1. Data Collection\n",
        "    2. NLP Initialize\n",
        "    3. NLP Pre-Processing\n"
      ]
    },
    {
      "cell_type": "markdown",
      "metadata": {
        "id": "XML7W6C2Rv1i"
      },
      "source": [
        "###***Train & Test Split***"
      ]
    },
    {
      "cell_type": "code",
      "execution_count": 26,
      "metadata": {
        "id": "RpZGu-uCRvKO"
      },
      "outputs": [],
      "source": [
        "from sklearn.model_selection import train_test_split\n",
        "\n",
        "x= tweet_df.tweet\n",
        "y= tweet_df.label\n",
        "x_train, x_test, y_train, y_test = train_test_split(x, y , test_size=.20, shuffle=True, random_state=41)"
      ]
    },
    {
      "cell_type": "code",
      "execution_count": 27,
      "metadata": {
        "colab": {
          "base_uri": "https://localhost:8080/"
        },
        "id": "8n9bsSloUJRK",
        "outputId": "9e50fe5c-bf1e-446d-99d1-a7e5a15f4d99"
      },
      "outputs": [
        {
          "output_type": "execute_result",
          "data": {
            "text/plain": [
              "((31962,), (31962,))"
            ]
          },
          "metadata": {},
          "execution_count": 27
        }
      ],
      "source": [
        "x.shape, y.shape"
      ]
    },
    {
      "cell_type": "code",
      "execution_count": 28,
      "metadata": {
        "id": "k5v6w1e5Wz0Y"
      },
      "outputs": [],
      "source": [
        "#setting-up pipeline for the ML models\n",
        "from sklearn.pipeline import Pipeline\n",
        "from sklearn.feature_extraction.text import TfidfVectorizer\n",
        "from sklearn.metrics import accuracy_score, confusion_matrix, f1_score, classification_report,mean_squared_error\n",
        "\n"
      ]
    },
    {
      "cell_type": "code",
      "execution_count": 29,
      "metadata": {
        "id": "0j_kf7V9lREA"
      },
      "outputs": [],
      "source": [
        "model_outputs={}\n",
        "def model_result(model_name, pred_val):\n",
        "  global model_outputs\n",
        "  model_outputs[model_name] = {'accuracy':accuracy_score(y_true=y_test, y_pred=pred_val),\n",
        "                              'f1_score':f1_score(y_true=y_test, y_pred=pred_val),\n",
        "                              'mean_squared_error':mean_squared_error(y_true=y_test, y_pred=pred_val)}"
      ]
    },
    {
      "cell_type": "markdown",
      "source": [
        "###***Linear Regression***\n",
        "\n",
        "*Linear Regression algorithm, is a simple yet powerful machine learning algorithm for predicting a continuous output variable based on one or more input variables.*\n",
        "\n",
        "*In Linear Regression, the algorithm fits a linear equation to the input data that best represents the relationship between the input variables and the output variable. The linear equation is typically represented as y = mx + b, where y is the output variable, x is the input variable, m is the slope, and b is the intercept. The algorithm uses a method called **ordinary least squares to find the values of m and b that minimize the sum of squared errors between the predicted values and the actual values**.*\n",
        "\n",
        "*One of the advantages of Linear Regression is that it is easy to understand and interpret, making it a popular choice for data analysis and modeling. Additionally, Linear Regression can be used for both simple and complex datasets, and it can handle both categorical and continuous input variables.*\n",
        "\n",
        "*Overall, Linear Regression is a powerful algorithm for predicting a continuous output variable based on one or more input variables, and can be used in a variety of applications such as predicting stock prices, housing prices, and customer behavior.*\n",
        "\n",
        "\n",
        "\n",
        "```\n",
        "from sklearn.linear_model import LinearRegression\n",
        "\n",
        "# create linear regression model\n",
        "model = LinearRegression()\n",
        "\n",
        "# fit the model to the data\n",
        "model.fit(X, y)\n",
        "\n",
        "y_new = model.predict(X_new)\n",
        "\n",
        "# print the predictions\n",
        "print(y_new)\n",
        "```\n",
        "\n"
      ],
      "metadata": {
        "id": "vHz8TFPOetdw"
      }
    },
    {
      "cell_type": "markdown",
      "metadata": {
        "id": "T_hw-20hZKCn"
      },
      "source": [
        "###***Logistic Regression***\n",
        "\n",
        "*A popular algorithm used for classification tasks.*\n",
        "\n",
        "*It is used to predict the probability of an event occurring based on input features.*\n",
        "\n",
        "*It is particularly useful for applications such as predicting whether an email is spam or not, or whether a patient is likely to develop a certain medical condition.*\n",
        "\n",
        "***3 Types:***\n",
        "\n",
        "*➢ Binomial:*\n",
        "\n",
        "    In binomial Logistic regression, there can be only two possible types of the dependent variables, such as 0 or 1, Pass or Fail, etc.\n",
        "*➢ Multinomial:*\n",
        "\n",
        "    In multinomial Logistic regression, there can be 3 or more possible unordered types of the dependent variable, such as \"cat\", \"dogs\", or \"sheep\"\n",
        "*➢ Ordinal:*\n",
        "\n",
        "    In ordinal Logistic regression, there can be 3 or more possible ordered types of dependent variables, such as \"low\", \"Medium\", or \"High\"."
      ]
    },
    {
      "cell_type": "code",
      "execution_count": 30,
      "metadata": {
        "id": "6IkNj6ysaDH3"
      },
      "outputs": [],
      "source": [
        "from sklearn.linear_model import LogisticRegression\n",
        "\n",
        "lgr_model= Pipeline([('vector',TfidfVectorizer()), ('lgr', LogisticRegression(random_state=41))]) #Pipeline td-idf ---> lgr\n",
        "lgr_model.fit(x_train, y_train) # model training\n",
        "lgr_pred=lgr_model.predict(x_test) # model prediction\n",
        "\n",
        "model_result(model_name= 'LogRegress', pred_val= lgr_pred)\n",
        "#model_outputs"
      ]
    },
    {
      "cell_type": "markdown",
      "source": [
        "###***Regularization***"
      ],
      "metadata": {
        "id": "jxRiwMu9wRgA"
      }
    },
    {
      "cell_type": "markdown",
      "source": [
        "####***LASSO and Ridge Regularization***\n",
        "\n",
        "*➢ Variance : Variance tells us about the spread of the data points. High variance leads to **Overfitting**.*\n",
        "\n",
        "*➢ Bias : The inability of the ML methods (like Linear Regression) to capture the true relationship is called bias. High Bias leads to **Underfitting**.*\n",
        "\n",
        "➢ Regularization\n",
        "\n",
        "    ➢ Regularization is one of the ways to improve our model to work on unseen data by ignoring the less important features.\n",
        "\n",
        "    ➢ Regularization minimizes the validation loss (i.e., Cost function/ Loss function) and tries to improve the accuracy of the model.\n",
        "\n",
        "    ➢ It avoids overfitting by adding a \"penalty\" to the model with high variance, thereby shrinking the beta coefficients to zero.\n",
        "\n",
        "    ➢ 2 types:\n",
        "        1. L1 Regularization (Lasso Regression)\n",
        "        2. L2 Regularization (Ridge Regression)\n",
        "\n",
        "Explanation:\n",
        "\n",
        "    ➢ In Linear regression, after training model, Model performs well for training datasets but, fails to predict for test dataset and give huge difference b/w test data from mean or best fit line (i.e., gives high variance). Hence, model overfitting the training dataset.\n",
        "    ➢ Thus, RSS is large for Linear Regression model for test dataset whereas, it was giving 0 or less error for training dataset.\n",
        "    ➢ LASSO and Ridge Regression add a penalty term (i.e., λ* |slope| and λ*(slope)^2) respectively to regularize Cost function (i.e., Loss function or Residual Sum of Square (RSS) or Sum of Squared Error (SSE)).\n",
        "            Note:\n",
        "            Cost function = Loss function = MSE and\n",
        "            RSS = SSE = (N * MSE)\n",
        "    ➢ This λ term called as regularization parameter identified through Cross Validation penalizes the βi where i = 1, 2, 3, …., n (i.e., coefficients or weights or slopes) except β0 (i.e., intercept) in older linear best fit line.\n",
        "    ➢ This penalty term increases the cost function at training linear model, to give an error when there is no or less error.\n",
        "    ➢ Thus, this will help Gradient descent to reduce slope (βi where i = 1, 2, 3, …., n) to give new best fit line in order to reduce cost function.\n",
        "    ➢ This, new best fit line reduces the high variance at time of test dataset and gives a generalize model with less error and high accuracy for both training and test dataset.\n",
        "    ➢ The only difference b/w L1 and L2 regularization is that:\n",
        "          1. Ridge (L2) with help of λ*(slope)2 forces all the coefficients to be small.\n",
        "          2. Whereas LASSO (L1) with help of λ*|slope| forces all the coefficients to be 0.\n",
        "              • Due to this, less important coefficients or weights or slopes are reduced/shrank equal to 0 (Selection in LASSO)\n",
        "              • And important coefficients are reduced/shrank to small values. (Least Absolute Shrinkage in LASSO)\n",
        "    ➢ Hence LASSO can be used for selection purpose also while both Ridge and LASSO shrinks the coefficient to small values to reduce cost function and give new best fit line as solution to Overfitting.\n",
        "\n",
        ""
      ],
      "metadata": {
        "id": "FGUTe2NHq9VN"
      }
    },
    {
      "cell_type": "markdown",
      "source": [
        "####***Elastic Net Regression***\n",
        "    → So generally, we should avoid plain Linear Regression.\n",
        "    → Ridge is a good default, but it includes all features even if they are not useful. (Problem with Ridge)\n",
        "          ✓ We should prefer Lasso or Elastic Net since they tend to reduce the useless features’ weights down to zero as we have discussed.\n",
        "\n",
        "    → In general, Elastic Net is preferred over Lasso since Lasso may behave erratically when: (Problem with LASSO)\n",
        "        ✓ The number of features is greater than the number of training instances or\n",
        "        ✓ when several features are strongly correlated (i.e., Multicollinearity is not considered in LASSO’s feature regularization).\n",
        "\n",
        "    → For Elastic Net use, both L1 and L2 regularizations to produce most optimized output. (Overcoming both Ridge and LASSO limitation by combining them both)\n",
        "    → In addition to setting and choosing a lambda value elastic net also allows us to tune the alpha parameter where\n",
        "    ✓ 𝞪 = 0 ➔ Ridge and,\n",
        "    ✓ 𝞪 = 1 ➔ LASSO\n",
        "    → Simply put plug in 0 for alpha, the penalty function reduces to the L1 (ridge) term and if we set alpha to 1 we get the L2 (lasso) term.\n",
        "    → So, keeping 0 ≤ α ≤ 1, we can achieve benefits of both Ridge and LASSO Regressions in Elastic Net Regression.\n",
        "\n",
        "Code:\n",
        "\n",
        "\n",
        "```\n",
        "from sklearn.linear_model import ElasticNetCV\n",
        "elasticnet = ElasticNetCV ( )\n",
        "elasticnet.fit(x_train,y_train)\n",
        "```\n",
        "\n"
      ],
      "metadata": {
        "id": "TGWhiq4ZvMvt"
      }
    },
    {
      "cell_type": "markdown",
      "metadata": {
        "id": "kKF0ZxBAxu_n"
      },
      "source": [
        "###***Decision Tree***\n",
        "\n",
        "*Decision Tree is used for both classification and Regression problems, but mostly it is preferred for solving Classification problems.*\n",
        "\n",
        "*Decision Trees are essentially tree-like structures that partition the data based on a series of simple decision rules, with each node representing a decision and each branch representing an outcome of that decision.*\n",
        "\n",
        "*For classification tasks, a Decision Tree would start with the entire dataset, and then at each decision node, it would split the data into smaller subsets based on a feature value. This process continues recursively until each subset cannot be divided further.*\n",
        "\n",
        "*Decision Trees can suffer from overfitting if they are allowed to grow too deep, which can lead to poor generalization performance on new data. To address this, several techniques have been developed, such as pruning, which involves removing branches from the tree, and using ensemble methods such as Random Forests, which combine the predictions of multiple Decision Trees to improve performance.*"
      ]
    },
    {
      "cell_type": "code",
      "execution_count": 31,
      "metadata": {
        "id": "ysRlxnwwxuLu"
      },
      "outputs": [],
      "source": [
        "from sklearn.tree import DecisionTreeClassifier\n",
        "\n",
        "dt_model= Pipeline([('vector',TfidfVectorizer()), ('dt', DecisionTreeClassifier(random_state=41))]) #Pipeline td-idf ---> dt\n",
        "dt_model.fit(x_train, y_train) # model training\n",
        "dt_pred=dt_model.predict(x_test) # model prediction\n",
        "\n",
        "model_result(model_name= 'DecisionTree', pred_val= dt_pred)\n",
        "#model_outputs"
      ]
    },
    {
      "cell_type": "markdown",
      "metadata": {
        "id": "thWpEB7v8ZT9"
      },
      "source": [
        "###***Random Forest***\n",
        "\n",
        "*It is a popular ensemble learning technique used for both **regression** and **classification** tasks.*\n",
        "\n",
        "*Random forests uses bagging method to combine multiple decision trees, where each tree is trained on a random subset of the data and a random subset of the input features.*\n",
        "\n",
        "*Then output of each decision tree in a random forest is combined using a simple **majority vote (for classification tasks)** or **averaging (for regression tasks)**. This helps to reduce the risk of overfitting and improve the accuracy of the algorithm as compare to Decision Tree.*\n",
        "\n",
        "*Overall, **random forests are powerful and widely used** algorithms in ML, particularly in applications **where the input features are noisy or correlated**. The use of bagging ensemble techniques and combining the outputs of multiple decision trees help to improve the performance and robustness of the algorithm.*"
      ]
    },
    {
      "cell_type": "code",
      "execution_count": 32,
      "metadata": {
        "id": "qof8qf_dCnZ1"
      },
      "outputs": [],
      "source": [
        "from sklearn.ensemble import RandomForestClassifier\n",
        "\n",
        "#n_estimators=100, 100 decision trees\n",
        "#n_jobs= 2,  2 number of jobs run in parallel.\n",
        "#criterion : {\"gini\", \"entropy\", \"log_loss\"}, default=\"gini\" ,\n",
        "#The function to measure the quality of a split.\n",
        "'''##Supported criteria are \"gini\" for the Gini impurity (1- [P(+ve or Yes)]^2 - [P(-ve or No)^2])\n",
        "##and \"log_loss\" and \"entropy\" both for the information gain.\n",
        "##   Note: This parameter is tree-specific.'''\n",
        "#max_depth : int, default=None. The maximum depth of the tree. If None, then nodes are expanded until all leaves are pure or until all leaves contain less than min_samples_split samples\n",
        "\n",
        "rfc_model= Pipeline([('vector',TfidfVectorizer()), ('rfc', RandomForestClassifier(n_estimators=100, n_jobs=2, random_state=41))]) #Pipeline td-idf ---> rfc\n",
        "rfc_model.fit(x_train, y_train) # model training\n",
        "rfc_pred=rfc_model.predict(x_test) # model prediction\n",
        "\n",
        "model_result(model_name= 'RandomForest', pred_val= rfc_pred)\n",
        "#model_outputs"
      ]
    },
    {
      "cell_type": "markdown",
      "metadata": {
        "id": "Fb-a9kLUEsOF"
      },
      "source": [
        "###***Naive Bayes Classifier***\n",
        "\n",
        "*It is a popular algorithm used for classification tasks.*\n",
        "\n",
        "*Naive Bayes is a probabilistic algorithm that makes predictions based on Bayes' theorem, which calculates the probability of a hypothesis based on the probability of the evidence.*\n",
        "\n",
        "*Naive Bayes Classifier assumes that the input features are independent of each other, which is a \"naive\" assumption but often works well in practice. The algorithm calculates the probability of each class given the input features, and selects the class with the highest probability as the prediction.*\n",
        "\n",
        "*Furthermore, Naive Bayes is particularly useful for applications with a large number of input features, such as NLP or spam filtering. It is also computationally efficient, making it a popular choice for real-time applications.*"
      ]
    },
    {
      "cell_type": "code",
      "execution_count": 33,
      "metadata": {
        "id": "OwV5FFr6OcqM"
      },
      "outputs": [],
      "source": [
        "from sklearn.naive_bayes import GaussianNB, MultinomialNB\n",
        "\n",
        "nb_model = Pipeline([('vector',TfidfVectorizer()), ('nb', MultinomialNB())]) #Pipeline td-idf ---> nb\n",
        "nb_model.fit(x_train,y_train) # model training\n",
        "nb_pred=rfc_model.predict(x_test) # model prediction\n",
        "\n",
        "model_result(model_name= 'NB', pred_val= nb_pred)\n",
        "#model_outputs"
      ]
    },
    {
      "cell_type": "markdown",
      "metadata": {
        "id": "1wgROWgngWHE"
      },
      "source": [
        "###***Support Vector Machine (SVM)***\n",
        "\n",
        "*SVM are a powerful and widely used ML algorithms, used primarily for classification tasks SVC (Support Vector Classifier). In particular, the SVM algorithm seeks to find the hyperplane that maximally separates two classes of data points in a high-dimensional space.*\n",
        "\n",
        "*SVM is a type of supervised learning algorithm and can be used for both linear and non-linear classification problems. The linear version is called **Linear SVM or Linear SVC**. Non-linear SVMs use kernel functions to transform the data into a higher-dimensional space, where a linear hyperplane can be found to separate the classes.*\n",
        "\n",
        "*Furthermore, SVMs have several advantages, including being able to handle high-dimensional data with a small number of training samples, and being **less prone to overfitting**.*\n",
        "\n",
        "*SVMs are well-suited for a variety of applications, such as text classification, image classification, and bioinformatics.*"
      ]
    },
    {
      "cell_type": "code",
      "execution_count": 34,
      "metadata": {
        "id": "Mr2ii0s6gSwG"
      },
      "outputs": [],
      "source": [
        "from sklearn.svm import SVC\n",
        "\n",
        "#kernel used here is 'rbf'\n",
        "svc_model = Pipeline([('vector',TfidfVectorizer()), ('svc', SVC(random_state=41))]) #Pipeline td-idf ---> svc\n",
        "svc_model.fit(x_train,y_train) # model\n",
        "svc_pred=svc_model.predict(x_test) # model prediction\n",
        "\n",
        "model_result(model_name= 'SVC', pred_val= svc_pred)\n",
        "#model_outputs"
      ]
    },
    {
      "cell_type": "markdown",
      "metadata": {
        "id": "V2SU8DNVTBot"
      },
      "source": [
        "###***Extreme Gradient Boosting (XGBoost)***\n",
        "\n",
        "*XGBoost is a popular and powerful gradient boosting library used in machine learning for both regression and classification tasks, mostly for classification.*\n",
        "\n",
        "*XGBoost is an optimized **implementation of gradient boosting** that is designed to be highly efficient and scalable.*\n",
        "\n",
        "*Boosting is an ensemble technique that combines multiple weak models into a single strong model. It works by training a sequence of models, each one improving on the mistakes of the previous model, until a final strong model is obtained. **Gradient boosting is a specific type of boosting that uses gradients to minimize the loss function during training that enhances the accuracy of the model**.*\n",
        "\n",
        "*In XGBoost, the gradient boosting algorithm is optimized for speed and efficiency using several techniques, including parallel processing, approximate greedy algorithm, and a customized data structure to store the input data. The library also includes several **regularization techniques (L1 &L2) to prevent overfitting and improve generalization performance**.*\n",
        "\n",
        "*Overall, XGBoost is a powerful and widely used library in machine learning due to its efficiency, scalability, and high accuracy. It is used in a variety of applications, such as fraud detection, image classification, and customer churn prediction.*"
      ]
    },
    {
      "cell_type": "code",
      "execution_count": 35,
      "metadata": {
        "id": "TwyLd7H7TAjV"
      },
      "outputs": [],
      "source": [
        "from xgboost import XGBClassifier\n",
        "\n",
        "xgb_model = Pipeline([('vector',TfidfVectorizer()), ('xgb', XGBClassifier(n_estimators=1000,n_jobs=2,random_state=41))]) #Pipeline td-idf ---> xgb\n",
        "xgb_model.fit(x_train,y_train) # model training\n",
        "xgb_pred=xgb_model.predict(x_test) # model prediction\n",
        "\n",
        "model_result(model_name= 'XGB', pred_val= xgb_pred)\n",
        "#model_outputs"
      ]
    },
    {
      "cell_type": "markdown",
      "metadata": {
        "id": "ZDHOHemoOStt"
      },
      "source": [
        "###***Light GBM Model (LGBM)***\n",
        "\n",
        "Light GBM is a fast, distributed, high-performance gradient boosting framework based on decision tree algorithm,\n",
        "\n",
        "    ✓ Used for ranking, classification, and many other machine learning tasks.\n",
        "    ✓ Since it is based on decision tree algorithms, it splits the tree leaf wise with the best fit whereas other boosting algorithms split the tree depth wise or level wise rather than leaf-wise.\n",
        "    ✓ So, when growing on the same leaf in Light GBM, the leaf-wise algorithm can reduce more loss than the level-wise algorithm and hence results in much better accuracy which can rarely be achieved by any of the existing boosting algorithms.\n",
        "    ✓ Also, it is surprisingly very fast, hence the word ‘Light’.\n",
        "    ✓ Leaf wise splits lead to increase in complexity and may lead to overfitting and\n",
        "    ✓ Overfitting can be overcome by specifying another parameter max-depth which specifies the depth to which splitting will occur.\n",
        "\n",
        "✓ Advantages of Light GBM\n",
        "\n",
        "    ➢ Faster training speed and higher efficiency:\n",
        "        • Light GBM use histogram-based algorithm i.e., it buckets continuous feature values into discrete bins which fasten the training procedure.\n",
        "\n",
        "    ➢ Lower memory usage:\n",
        "        • Replaces continuous values to discrete bins which result in lower memory usage.\n",
        "\n",
        "    ➢ Better accuracy than any other boosting algorithm:\n",
        "        • It produces much more complex trees by following leaf wise split approach rather than a level-wise approach which is the main factor in achieving higher accuracy.\n",
        "\n",
        "        • However, it can sometimes lead to overfitting which can be avoided by setting the max_depth parameter.\n",
        "\n",
        "    ➢ Compatibility with Large Datasets:\n",
        "        • It can perform equally good with large datasets with a significant reduction in training time as compared to XGBOOST.\n",
        "\n",
        "    ➢ Parallel learning supported\n",
        "        → Bagging is also supported\n",
        "\n"
      ]
    },
    {
      "cell_type": "code",
      "execution_count": 36,
      "metadata": {
        "id": "26Fwrkk4NCjm"
      },
      "outputs": [],
      "source": [
        "from lightgbm import LGBMClassifier\n",
        "\n",
        "lgbm_model = Pipeline([('vector',TfidfVectorizer()), ('lgbm', LGBMClassifier(n_estimators=1000,n_jobs=2,random_state=41,max_depth=-1,num_leaves=40))]) #Pipeline td-idf ---> lgbm\n",
        "lgbm_model.fit(x_train,y_train) # model training\n",
        "lgbm_pred=lgbm_model.predict(x_test) # model prediction\n",
        "\n",
        "model_result(model_name= 'LGBM', pred_val= lgbm_pred)\n",
        "#model_outputs"
      ]
    },
    {
      "cell_type": "markdown",
      "metadata": {
        "id": "KI05ZHErvoqY"
      },
      "source": [
        "###***K- Nearest Neighbour (KNN)***\n",
        "\n",
        "*K-Nearest Neighbors (KNN) algorithm, is a simple and widely used machine learning algorithm for classification and regression tasks.*\n",
        "\n",
        "*In KNN, the output value for a data point is determined by the k nearest data points in the training set. The algorithm works by measuring the distance between the data points using a distance metric (such as Euclidean distance), and then selecting the k nearest neighbors based on the distance. The output value for the new data point is then determined by a **majority vote or averaging of the output values of the k neighbors**.*\n",
        "\n",
        "*One of the advantages of KNN is that it is easy to understand and implement. Additionally, KNN is a non-parametric algorithm, which means it does not make any assumptions about the underlying distribution of the data. However, KNN can be computationally expensive for large datasets, and the performance can be sensitive to the choice of k and the distance metric.*\n",
        "\n",
        "*Overall, KNN is a simple yet powerful algorithm that can be effective for a wide range of classification and regression tasks, especially for small to medium-sized datasets.*\n",
        "\n"
      ]
    },
    {
      "cell_type": "code",
      "execution_count": 37,
      "metadata": {
        "id": "Fh-qr42V5r6C"
      },
      "outputs": [],
      "source": [
        "from sklearn.neighbors import KNeighborsClassifier\n",
        "from sklearn.model_selection import cross_val_score\n",
        "import numpy as np"
      ]
    },
    {
      "cell_type": "code",
      "execution_count": 38,
      "metadata": {
        "id": "5loilMaJ-Anq"
      },
      "outputs": [],
      "source": [
        "#finding best k-value\n",
        "def find_best_k(x, y,scoring_param):\n",
        "    k_range = range(1, 6)\n",
        "    k_scores = []\n",
        "    print('Finding best k value:')\n",
        "    for k in k_range:\n",
        "        print(f'For k = {k}',end='    -------------------->>>>>    ') #To Track\n",
        "        knn = KNeighborsClassifier(n_neighbors=k)\n",
        "        scores = cross_val_score(knn, x, y, cv=10, scoring=scoring_param)  #k value using cross-validation (K-Fold CV). Here, 10-Fold CV\n",
        "        print(f'{scoring_param} = ',scores.mean()) #To Track\n",
        "        k_scores.append(scores.mean())\n",
        "\n",
        "    best_k = k_range[np.argmax(k_scores)]\n",
        "    return best_k\n",
        "\n",
        "#vectorizor=TfidfVectorizer()\n",
        "#x_data=vectorizor.fit_transform(x_train)\n",
        "#x,y=find_best_k(x_data,y_train)"
      ]
    },
    {
      "cell_type": "code",
      "execution_count": 39,
      "metadata": {
        "id": "GwOpjTlI-LKa",
        "colab": {
          "base_uri": "https://localhost:8080/"
        },
        "outputId": "fe8953df-fa32-4461-baa8-6015919e2d26"
      },
      "outputs": [
        {
          "output_type": "stream",
          "name": "stdout",
          "text": [
            "Finding best k value:\n",
            "For k = 1    -------------------->>>>>    accuracy =  0.9520512594534749\n",
            "For k = 2    -------------------->>>>>    accuracy =  0.9435253221847051\n",
            "For k = 3    -------------------->>>>>    accuracy =  0.9432515332729878\n",
            "For k = 4    -------------------->>>>>    accuracy =  0.9407094153151648\n",
            "For k = 5    -------------------->>>>>    accuracy =  0.9406703069850904\n",
            "Number of N-neighbours = 1\n"
          ]
        }
      ],
      "source": [
        "#pipeline with TF-IDF vectorization and KNN classifier\n",
        "knn_model = Pipeline([('vectorizer', TfidfVectorizer()), ('knn', KNeighborsClassifier())])\n",
        "\n",
        "# Train the model using the best k value\n",
        "knn_model.fit(x_train, y_train)\n",
        "\n",
        "#setting best k value to the model\n",
        "knn_model.set_params(knn__n_neighbors=find_best_k(x= knn_model['vectorizer'].transform(x_train), y= y_train, scoring_param='accuracy'))\n",
        "\n",
        "# Use function to find best k value used in 'knn'\n",
        "n = knn_model.named_steps['knn'].n_neighbors\n",
        "print(f'Number of N-neighbours = {n}')\n",
        "\n",
        "#Model Train\n",
        "knn_model.fit(x_train, y_train)\n",
        "\n",
        "# Make predictions on the test set\n",
        "knn_pred = knn_model.predict(x_test)\n",
        "\n",
        "#model_outputs\n",
        "model_result(model_name= 'KNeighbors', pred_val= knn_pred)\n"
      ]
    },
    {
      "cell_type": "markdown",
      "source": [
        "###***K-Means***\n",
        "\n",
        "    Used to find target variable, so as it could further pass through supervised ML algo.\n",
        "\n",
        "*K-Means algorithm, is a popular unsupervised machine learning algorithm for clustering data points into K clusters based on their similarity.*\n",
        "\n",
        "*In K-Means, the algorithm iteratively partitions the data points into K clusters by minimizing the sum of squared distances between the data points and their assigned cluster centroids.*\n",
        "\n",
        "*The algorithm starts by randomly selecting K data points as the initial centroids, then assigns each data point to the nearest centroid, and updates the centroids based on the mean of the assigned data points. This process repeats until convergence, which occurs when the centroids no longer change significantly.*\n",
        "\n",
        "*One of the advantages of K-Means is that it is relatively fast and scalable, making it suitable for large datasets. However, K-Means can be sensitive to the choice of the initial centroids, and the algorithm may converge to a suboptimal solution if the initial centroids are not representative of the data*.\n",
        "\n",
        "*Overall, K-Means is a powerful algorithm for clustering data points into K groups based on their similarity, and can be used in a variety of applications such as image segmentation, customer segmentation, and anomaly detection.*"
      ],
      "metadata": {
        "id": "hjROKoF0_4Xr"
      }
    },
    {
      "cell_type": "code",
      "source": [
        "from sklearn.cluster import KMeans\n",
        "\n",
        "kmeans_model =  Pipeline([('vector',TfidfVectorizer()), ('kmeans', KMeans(random_state=41))]) #Pipeline td-idf ---> kmeans"
      ],
      "metadata": {
        "id": "Q2Kqs9ZF-8tK"
      },
      "execution_count": 40,
      "outputs": []
    },
    {
      "cell_type": "code",
      "source": [
        "#finding WCSS, Within Cluster Sum of Square --> Square Sum of Eucledian distances between each points in a cluster from the centroid of that cluster\n",
        "wcss=[]\n",
        "cluster_range = range(1,11)\n",
        "for k in cluster_range:\n",
        "  #setting k no. of clusters to the model\n",
        "  kmeans_model.set_params(kmeans__n_clusters=k)\n",
        "  kmeans_model.fit(x_train)\n",
        "  wcss.append(int(kmeans_model['kmeans'].inertia_))\n",
        "\n",
        "plt.figure(figsize=(6,4))\n",
        "plt.plot(cluster_range,wcss,marker='o')\n",
        "plt.xlabel('No. of Clusters')\n",
        "plt.ylabel('Within Cluster Sum of Square')\n",
        "plt.title('Elbow Method')\n",
        "\n",
        "plt.show()"
      ],
      "metadata": {
        "id": "bS1ND7l8TV8z",
        "colab": {
          "base_uri": "https://localhost:8080/",
          "height": 0
        },
        "outputId": "f1c63eb1-4fd1-41f8-814a-1d1d8cc4f88d"
      },
      "execution_count": 41,
      "outputs": [
        {
          "output_type": "stream",
          "name": "stderr",
          "text": [
            "/usr/local/lib/python3.10/dist-packages/sklearn/cluster/_kmeans.py:870: FutureWarning: The default value of `n_init` will change from 10 to 'auto' in 1.4. Set the value of `n_init` explicitly to suppress the warning\n",
            "  warnings.warn(\n"
          ]
        },
        {
          "output_type": "display_data",
          "data": {
            "text/plain": [
              "<Figure size 600x400 with 1 Axes>"
            ],
            "image/png": "[encoded data removed]"
          },
          "metadata": {}
        }
      ]
    },
    {
      "cell_type": "code",
      "source": [
        "#best no. of cluster is 3\n",
        "best_n_cluster=1\n",
        "kmeans_model.set_params(kmeans__n_clusters = best_n_cluster)\n",
        "kmeans_model.fit(x_train)\n",
        "kmeans_pred = kmeans_model.predict(x_test)\n",
        "\n",
        "#model_outputs\n",
        "model_outputs['KMeans'] = {'accuracy':accuracy_score(y_true=y_test, y_pred=kmeans_pred),\n",
        "                              'f1_score':f1_score(y_true=y_test, y_pred=kmeans_pred,average='weighted'),         #Target is multiclass but average='binary'. Please choose another average setting, one of [None, 'micro', 'macro', 'weighted'].\n",
        "                              'mean_squared_error':mean_squared_error(y_true=y_test, y_pred=kmeans_pred)}\n"
      ],
      "metadata": {
        "id": "GxNAtlbQYzi_"
      },
      "execution_count": 42,
      "outputs": []
    },
    {
      "cell_type": "markdown",
      "metadata": {
        "id": "iO2ShY0TQCBk"
      },
      "source": [
        "###***Model Outputs***"
      ]
    },
    {
      "cell_type": "code",
      "execution_count": 43,
      "metadata": {
        "id": "Zy_xIXK_QAGm",
        "colab": {
          "base_uri": "https://localhost:8080/",
          "height": 0
        },
        "outputId": "c66f926a-7d40-4dce-faa5-adad25bbad07"
      },
      "outputs": [
        {
          "output_type": "execute_result",
          "data": {
            "text/plain": [
              "              accuracy  f1_score  mean_squared_error\n",
              "LogRegress    0.944471  0.458015            0.055529\n",
              "DecisionTree  0.947286  0.643386            0.052714\n",
              "RandomForest  0.962303  0.689032            0.037697\n",
              "NB            0.962303  0.689032            0.037697\n",
              "SVC           0.956359  0.610879            0.043641\n",
              "XGB           0.953230  0.624843            0.046770\n",
              "LGBM          0.948850  0.607443            0.051150\n",
              "KNeighbors    0.948694  0.532764            0.051306\n",
              "KMeans        0.923354  0.886558            0.076646"
            ],
            "text/html": [
              "\n",
              "  <div id=\"df-98b2f919-c7ca-43d1-b504-5b1cdce0cc32\">\n",
              "    <div class=\"colab-df-container\">\n",
              "      <div>\n",
              "<style scoped>\n",
              "    .dataframe tbody tr th:only-of-type {\n",
              "        vertical-align: middle;\n",
              "    }\n",
              "\n",
              "    .dataframe tbody tr th {\n",
              "        vertical-align: top;\n",
              "    }\n",
              "\n",
              "    .dataframe thead th {\n",
              "        text-align: right;\n",
              "    }\n",
              "</style>\n",
              "<table border=\"1\" class=\"dataframe\">\n",
              "  <thead>\n",
              "    <tr style=\"text-align: right;\">\n",
              "      <th></th>\n",
              "      <th>accuracy</th>\n",
              "      <th>f1_score</th>\n",
              "      <th>mean_squared_error</th>\n",
              "    </tr>\n",
              "  </thead>\n",
              "  <tbody>\n",
              "    <tr>\n",
              "      <th>LogRegress</th>\n",
              "      <td>0.944471</td>\n",
              "      <td>0.458015</td>\n",
              "      <td>0.055529</td>\n",
              "    </tr>\n",
              "    <tr>\n",
              "      <th>DecisionTree</th>\n",
              "      <td>0.947286</td>\n",
              "      <td>0.643386</td>\n",
              "      <td>0.052714</td>\n",
              "    </tr>\n",
              "    <tr>\n",
              "      <th>RandomForest</th>\n",
              "      <td>0.962303</td>\n",
              "      <td>0.689032</td>\n",
              "      <td>0.037697</td>\n",
              "    </tr>\n",
              "    <tr>\n",
              "      <th>NB</th>\n",
              "      <td>0.962303</td>\n",
              "      <td>0.689032</td>\n",
              "      <td>0.037697</td>\n",
              "    </tr>\n",
              "    <tr>\n",
              "      <th>SVC</th>\n",
              "      <td>0.956359</td>\n",
              "      <td>0.610879</td>\n",
              "      <td>0.043641</td>\n",
              "    </tr>\n",
              "    <tr>\n",
              "      <th>XGB</th>\n",
              "      <td>0.953230</td>\n",
              "      <td>0.624843</td>\n",
              "      <td>0.046770</td>\n",
              "    </tr>\n",
              "    <tr>\n",
              "      <th>LGBM</th>\n",
              "      <td>0.948850</td>\n",
              "      <td>0.607443</td>\n",
              "      <td>0.051150</td>\n",
              "    </tr>\n",
              "    <tr>\n",
              "      <th>KNeighbors</th>\n",
              "      <td>0.948694</td>\n",
              "      <td>0.532764</td>\n",
              "      <td>0.051306</td>\n",
              "    </tr>\n",
              "    <tr>\n",
              "      <th>KMeans</th>\n",
              "      <td>0.923354</td>\n",
              "      <td>0.886558</td>\n",
              "      <td>0.076646</td>\n",
              "    </tr>\n",
              "  </tbody>\n",
              "</table>\n",
              "</div>\n",
              "      <button class=\"colab-df-convert\" onclick=\"convertToInteractive('df-98b2f919-c7ca-43d1-b504-5b1cdce0cc32')\"\n",
              "              title=\"Convert this dataframe to an interactive table.\"\n",
              "              style=\"display:none;\">\n",
              "        \n",
              "  <svg xmlns=\"http://www.w3.org/2000/svg\" height=\"24px\"viewBox=\"0 0 24 24\"\n",
              "       width=\"24px\">\n",
              "    <path d=\"M0 0h24v24H0V0z\" fill=\"none\"/>\n",
              "    <path d=\"M18.56 5.44l.94 2.06.94-2.06 2.06-.94-2.06-.94-.94-2.06-.94 2.06-2.06.94zm-11 1L8.5 8.5l.94-2.06 2.06-.94-2.06-.94L8.5 2.5l-.94 2.06-2.06.94zm10 10l.94 2.06.94-2.06 2.06-.94-2.06-.94-.94-2.06-.94 2.06-2.06.94z\"/><path d=\"M17.41 7.96l-1.37-1.37c-.4-.4-.92-.59-1.43-.59-.52 0-1.04.2-1.43.59L10.3 9.45l-7.72 7.72c-.78.78-.78 2.05 0 2.83L4 21.41c.39.39.9.59 1.41.59.51 0 1.02-.2 1.41-.59l7.78-7.78 2.81-2.81c.8-.78.8-2.07 0-2.86zM5.41 20L4 18.59l7.72-7.72 1.47 1.35L5.41 20z\"/>\n",
              "  </svg>\n",
              "      </button>\n",
              "      \n",
              "  <style>\n",
              "    .colab-df-container {\n",
              "      display:flex;\n",
              "      flex-wrap:wrap;\n",
              "      gap: 12px;\n",
              "    }\n",
              "\n",
              "    .colab-df-convert {\n",
              "      background-color: #E8F0FE;\n",
              "      border: none;\n",
              "      border-radius: 50%;\n",
              "      cursor: pointer;\n",
              "      display: none;\n",
              "      fill: #1967D2;\n",
              "      height: 32px;\n",
              "      padding: 0 0 0 0;\n",
              "      width: 32px;\n",
              "    }\n",
              "\n",
              "    .colab-df-convert:hover {\n",
              "      background-color: #E2EBFA;\n",
              "      box-shadow: 0px 1px 2px rgba(60, 64, 67, 0.3), 0px 1px 3px 1px rgba(60, 64, 67, 0.15);\n",
              "      fill: #174EA6;\n",
              "    }\n",
              "\n",
              "    [theme=dark] .colab-df-convert {\n",
              "      background-color: #3B4455;\n",
              "      fill: #D2E3FC;\n",
              "    }\n",
              "\n",
              "    [theme=dark] .colab-df-convert:hover {\n",
              "      background-color: #434B5C;\n",
              "      box-shadow: 0px 1px 3px 1px rgba(0, 0, 0, 0.15);\n",
              "      filter: drop-shadow(0px 1px 2px rgba(0, 0, 0, 0.3));\n",
              "      fill: #FFFFFF;\n",
              "    }\n",
              "  </style>\n",
              "\n",
              "      <script>\n",
              "        const buttonEl =\n",
              "          document.querySelector('#df-98b2f919-c7ca-43d1-b504-5b1cdce0cc32 button.colab-df-convert');\n",
              "        buttonEl.style.display =\n",
              "          google.colab.kernel.accessAllowed ? 'block' : 'none';\n",
              "\n",
              "        async function convertToInteractive(key) {\n",
              "          const element = document.querySelector('#df-98b2f919-c7ca-43d1-b504-5b1cdce0cc32');\n",
              "          const dataTable =\n",
              "            await google.colab.kernel.invokeFunction('convertToInteractive',\n",
              "                                                     [key], {});\n",
              "          if (!dataTable) return;\n",
              "\n",
              "          const docLinkHtml = 'Like what you see? Visit the ' +\n",
              "            '<a target=\"_blank\" href=https://colab.research.google.com/notebooks/data_table.ipynb>data table notebook</a>'\n",
              "            + ' to learn more about interactive tables.';\n",
              "          element.innerHTML = '';\n",
              "          dataTable['output_type'] = 'display_data';\n",
              "          await google.colab.output.renderOutput(dataTable, element);\n",
              "          const docLink = document.createElement('div');\n",
              "          docLink.innerHTML = docLinkHtml;\n",
              "          element.appendChild(docLink);\n",
              "        }\n",
              "      </script>\n",
              "    </div>\n",
              "  </div>\n",
              "  "
            ]
          },
          "metadata": {},
          "execution_count": 43
        }
      ],
      "source": [
        "ml_model_df = pd.DataFrame(model_outputs).T\n",
        "ml_model_df"
      ]
    },
    {
      "cell_type": "markdown",
      "metadata": {
        "id": "-vzoIpygEKjh"
      },
      "source": [
        "######LOGIC ---> Model Building"
      ]
    },
    {
      "cell_type": "code",
      "execution_count": 44,
      "metadata": {
        "id": "hqOfpq7hRH0L"
      },
      "outputs": [],
      "source": [
        "def model_metrics(df, metric, rev_cond):\n",
        "  '''model_accuracy=list(df[df['accuracy']==max(df['accuracy'])].index)\n",
        "  model_f1score=list(df[df['f1_score']==max(df['f1_score'])].index)\n",
        "  model_mse=list(df[df['mean_squared_error']==min(df['mean_squared_error'])].index)'''\n",
        "\n",
        "  #model_accuracy= enumerate(df.sort_values(by='accuracy',axis=0, ascending=False).index)\n",
        "\n",
        "  # Create a dictionary to store the rankings\n",
        "  rankings = {}\n",
        "\n",
        "  # Loop through the dictionary to find the unique values and sort them in descending order\n",
        "  sorted_values = sorted(set(df[metric]), reverse=rev_cond)\n",
        "\n",
        "  # Loop through the sorted values and assign a rank to each key\n",
        "  for rank, value in enumerate(sorted_values, start=1):\n",
        "      # Find the keys that have this value\n",
        "      keys_with_value = [list(df[df[metric]==val].index) for val in df[metric].unique() if val==value ]\n",
        "\n",
        "      # If there's only one key with this value, add it to the rankings dictionary\n",
        "      if len(keys_with_value) == 1:\n",
        "          rankings[rank] = ', '.join(keys_with_value[0])\n",
        "      # If there are multiple keys with this value, add them as a list\n",
        "      else:\n",
        "          rankings[rank] = keys_with_value[0]\n",
        "\n",
        "  return rankings\n",
        "\n",
        "\n",
        "#dict(model_metrics(ml_model_df,'accuracy',True))"
      ]
    },
    {
      "cell_type": "markdown",
      "metadata": {
        "id": "dc7ag0tYEWTi"
      },
      "source": [
        "######LOGIC ---> Model Output"
      ]
    },
    {
      "cell_type": "code",
      "execution_count": 45,
      "metadata": {
        "id": "rbEjURP7fYjU",
        "colab": {
          "base_uri": "https://localhost:8080/",
          "height": 0
        },
        "outputId": "9c2ec224-74a3-4929-f155-b88bc074276e"
      },
      "outputs": [
        {
          "output_type": "execute_result",
          "data": {
            "text/plain": [
              "              accuracy  f1_score  mean_squared_error\n",
              "LogRegress    0.944471  0.458015            0.055529\n",
              "DecisionTree  0.947286  0.643386            0.052714\n",
              "RandomForest  0.962303  0.689032            0.037697\n",
              "NB            0.962303  0.689032            0.037697\n",
              "SVC           0.956359  0.610879            0.043641\n",
              "XGB           0.953230  0.624843            0.046770\n",
              "LGBM          0.948850  0.607443            0.051150\n",
              "KNeighbors    0.948694  0.532764            0.051306\n",
              "KMeans        0.923354  0.886558            0.076646"
            ],
            "text/html": [
              "\n",
              "  <div id=\"df-72e1764e-6826-4654-8c45-ef111ad78863\">\n",
              "    <div class=\"colab-df-container\">\n",
              "      <div>\n",
              "<style scoped>\n",
              "    .dataframe tbody tr th:only-of-type {\n",
              "        vertical-align: middle;\n",
              "    }\n",
              "\n",
              "    .dataframe tbody tr th {\n",
              "        vertical-align: top;\n",
              "    }\n",
              "\n",
              "    .dataframe thead th {\n",
              "        text-align: right;\n",
              "    }\n",
              "</style>\n",
              "<table border=\"1\" class=\"dataframe\">\n",
              "  <thead>\n",
              "    <tr style=\"text-align: right;\">\n",
              "      <th></th>\n",
              "      <th>accuracy</th>\n",
              "      <th>f1_score</th>\n",
              "      <th>mean_squared_error</th>\n",
              "    </tr>\n",
              "  </thead>\n",
              "  <tbody>\n",
              "    <tr>\n",
              "      <th>LogRegress</th>\n",
              "      <td>0.944471</td>\n",
              "      <td>0.458015</td>\n",
              "      <td>0.055529</td>\n",
              "    </tr>\n",
              "    <tr>\n",
              "      <th>DecisionTree</th>\n",
              "      <td>0.947286</td>\n",
              "      <td>0.643386</td>\n",
              "      <td>0.052714</td>\n",
              "    </tr>\n",
              "    <tr>\n",
              "      <th>RandomForest</th>\n",
              "      <td>0.962303</td>\n",
              "      <td>0.689032</td>\n",
              "      <td>0.037697</td>\n",
              "    </tr>\n",
              "    <tr>\n",
              "      <th>NB</th>\n",
              "      <td>0.962303</td>\n",
              "      <td>0.689032</td>\n",
              "      <td>0.037697</td>\n",
              "    </tr>\n",
              "    <tr>\n",
              "      <th>SVC</th>\n",
              "      <td>0.956359</td>\n",
              "      <td>0.610879</td>\n",
              "      <td>0.043641</td>\n",
              "    </tr>\n",
              "    <tr>\n",
              "      <th>XGB</th>\n",
              "      <td>0.953230</td>\n",
              "      <td>0.624843</td>\n",
              "      <td>0.046770</td>\n",
              "    </tr>\n",
              "    <tr>\n",
              "      <th>LGBM</th>\n",
              "      <td>0.948850</td>\n",
              "      <td>0.607443</td>\n",
              "      <td>0.051150</td>\n",
              "    </tr>\n",
              "    <tr>\n",
              "      <th>KNeighbors</th>\n",
              "      <td>0.948694</td>\n",
              "      <td>0.532764</td>\n",
              "      <td>0.051306</td>\n",
              "    </tr>\n",
              "    <tr>\n",
              "      <th>KMeans</th>\n",
              "      <td>0.923354</td>\n",
              "      <td>0.886558</td>\n",
              "      <td>0.076646</td>\n",
              "    </tr>\n",
              "  </tbody>\n",
              "</table>\n",
              "</div>\n",
              "      <button class=\"colab-df-convert\" onclick=\"convertToInteractive('df-72e1764e-6826-4654-8c45-ef111ad78863')\"\n",
              "              title=\"Convert this dataframe to an interactive table.\"\n",
              "              style=\"display:none;\">\n",
              "        \n",
              "  <svg xmlns=\"http://www.w3.org/2000/svg\" height=\"24px\"viewBox=\"0 0 24 24\"\n",
              "       width=\"24px\">\n",
              "    <path d=\"M0 0h24v24H0V0z\" fill=\"none\"/>\n",
              "    <path d=\"M18.56 5.44l.94 2.06.94-2.06 2.06-.94-2.06-.94-.94-2.06-.94 2.06-2.06.94zm-11 1L8.5 8.5l.94-2.06 2.06-.94-2.06-.94L8.5 2.5l-.94 2.06-2.06.94zm10 10l.94 2.06.94-2.06 2.06-.94-2.06-.94-.94-2.06-.94 2.06-2.06.94z\"/><path d=\"M17.41 7.96l-1.37-1.37c-.4-.4-.92-.59-1.43-.59-.52 0-1.04.2-1.43.59L10.3 9.45l-7.72 7.72c-.78.78-.78 2.05 0 2.83L4 21.41c.39.39.9.59 1.41.59.51 0 1.02-.2 1.41-.59l7.78-7.78 2.81-2.81c.8-.78.8-2.07 0-2.86zM5.41 20L4 18.59l7.72-7.72 1.47 1.35L5.41 20z\"/>\n",
              "  </svg>\n",
              "      </button>\n",
              "      \n",
              "  <style>\n",
              "    .colab-df-container {\n",
              "      display:flex;\n",
              "      flex-wrap:wrap;\n",
              "      gap: 12px;\n",
              "    }\n",
              "\n",
              "    .colab-df-convert {\n",
              "      background-color: #E8F0FE;\n",
              "      border: none;\n",
              "      border-radius: 50%;\n",
              "      cursor: pointer;\n",
              "      display: none;\n",
              "      fill: #1967D2;\n",
              "      height: 32px;\n",
              "      padding: 0 0 0 0;\n",
              "      width: 32px;\n",
              "    }\n",
              "\n",
              "    .colab-df-convert:hover {\n",
              "      background-color: #E2EBFA;\n",
              "      box-shadow: 0px 1px 2px rgba(60, 64, 67, 0.3), 0px 1px 3px 1px rgba(60, 64, 67, 0.15);\n",
              "      fill: #174EA6;\n",
              "    }\n",
              "\n",
              "    [theme=dark] .colab-df-convert {\n",
              "      background-color: #3B4455;\n",
              "      fill: #D2E3FC;\n",
              "    }\n",
              "\n",
              "    [theme=dark] .colab-df-convert:hover {\n",
              "      background-color: #434B5C;\n",
              "      box-shadow: 0px 1px 3px 1px rgba(0, 0, 0, 0.15);\n",
              "      filter: drop-shadow(0px 1px 2px rgba(0, 0, 0, 0.3));\n",
              "      fill: #FFFFFF;\n",
              "    }\n",
              "  </style>\n",
              "\n",
              "      <script>\n",
              "        const buttonEl =\n",
              "          document.querySelector('#df-72e1764e-6826-4654-8c45-ef111ad78863 button.colab-df-convert');\n",
              "        buttonEl.style.display =\n",
              "          google.colab.kernel.accessAllowed ? 'block' : 'none';\n",
              "\n",
              "        async function convertToInteractive(key) {\n",
              "          const element = document.querySelector('#df-72e1764e-6826-4654-8c45-ef111ad78863');\n",
              "          const dataTable =\n",
              "            await google.colab.kernel.invokeFunction('convertToInteractive',\n",
              "                                                     [key], {});\n",
              "          if (!dataTable) return;\n",
              "\n",
              "          const docLinkHtml = 'Like what you see? Visit the ' +\n",
              "            '<a target=\"_blank\" href=https://colab.research.google.com/notebooks/data_table.ipynb>data table notebook</a>'\n",
              "            + ' to learn more about interactive tables.';\n",
              "          element.innerHTML = '';\n",
              "          dataTable['output_type'] = 'display_data';\n",
              "          await google.colab.output.renderOutput(dataTable, element);\n",
              "          const docLink = document.createElement('div');\n",
              "          docLink.innerHTML = docLinkHtml;\n",
              "          element.appendChild(docLink);\n",
              "        }\n",
              "      </script>\n",
              "    </div>\n",
              "  </div>\n",
              "  "
            ]
          },
          "metadata": {},
          "execution_count": 45
        }
      ],
      "source": [
        "ml_model_df"
      ]
    },
    {
      "cell_type": "code",
      "execution_count": 46,
      "metadata": {
        "id": "bS-Wr6p9etZb",
        "colab": {
          "base_uri": "https://localhost:8080/",
          "height": 0
        },
        "outputId": "21f2b63a-9ca6-4385-8940-a4bdd627a76f"
      },
      "outputs": [
        {
          "output_type": "execute_result",
          "data": {
            "text/plain": [
              "           accuracy          f1_score               MSE\n",
              "1  RandomForest, NB            KMeans  RandomForest, NB\n",
              "2               SVC  RandomForest, NB               SVC\n",
              "3               XGB      DecisionTree               XGB\n",
              "4              LGBM               XGB              LGBM\n",
              "5        KNeighbors               SVC        KNeighbors\n",
              "6      DecisionTree              LGBM      DecisionTree\n",
              "7        LogRegress        KNeighbors        LogRegress\n",
              "8            KMeans        LogRegress            KMeans"
            ],
            "text/html": [
              "\n",
              "  <div id=\"df-73a04bf3-f8f9-4bb4-bd42-d7b26934bb3e\">\n",
              "    <div class=\"colab-df-container\">\n",
              "      <div>\n",
              "<style scoped>\n",
              "    .dataframe tbody tr th:only-of-type {\n",
              "        vertical-align: middle;\n",
              "    }\n",
              "\n",
              "    .dataframe tbody tr th {\n",
              "        vertical-align: top;\n",
              "    }\n",
              "\n",
              "    .dataframe thead th {\n",
              "        text-align: right;\n",
              "    }\n",
              "</style>\n",
              "<table border=\"1\" class=\"dataframe\">\n",
              "  <thead>\n",
              "    <tr style=\"text-align: right;\">\n",
              "      <th></th>\n",
              "      <th>accuracy</th>\n",
              "      <th>f1_score</th>\n",
              "      <th>MSE</th>\n",
              "    </tr>\n",
              "  </thead>\n",
              "  <tbody>\n",
              "    <tr>\n",
              "      <th>1</th>\n",
              "      <td>RandomForest, NB</td>\n",
              "      <td>KMeans</td>\n",
              "      <td>RandomForest, NB</td>\n",
              "    </tr>\n",
              "    <tr>\n",
              "      <th>2</th>\n",
              "      <td>SVC</td>\n",
              "      <td>RandomForest, NB</td>\n",
              "      <td>SVC</td>\n",
              "    </tr>\n",
              "    <tr>\n",
              "      <th>3</th>\n",
              "      <td>XGB</td>\n",
              "      <td>DecisionTree</td>\n",
              "      <td>XGB</td>\n",
              "    </tr>\n",
              "    <tr>\n",
              "      <th>4</th>\n",
              "      <td>LGBM</td>\n",
              "      <td>XGB</td>\n",
              "      <td>LGBM</td>\n",
              "    </tr>\n",
              "    <tr>\n",
              "      <th>5</th>\n",
              "      <td>KNeighbors</td>\n",
              "      <td>SVC</td>\n",
              "      <td>KNeighbors</td>\n",
              "    </tr>\n",
              "    <tr>\n",
              "      <th>6</th>\n",
              "      <td>DecisionTree</td>\n",
              "      <td>LGBM</td>\n",
              "      <td>DecisionTree</td>\n",
              "    </tr>\n",
              "    <tr>\n",
              "      <th>7</th>\n",
              "      <td>LogRegress</td>\n",
              "      <td>KNeighbors</td>\n",
              "      <td>LogRegress</td>\n",
              "    </tr>\n",
              "    <tr>\n",
              "      <th>8</th>\n",
              "      <td>KMeans</td>\n",
              "      <td>LogRegress</td>\n",
              "      <td>KMeans</td>\n",
              "    </tr>\n",
              "  </tbody>\n",
              "</table>\n",
              "</div>\n",
              "      <button class=\"colab-df-convert\" onclick=\"convertToInteractive('df-73a04bf3-f8f9-4bb4-bd42-d7b26934bb3e')\"\n",
              "              title=\"Convert this dataframe to an interactive table.\"\n",
              "              style=\"display:none;\">\n",
              "        \n",
              "  <svg xmlns=\"http://www.w3.org/2000/svg\" height=\"24px\"viewBox=\"0 0 24 24\"\n",
              "       width=\"24px\">\n",
              "    <path d=\"M0 0h24v24H0V0z\" fill=\"none\"/>\n",
              "    <path d=\"M18.56 5.44l.94 2.06.94-2.06 2.06-.94-2.06-.94-.94-2.06-.94 2.06-2.06.94zm-11 1L8.5 8.5l.94-2.06 2.06-.94-2.06-.94L8.5 2.5l-.94 2.06-2.06.94zm10 10l.94 2.06.94-2.06 2.06-.94-2.06-.94-.94-2.06-.94 2.06-2.06.94z\"/><path d=\"M17.41 7.96l-1.37-1.37c-.4-.4-.92-.59-1.43-.59-.52 0-1.04.2-1.43.59L10.3 9.45l-7.72 7.72c-.78.78-.78 2.05 0 2.83L4 21.41c.39.39.9.59 1.41.59.51 0 1.02-.2 1.41-.59l7.78-7.78 2.81-2.81c.8-.78.8-2.07 0-2.86zM5.41 20L4 18.59l7.72-7.72 1.47 1.35L5.41 20z\"/>\n",
              "  </svg>\n",
              "      </button>\n",
              "      \n",
              "  <style>\n",
              "    .colab-df-container {\n",
              "      display:flex;\n",
              "      flex-wrap:wrap;\n",
              "      gap: 12px;\n",
              "    }\n",
              "\n",
              "    .colab-df-convert {\n",
              "      background-color: #E8F0FE;\n",
              "      border: none;\n",
              "      border-radius: 50%;\n",
              "      cursor: pointer;\n",
              "      display: none;\n",
              "      fill: #1967D2;\n",
              "      height: 32px;\n",
              "      padding: 0 0 0 0;\n",
              "      width: 32px;\n",
              "    }\n",
              "\n",
              "    .colab-df-convert:hover {\n",
              "      background-color: #E2EBFA;\n",
              "      box-shadow: 0px 1px 2px rgba(60, 64, 67, 0.3), 0px 1px 3px 1px rgba(60, 64, 67, 0.15);\n",
              "      fill: #174EA6;\n",
              "    }\n",
              "\n",
              "    [theme=dark] .colab-df-convert {\n",
              "      background-color: #3B4455;\n",
              "      fill: #D2E3FC;\n",
              "    }\n",
              "\n",
              "    [theme=dark] .colab-df-convert:hover {\n",
              "      background-color: #434B5C;\n",
              "      box-shadow: 0px 1px 3px 1px rgba(0, 0, 0, 0.15);\n",
              "      filter: drop-shadow(0px 1px 2px rgba(0, 0, 0, 0.3));\n",
              "      fill: #FFFFFF;\n",
              "    }\n",
              "  </style>\n",
              "\n",
              "      <script>\n",
              "        const buttonEl =\n",
              "          document.querySelector('#df-73a04bf3-f8f9-4bb4-bd42-d7b26934bb3e button.colab-df-convert');\n",
              "        buttonEl.style.display =\n",
              "          google.colab.kernel.accessAllowed ? 'block' : 'none';\n",
              "\n",
              "        async function convertToInteractive(key) {\n",
              "          const element = document.querySelector('#df-73a04bf3-f8f9-4bb4-bd42-d7b26934bb3e');\n",
              "          const dataTable =\n",
              "            await google.colab.kernel.invokeFunction('convertToInteractive',\n",
              "                                                     [key], {});\n",
              "          if (!dataTable) return;\n",
              "\n",
              "          const docLinkHtml = 'Like what you see? Visit the ' +\n",
              "            '<a target=\"_blank\" href=https://colab.research.google.com/notebooks/data_table.ipynb>data table notebook</a>'\n",
              "            + ' to learn more about interactive tables.';\n",
              "          element.innerHTML = '';\n",
              "          dataTable['output_type'] = 'display_data';\n",
              "          await google.colab.output.renderOutput(dataTable, element);\n",
              "          const docLink = document.createElement('div');\n",
              "          docLink.innerHTML = docLinkHtml;\n",
              "          element.appendChild(docLink);\n",
              "        }\n",
              "      </script>\n",
              "    </div>\n",
              "  </div>\n",
              "  "
            ]
          },
          "metadata": {},
          "execution_count": 46
        }
      ],
      "source": [
        "best_model={}\n",
        "# accuracy measures how well the model can classify instances into their correct categories. A higher accuracy score indicates better performance of the model. [(TP+TN)/(TP+FP+TN+FN)]\n",
        "best_model['accuracy']=dict(model_metrics(ml_model_df,'accuracy',True))\n",
        "\n",
        "#Precision measures how many of the positive predictions by the model (positive y_pred) were actually correct (correct y_test).  [TP/(TP+FP)]\n",
        "#Recall measures how many of the actual positives (positive y_test) were correctly predicted by the model (correct y_pred).  [TP/(TP+FN)]\n",
        "#f1-score is the harmonic mean of precision and recall, and it ranges from 0 to 1, with 1 being the best possible score. An f1-score closer to 1 indicates a better performing model. [2*precision*recall/(precision+recall)]\n",
        "best_model['f1_score']=dict(model_metrics(ml_model_df,'f1_score',True))\n",
        "\n",
        "#MSE measures the average squared difference between the predicted and actual values (SSE= SST-SSR). It provides a measure of the quality of the model's predictions. A lower MSE indicates better performance of the model.\n",
        "# [sqrt(SSE/n)]\n",
        "best_model['MSE']=dict(model_metrics(ml_model_df,'mean_squared_error',False))\n",
        "\n",
        "ml_model_rankings = pd.DataFrame(best_model)\n",
        "ml_model_rankings"
      ]
    },
    {
      "cell_type": "code",
      "execution_count": 47,
      "metadata": {
        "id": "azFQu5NQg3sN",
        "colab": {
          "base_uri": "https://localhost:8080/",
          "height": 0
        },
        "outputId": "1e22b818-dcbe-4c7d-fb82-b65feb40c660"
      },
      "outputs": [
        {
          "output_type": "execute_result",
          "data": {
            "text/plain": [
              "              accuracy  f1_score  mean_squared_error\n",
              "LogRegress   -0.467748 -1.611001            0.467748\n",
              "DecisionTree -0.213469  0.048260            0.213469\n",
              "RandomForest  1.142687  0.456839           -1.142687\n",
              "NB            1.142687  0.456839           -1.142687\n",
              "SVC           0.605875 -0.242716           -0.605875\n",
              "XGB           0.323343 -0.117720           -0.323343\n",
              "LGBM         -0.072203 -0.273469            0.072203\n",
              "KNeighbors   -0.086329 -0.941927            0.086329\n",
              "KMeans       -2.374842  2.224896            2.374842"
            ],
            "text/html": [
              "\n",
              "  <div id=\"df-5f31be6a-9778-487e-ab74-69580fbce1cb\">\n",
              "    <div class=\"colab-df-container\">\n",
              "      <div>\n",
              "<style scoped>\n",
              "    .dataframe tbody tr th:only-of-type {\n",
              "        vertical-align: middle;\n",
              "    }\n",
              "\n",
              "    .dataframe tbody tr th {\n",
              "        vertical-align: top;\n",
              "    }\n",
              "\n",
              "    .dataframe thead th {\n",
              "        text-align: right;\n",
              "    }\n",
              "</style>\n",
              "<table border=\"1\" class=\"dataframe\">\n",
              "  <thead>\n",
              "    <tr style=\"text-align: right;\">\n",
              "      <th></th>\n",
              "      <th>accuracy</th>\n",
              "      <th>f1_score</th>\n",
              "      <th>mean_squared_error</th>\n",
              "    </tr>\n",
              "  </thead>\n",
              "  <tbody>\n",
              "    <tr>\n",
              "      <th>LogRegress</th>\n",
              "      <td>-0.467748</td>\n",
              "      <td>-1.611001</td>\n",
              "      <td>0.467748</td>\n",
              "    </tr>\n",
              "    <tr>\n",
              "      <th>DecisionTree</th>\n",
              "      <td>-0.213469</td>\n",
              "      <td>0.048260</td>\n",
              "      <td>0.213469</td>\n",
              "    </tr>\n",
              "    <tr>\n",
              "      <th>RandomForest</th>\n",
              "      <td>1.142687</td>\n",
              "      <td>0.456839</td>\n",
              "      <td>-1.142687</td>\n",
              "    </tr>\n",
              "    <tr>\n",
              "      <th>NB</th>\n",
              "      <td>1.142687</td>\n",
              "      <td>0.456839</td>\n",
              "      <td>-1.142687</td>\n",
              "    </tr>\n",
              "    <tr>\n",
              "      <th>SVC</th>\n",
              "      <td>0.605875</td>\n",
              "      <td>-0.242716</td>\n",
              "      <td>-0.605875</td>\n",
              "    </tr>\n",
              "    <tr>\n",
              "      <th>XGB</th>\n",
              "      <td>0.323343</td>\n",
              "      <td>-0.117720</td>\n",
              "      <td>-0.323343</td>\n",
              "    </tr>\n",
              "    <tr>\n",
              "      <th>LGBM</th>\n",
              "      <td>-0.072203</td>\n",
              "      <td>-0.273469</td>\n",
              "      <td>0.072203</td>\n",
              "    </tr>\n",
              "    <tr>\n",
              "      <th>KNeighbors</th>\n",
              "      <td>-0.086329</td>\n",
              "      <td>-0.941927</td>\n",
              "      <td>0.086329</td>\n",
              "    </tr>\n",
              "    <tr>\n",
              "      <th>KMeans</th>\n",
              "      <td>-2.374842</td>\n",
              "      <td>2.224896</td>\n",
              "      <td>2.374842</td>\n",
              "    </tr>\n",
              "  </tbody>\n",
              "</table>\n",
              "</div>\n",
              "      <button class=\"colab-df-convert\" onclick=\"convertToInteractive('df-5f31be6a-9778-487e-ab74-69580fbce1cb')\"\n",
              "              title=\"Convert this dataframe to an interactive table.\"\n",
              "              style=\"display:none;\">\n",
              "        \n",
              "  <svg xmlns=\"http://www.w3.org/2000/svg\" height=\"24px\"viewBox=\"0 0 24 24\"\n",
              "       width=\"24px\">\n",
              "    <path d=\"M0 0h24v24H0V0z\" fill=\"none\"/>\n",
              "    <path d=\"M18.56 5.44l.94 2.06.94-2.06 2.06-.94-2.06-.94-.94-2.06-.94 2.06-2.06.94zm-11 1L8.5 8.5l.94-2.06 2.06-.94-2.06-.94L8.5 2.5l-.94 2.06-2.06.94zm10 10l.94 2.06.94-2.06 2.06-.94-2.06-.94-.94-2.06-.94 2.06-2.06.94z\"/><path d=\"M17.41 7.96l-1.37-1.37c-.4-.4-.92-.59-1.43-.59-.52 0-1.04.2-1.43.59L10.3 9.45l-7.72 7.72c-.78.78-.78 2.05 0 2.83L4 21.41c.39.39.9.59 1.41.59.51 0 1.02-.2 1.41-.59l7.78-7.78 2.81-2.81c.8-.78.8-2.07 0-2.86zM5.41 20L4 18.59l7.72-7.72 1.47 1.35L5.41 20z\"/>\n",
              "  </svg>\n",
              "      </button>\n",
              "      \n",
              "  <style>\n",
              "    .colab-df-container {\n",
              "      display:flex;\n",
              "      flex-wrap:wrap;\n",
              "      gap: 12px;\n",
              "    }\n",
              "\n",
              "    .colab-df-convert {\n",
              "      background-color: #E8F0FE;\n",
              "      border: none;\n",
              "      border-radius: 50%;\n",
              "      cursor: pointer;\n",
              "      display: none;\n",
              "      fill: #1967D2;\n",
              "      height: 32px;\n",
              "      padding: 0 0 0 0;\n",
              "      width: 32px;\n",
              "    }\n",
              "\n",
              "    .colab-df-convert:hover {\n",
              "      background-color: #E2EBFA;\n",
              "      box-shadow: 0px 1px 2px rgba(60, 64, 67, 0.3), 0px 1px 3px 1px rgba(60, 64, 67, 0.15);\n",
              "      fill: #174EA6;\n",
              "    }\n",
              "\n",
              "    [theme=dark] .colab-df-convert {\n",
              "      background-color: #3B4455;\n",
              "      fill: #D2E3FC;\n",
              "    }\n",
              "\n",
              "    [theme=dark] .colab-df-convert:hover {\n",
              "      background-color: #434B5C;\n",
              "      box-shadow: 0px 1px 3px 1px rgba(0, 0, 0, 0.15);\n",
              "      filter: drop-shadow(0px 1px 2px rgba(0, 0, 0, 0.3));\n",
              "      fill: #FFFFFF;\n",
              "    }\n",
              "  </style>\n",
              "\n",
              "      <script>\n",
              "        const buttonEl =\n",
              "          document.querySelector('#df-5f31be6a-9778-487e-ab74-69580fbce1cb button.colab-df-convert');\n",
              "        buttonEl.style.display =\n",
              "          google.colab.kernel.accessAllowed ? 'block' : 'none';\n",
              "\n",
              "        async function convertToInteractive(key) {\n",
              "          const element = document.querySelector('#df-5f31be6a-9778-487e-ab74-69580fbce1cb');\n",
              "          const dataTable =\n",
              "            await google.colab.kernel.invokeFunction('convertToInteractive',\n",
              "                                                     [key], {});\n",
              "          if (!dataTable) return;\n",
              "\n",
              "          const docLinkHtml = 'Like what you see? Visit the ' +\n",
              "            '<a target=\"_blank\" href=https://colab.research.google.com/notebooks/data_table.ipynb>data table notebook</a>'\n",
              "            + ' to learn more about interactive tables.';\n",
              "          element.innerHTML = '';\n",
              "          dataTable['output_type'] = 'display_data';\n",
              "          await google.colab.output.renderOutput(dataTable, element);\n",
              "          const docLink = document.createElement('div');\n",
              "          docLink.innerHTML = docLinkHtml;\n",
              "          element.appendChild(docLink);\n",
              "        }\n",
              "      </script>\n",
              "    </div>\n",
              "  </div>\n",
              "  "
            ]
          },
          "metadata": {},
          "execution_count": 47
        }
      ],
      "source": [
        "from sklearn.preprocessing import MinMaxScaler, StandardScaler\n",
        "\n",
        "# For Min-Max normalization\n",
        "##scaler = MinMaxScaler()\n",
        "\n",
        "# For standardization\n",
        "scaler = StandardScaler()\n",
        "\n",
        "# Fit the scaler to the data\n",
        "scaler.fit(ml_model_df[['accuracy', 'f1_score', 'mean_squared_error']])\n",
        "# Normalize the data\n",
        "ml_model_df[['accuracy', 'f1_score', 'mean_squared_error']] = scaler.transform(ml_model_df[['accuracy', 'f1_score', 'mean_squared_error']])\n",
        "ml_model_df"
      ]
    },
    {
      "cell_type": "markdown",
      "metadata": {
        "id": "2XegZ9CAMYg9"
      },
      "source": [
        "##***Model Performance Visualization***"
      ]
    },
    {
      "cell_type": "code",
      "execution_count": 48,
      "metadata": {
        "colab": {
          "base_uri": "https://localhost:8080/",
          "height": 468
        },
        "id": "4FIhzGwQdJfn",
        "outputId": "34eb872f-93e9-4351-83f2-ba24a489f5db"
      },
      "outputs": [
        {
          "output_type": "display_data",
          "data": {
            "text/plain": [
              "<Figure size 1300x500 with 1 Axes>"
            ],
            "image/png": "[encoded data removed]"
          },
          "metadata": {}
        }
      ],
      "source": [
        "from matplotlib import markers\n",
        "#Visualizing output\n",
        "import matplotlib.pyplot as plt\n",
        "\n",
        "x_axis = list(ml_model_df.index)\n",
        "y_axis = list(ml_model_df.values)\n",
        "\n",
        "plt.figure(figsize=(13, 5))\n",
        "plt.plot(x_axis,y_axis, marker='o')\n",
        "plt.grid(color = 'green', linestyle = '--', linewidth = 0.5)\n",
        "\n",
        "# Add axis labels and a title\n",
        "plt.ylabel('Machine Learning Model')\n",
        "plt.title('Performance Metrics Visualization', loc='center')\n",
        "plt.legend(ml_model_df.columns)\n",
        "plt.show()"
      ]
    },
    {
      "cell_type": "markdown",
      "source": [
        "###***MODEL SELECTION:***\n",
        "\n",
        "*In conclusion we will consider **Random forest** and **Naive Bayes** Models for our predictions.*"
      ],
      "metadata": {
        "id": "ueapVC6PgGXw"
      }
    },
    {
      "cell_type": "markdown",
      "source": [
        "##***Predictive Analytics by ML models (with ANN)***\n",
        "\n",
        "Execution steps for less RAM consumption:\n",
        "\n",
        "    1. Data Collection\n",
        "    2. NLP Initialize\n",
        "    3. NLP Pre-Processing"
      ],
      "metadata": {
        "id": "biebEC0Fhpdt"
      }
    },
    {
      "cell_type": "code",
      "source": [
        "tweet_df.head()"
      ],
      "metadata": {
        "colab": {
          "base_uri": "https://localhost:8080/",
          "height": 206
        },
        "id": "u2SeVQuEh82k",
        "outputId": "662f3bd0-9d08-446b-f037-4f441753a10c"
      },
      "execution_count": null,
      "outputs": [
        {
          "output_type": "execute_result",
          "data": {
            "text/plain": [
              "   id  label                                              tweet  \\\n",
              "0   1      0  father dysfunctional selfish drag kid dysfunct...   \n",
              "1   2      0  thank lyft credit use cause offer wheelchair v...   \n",
              "2   3      0                                     bihday majesty   \n",
              "3   4      0                                    model love time   \n",
              "4   5      0                      factsguide society motivation   \n",
              "\n",
              "                                           tweet_bag  \n",
              "0  [father, dysfunctional, selfish, drag, kid, dy...  \n",
              "1  [thank, lyft, credit, use, cause, offer, wheel...  \n",
              "2                                  [bihday, majesty]  \n",
              "3                                [model, love, time]  \n",
              "4                  [factsguide, society, motivation]  "
            ],
            "text/html": [
              "\n",
              "  <div id=\"df-5a1bd80c-326c-44c2-b525-c4e62aa4660a\">\n",
              "    <div class=\"colab-df-container\">\n",
              "      <div>\n",
              "<style scoped>\n",
              "    .dataframe tbody tr th:only-of-type {\n",
              "        vertical-align: middle;\n",
              "    }\n",
              "\n",
              "    .dataframe tbody tr th {\n",
              "        vertical-align: top;\n",
              "    }\n",
              "\n",
              "    .dataframe thead th {\n",
              "        text-align: right;\n",
              "    }\n",
              "</style>\n",
              "<table border=\"1\" class=\"dataframe\">\n",
              "  <thead>\n",
              "    <tr style=\"text-align: right;\">\n",
              "      <th></th>\n",
              "      <th>id</th>\n",
              "      <th>label</th>\n",
              "      <th>tweet</th>\n",
              "      <th>tweet_bag</th>\n",
              "    </tr>\n",
              "  </thead>\n",
              "  <tbody>\n",
              "    <tr>\n",
              "      <th>0</th>\n",
              "      <td>1</td>\n",
              "      <td>0</td>\n",
              "      <td>father dysfunctional selfish drag kid dysfunct...</td>\n",
              "      <td>[father, dysfunctional, selfish, drag, kid, dy...</td>\n",
              "    </tr>\n",
              "    <tr>\n",
              "      <th>1</th>\n",
              "      <td>2</td>\n",
              "      <td>0</td>\n",
              "      <td>thank lyft credit use cause offer wheelchair v...</td>\n",
              "      <td>[thank, lyft, credit, use, cause, offer, wheel...</td>\n",
              "    </tr>\n",
              "    <tr>\n",
              "      <th>2</th>\n",
              "      <td>3</td>\n",
              "      <td>0</td>\n",
              "      <td>bihday majesty</td>\n",
              "      <td>[bihday, majesty]</td>\n",
              "    </tr>\n",
              "    <tr>\n",
              "      <th>3</th>\n",
              "      <td>4</td>\n",
              "      <td>0</td>\n",
              "      <td>model love time</td>\n",
              "      <td>[model, love, time]</td>\n",
              "    </tr>\n",
              "    <tr>\n",
              "      <th>4</th>\n",
              "      <td>5</td>\n",
              "      <td>0</td>\n",
              "      <td>factsguide society motivation</td>\n",
              "      <td>[factsguide, society, motivation]</td>\n",
              "    </tr>\n",
              "  </tbody>\n",
              "</table>\n",
              "</div>\n",
              "      <button class=\"colab-df-convert\" onclick=\"convertToInteractive('df-5a1bd80c-326c-44c2-b525-c4e62aa4660a')\"\n",
              "              title=\"Convert this dataframe to an interactive table.\"\n",
              "              style=\"display:none;\">\n",
              "        \n",
              "  <svg xmlns=\"http://www.w3.org/2000/svg\" height=\"24px\"viewBox=\"0 0 24 24\"\n",
              "       width=\"24px\">\n",
              "    <path d=\"M0 0h24v24H0V0z\" fill=\"none\"/>\n",
              "    <path d=\"M18.56 5.44l.94 2.06.94-2.06 2.06-.94-2.06-.94-.94-2.06-.94 2.06-2.06.94zm-11 1L8.5 8.5l.94-2.06 2.06-.94-2.06-.94L8.5 2.5l-.94 2.06-2.06.94zm10 10l.94 2.06.94-2.06 2.06-.94-2.06-.94-.94-2.06-.94 2.06-2.06.94z\"/><path d=\"M17.41 7.96l-1.37-1.37c-.4-.4-.92-.59-1.43-.59-.52 0-1.04.2-1.43.59L10.3 9.45l-7.72 7.72c-.78.78-.78 2.05 0 2.83L4 21.41c.39.39.9.59 1.41.59.51 0 1.02-.2 1.41-.59l7.78-7.78 2.81-2.81c.8-.78.8-2.07 0-2.86zM5.41 20L4 18.59l7.72-7.72 1.47 1.35L5.41 20z\"/>\n",
              "  </svg>\n",
              "      </button>\n",
              "      \n",
              "  <style>\n",
              "    .colab-df-container {\n",
              "      display:flex;\n",
              "      flex-wrap:wrap;\n",
              "      gap: 12px;\n",
              "    }\n",
              "\n",
              "    .colab-df-convert {\n",
              "      background-color: #E8F0FE;\n",
              "      border: none;\n",
              "      border-radius: 50%;\n",
              "      cursor: pointer;\n",
              "      display: none;\n",
              "      fill: #1967D2;\n",
              "      height: 32px;\n",
              "      padding: 0 0 0 0;\n",
              "      width: 32px;\n",
              "    }\n",
              "\n",
              "    .colab-df-convert:hover {\n",
              "      background-color: #E2EBFA;\n",
              "      box-shadow: 0px 1px 2px rgba(60, 64, 67, 0.3), 0px 1px 3px 1px rgba(60, 64, 67, 0.15);\n",
              "      fill: #174EA6;\n",
              "    }\n",
              "\n",
              "    [theme=dark] .colab-df-convert {\n",
              "      background-color: #3B4455;\n",
              "      fill: #D2E3FC;\n",
              "    }\n",
              "\n",
              "    [theme=dark] .colab-df-convert:hover {\n",
              "      background-color: #434B5C;\n",
              "      box-shadow: 0px 1px 3px 1px rgba(0, 0, 0, 0.15);\n",
              "      filter: drop-shadow(0px 1px 2px rgba(0, 0, 0, 0.3));\n",
              "      fill: #FFFFFF;\n",
              "    }\n",
              "  </style>\n",
              "\n",
              "      <script>\n",
              "        const buttonEl =\n",
              "          document.querySelector('#df-5a1bd80c-326c-44c2-b525-c4e62aa4660a button.colab-df-convert');\n",
              "        buttonEl.style.display =\n",
              "          google.colab.kernel.accessAllowed ? 'block' : 'none';\n",
              "\n",
              "        async function convertToInteractive(key) {\n",
              "          const element = document.querySelector('#df-5a1bd80c-326c-44c2-b525-c4e62aa4660a');\n",
              "          const dataTable =\n",
              "            await google.colab.kernel.invokeFunction('convertToInteractive',\n",
              "                                                     [key], {});\n",
              "          if (!dataTable) return;\n",
              "\n",
              "          const docLinkHtml = 'Like what you see? Visit the ' +\n",
              "            '<a target=\"_blank\" href=https://colab.research.google.com/notebooks/data_table.ipynb>data table notebook</a>'\n",
              "            + ' to learn more about interactive tables.';\n",
              "          element.innerHTML = '';\n",
              "          dataTable['output_type'] = 'display_data';\n",
              "          await google.colab.output.renderOutput(dataTable, element);\n",
              "          const docLink = document.createElement('div');\n",
              "          docLink.innerHTML = docLinkHtml;\n",
              "          element.appendChild(docLink);\n",
              "        }\n",
              "      </script>\n",
              "    </div>\n",
              "  </div>\n",
              "  "
            ]
          },
          "metadata": {},
          "execution_count": 25
        }
      ]
    },
    {
      "cell_type": "markdown",
      "metadata": {
        "id": "utxJCKNz5H5R"
      },
      "source": [
        "###***INPUT Geneneration for Neural Network***"
      ]
    },
    {
      "cell_type": "markdown",
      "metadata": {
        "id": "sVJBvjAI3iot"
      },
      "source": [
        "##### ***TD-IDF and Word2Vec***\n",
        "\n",
        "*While both techniques create numerical vectors from text data:*\n",
        "\n",
        " *tf-idf represents the **importance of each word in a document** relative to the corpus.*\n",
        "\n",
        " *While word2vec represents the **semantic meaning of words based on their co-occurrence patterns.***\n",
        "\n",
        " https://www.guru99.com/word-embedding-word2vec.html\n",
        "\n",
        " *Two types: CBOW and skip-gram*\n",
        "\n",
        "\n"
      ]
    },
    {
      "cell_type": "code",
      "execution_count": null,
      "metadata": {
        "id": "GeKdyzhgyqLt",
        "colab": {
          "base_uri": "https://localhost:8080/"
        },
        "outputId": "219f5b3f-0010-4478-fa1a-7105480e8aba"
      },
      "outputs": [
        {
          "output_type": "stream",
          "name": "stderr",
          "text": [
            "WARNING:gensim.models.word2vec:Effective 'alpha' higher than previous training cycles\n"
          ]
        },
        {
          "output_type": "execute_result",
          "data": {
            "text/plain": [
              "(3967740, 4191660)"
            ]
          },
          "metadata": {},
          "execution_count": 26
        }
      ],
      "source": [
        "#Finding Vectors based on there meanings in the sentences (semantic meaning with co-occurence words)\n",
        "from gensim.models import Word2Vec\n",
        "\n",
        "#min_count=1, minimum freq should be 1\n",
        "#sg = 0, if 1 for skip-gram; otherwise CBOW.\n",
        "#hs : 0, If 1, hierarchical softmax will be used for model training. Otherwise, 0\n",
        "\n",
        "wv_model =  Word2Vec(sentences=tweet_df['tweet_bag'], min_count=1, sg=0, hs=0, workers=4, vector_size=100)   #passing the output from BOW to the model\n",
        "wv_model.train(tweet_df['tweet_bag'], total_examples= len(tweet_df['tweet_bag']), epochs=20)"
      ]
    },
    {
      "cell_type": "code",
      "execution_count": null,
      "metadata": {
        "id": "TDENSI_yvdfW",
        "colab": {
          "base_uri": "https://localhost:8080/"
        },
        "outputId": "a3d2b608-1ddf-443e-d7ea-0a344649cc63"
      },
      "outputs": [
        {
          "output_type": "execute_result",
          "data": {
            "text/plain": [
              "[('putin', 0.8544580340385437),\n",
              " ('donald', 0.8532149791717529),\n",
              " ('amrica', 0.8479578495025635),\n",
              " ('carl', 0.8431984186172485),\n",
              " ('biher', 0.8421726226806641),\n",
              " ('believeme', 0.8398287296295166),\n",
              " ('fascist', 0.8396102786064148),\n",
              " ('carlpaladino', 0.8311465978622437),\n",
              " ('blm', 0.8298615217208862),\n",
              " ('maga', 0.8280996680259705)]"
            ]
          },
          "metadata": {},
          "execution_count": 27
        }
      ],
      "source": [
        "wv_model.wv.most_similar(positive='trump')"
      ]
    },
    {
      "cell_type": "code",
      "execution_count": null,
      "metadata": {
        "id": "ngoY6AjDwF6j",
        "colab": {
          "base_uri": "https://localhost:8080/"
        },
        "outputId": "7f1b7b5b-1718-4fc8-ddac-11bdc24c8572"
      },
      "outputs": [
        {
          "output_type": "execute_result",
          "data": {
            "text/plain": [
              "[('chasingdestiny', 0.5240297913551331),\n",
              " ('travelâ', 0.5128601789474487),\n",
              " ('avenham', 0.49583128094673157),\n",
              " ('bribieisland', 0.473909467458725),\n",
              " ('dmj', 0.47339051961898804),\n",
              " ('inger', 0.47284436225891113),\n",
              " ('awesomeday', 0.4703065752983093),\n",
              " ('heachakra', 0.4654264748096466),\n",
              " ('hardcoreladie', 0.4646025598049164),\n",
              " ('girlsdayout', 0.46241286396980286)]"
            ]
          },
          "metadata": {},
          "execution_count": 28
        }
      ],
      "source": [
        "wv_model.wv.most_similar(negative='india')"
      ]
    },
    {
      "cell_type": "code",
      "execution_count": null,
      "metadata": {
        "id": "eAr0FPxqLQnm"
      },
      "outputs": [],
      "source": [
        "#wv_model.wv['india'] #vector representation for word 'india'"
      ]
    },
    {
      "cell_type": "code",
      "execution_count": null,
      "metadata": {
        "id": "LTb5877z_3ZB",
        "colab": {
          "base_uri": "https://localhost:8080/"
        },
        "outputId": "0fc2732b-6aeb-4623-fe91-3195969826c0"
      },
      "outputs": [
        {
          "output_type": "execute_result",
          "data": {
            "text/plain": [
              "100"
            ]
          },
          "metadata": {},
          "execution_count": 30
        }
      ],
      "source": [
        "wv_model.vector_size #same as ---> wv_model.wv['india'].shape"
      ]
    },
    {
      "cell_type": "code",
      "execution_count": null,
      "metadata": {
        "id": "9V4Dalc0_9l2",
        "colab": {
          "base_uri": "https://localhost:8080/"
        },
        "outputId": "9b81e783-531a-495b-c7ef-96939d077822"
      },
      "outputs": [
        {
          "output_type": "execute_result",
          "data": {
            "text/plain": [
              "(array([0., 0., 0., 0., 0.]),\n",
              " array([[0., 0., 0., 0., 0., 0., 0., 0., 0., 0.],\n",
              "        [0., 0., 0., 0., 0., 0., 0., 0., 0., 0.],\n",
              "        [0., 0., 0., 0., 0., 0., 0., 0., 0., 0.],\n",
              "        [0., 0., 0., 0., 0., 0., 0., 0., 0., 0.],\n",
              "        [0., 0., 0., 0., 0., 0., 0., 0., 0., 0.]]))"
            ]
          },
          "metadata": {},
          "execution_count": 31
        }
      ],
      "source": [
        "import numpy as np\n",
        "\n",
        "np.zeros(5), np.zeros((5,10))"
      ]
    },
    {
      "cell_type": "markdown",
      "source": [
        "### ***Embedding Matrix***\n",
        "\n",
        "*Creating a embedding matrix from the Word2Vec model*"
      ],
      "metadata": {
        "id": "8wTuxoJ4wjkU"
      }
    },
    {
      "cell_type": "code",
      "execution_count": null,
      "metadata": {
        "id": "UCvw7llzB80Z",
        "colab": {
          "base_uri": "https://localhost:8080/"
        },
        "outputId": "b664bfda-ec7c-4888-da41-d08fd250bdc3"
      },
      "outputs": [
        {
          "output_type": "execute_result",
          "data": {
            "text/plain": [
              "array([[-0.02557231,  0.0138519 , -0.02505903, ..., -0.07062774,\n",
              "         0.04868053,  0.0035886 ],\n",
              "       [ 0.        ,  0.        ,  0.        , ...,  0.        ,\n",
              "         0.        ,  0.        ],\n",
              "       [-0.0428291 ,  0.0625942 ,  0.00352582, ...,  0.01517314,\n",
              "        -0.02544711, -0.03530646],\n",
              "       ...,\n",
              "       [ 0.        ,  0.        ,  0.        , ...,  0.        ,\n",
              "         0.        ,  0.        ],\n",
              "       [ 0.        ,  0.        ,  0.        , ...,  0.        ,\n",
              "         0.        ,  0.        ],\n",
              "       [ 0.        ,  0.        ,  0.        , ...,  0.        ,\n",
              "         0.        ,  0.        ]])"
            ]
          },
          "metadata": {},
          "execution_count": 32
        }
      ],
      "source": [
        "# Define the maximum length of a tweet\n",
        "max_length = 50\n",
        "\n",
        "# Create a function to convert text data to numerical vectors using the Word2Vec model\n",
        "def vectorize_text(text):\n",
        "    # Create an empty array to store the vectorized text data\n",
        "    #print(text)\n",
        "    vectors = np.zeros((max_length, wv_model.vector_size))\n",
        "    # Loop through each word in the text data\n",
        "    for i, word in enumerate(text):\n",
        "        # If the word is in the Word2Vec model vocabulary, get its vector representation\n",
        "        if word in wv_model.wv.key_to_index:\n",
        "            vectors[i] = wv_model.wv[word]\n",
        "        # If the word is not in the Word2Vec model vocabulary, use a zero vector\n",
        "        else:\n",
        "            vectors[i] = np.zeros(wv_model.vector_size)\n",
        "    #print(vectors)\n",
        "    return vectors\n",
        "\n",
        "vectorize_text(tweet_df.iloc[3]['tweet'])"
      ]
    },
    {
      "cell_type": "code",
      "execution_count": null,
      "metadata": {
        "id": "qXbsB5H_ODTv",
        "colab": {
          "base_uri": "https://localhost:8080/"
        },
        "outputId": "7264215e-e329-4a50-bffe-a45f62075326"
      },
      "outputs": [
        {
          "output_type": "execute_result",
          "data": {
            "text/plain": [
              "   id  label                                              tweet  \\\n",
              "0   1      0  father dysfunctional selfish drag kid dysfunct...   \n",
              "1   2      0  thank lyft credit use cause offer wheelchair v...   \n",
              "2   3      0                                     bihday majesty   \n",
              "3   4      0                                    model love time   \n",
              "4   5      0                      factsguide society motivation   \n",
              "\n",
              "                                           tweet_bag  \\\n",
              "0  [father, dysfunctional, selfish, drag, kid, dy...   \n",
              "1  [thank, lyft, credit, use, cause, offer, wheel...   \n",
              "2                                  [bihday, majesty]   \n",
              "3                                [model, love, time]   \n",
              "4                  [factsguide, society, motivation]   \n",
              "\n",
              "                                        tweet_vector  \n",
              "0  [[-1.5299296379089355, -1.671941876411438, 1.9...  \n",
              "1  [[-2.0964951515197754, -1.476860523223877, 0.8...  \n",
              "2  [[0.1937389373779297, -3.320018768310547, 1.63...  \n",
              "3  [[-0.859719455242157, 1.642729640007019, -0.51...  \n",
              "4  [[0.1413964480161667, 0.5687794089317322, 0.07...  "
            ],
            "text/html": [
              "\n",
              "  <div id=\"df-0d91ebbf-e610-452c-838f-567cfd48fe72\">\n",
              "    <div class=\"colab-df-container\">\n",
              "      <div>\n",
              "<style scoped>\n",
              "    .dataframe tbody tr th:only-of-type {\n",
              "        vertical-align: middle;\n",
              "    }\n",
              "\n",
              "    .dataframe tbody tr th {\n",
              "        vertical-align: top;\n",
              "    }\n",
              "\n",
              "    .dataframe thead th {\n",
              "        text-align: right;\n",
              "    }\n",
              "</style>\n",
              "<table border=\"1\" class=\"dataframe\">\n",
              "  <thead>\n",
              "    <tr style=\"text-align: right;\">\n",
              "      <th></th>\n",
              "      <th>id</th>\n",
              "      <th>label</th>\n",
              "      <th>tweet</th>\n",
              "      <th>tweet_bag</th>\n",
              "      <th>tweet_vector</th>\n",
              "    </tr>\n",
              "  </thead>\n",
              "  <tbody>\n",
              "    <tr>\n",
              "      <th>0</th>\n",
              "      <td>1</td>\n",
              "      <td>0</td>\n",
              "      <td>father dysfunctional selfish drag kid dysfunct...</td>\n",
              "      <td>[father, dysfunctional, selfish, drag, kid, dy...</td>\n",
              "      <td>[[-1.5299296379089355, -1.671941876411438, 1.9...</td>\n",
              "    </tr>\n",
              "    <tr>\n",
              "      <th>1</th>\n",
              "      <td>2</td>\n",
              "      <td>0</td>\n",
              "      <td>thank lyft credit use cause offer wheelchair v...</td>\n",
              "      <td>[thank, lyft, credit, use, cause, offer, wheel...</td>\n",
              "      <td>[[-2.0964951515197754, -1.476860523223877, 0.8...</td>\n",
              "    </tr>\n",
              "    <tr>\n",
              "      <th>2</th>\n",
              "      <td>3</td>\n",
              "      <td>0</td>\n",
              "      <td>bihday majesty</td>\n",
              "      <td>[bihday, majesty]</td>\n",
              "      <td>[[0.1937389373779297, -3.320018768310547, 1.63...</td>\n",
              "    </tr>\n",
              "    <tr>\n",
              "      <th>3</th>\n",
              "      <td>4</td>\n",
              "      <td>0</td>\n",
              "      <td>model love time</td>\n",
              "      <td>[model, love, time]</td>\n",
              "      <td>[[-0.859719455242157, 1.642729640007019, -0.51...</td>\n",
              "    </tr>\n",
              "    <tr>\n",
              "      <th>4</th>\n",
              "      <td>5</td>\n",
              "      <td>0</td>\n",
              "      <td>factsguide society motivation</td>\n",
              "      <td>[factsguide, society, motivation]</td>\n",
              "      <td>[[0.1413964480161667, 0.5687794089317322, 0.07...</td>\n",
              "    </tr>\n",
              "  </tbody>\n",
              "</table>\n",
              "</div>\n",
              "      <button class=\"colab-df-convert\" onclick=\"convertToInteractive('df-0d91ebbf-e610-452c-838f-567cfd48fe72')\"\n",
              "              title=\"Convert this dataframe to an interactive table.\"\n",
              "              style=\"display:none;\">\n",
              "        \n",
              "  <svg xmlns=\"http://www.w3.org/2000/svg\" height=\"24px\"viewBox=\"0 0 24 24\"\n",
              "       width=\"24px\">\n",
              "    <path d=\"M0 0h24v24H0V0z\" fill=\"none\"/>\n",
              "    <path d=\"M18.56 5.44l.94 2.06.94-2.06 2.06-.94-2.06-.94-.94-2.06-.94 2.06-2.06.94zm-11 1L8.5 8.5l.94-2.06 2.06-.94-2.06-.94L8.5 2.5l-.94 2.06-2.06.94zm10 10l.94 2.06.94-2.06 2.06-.94-2.06-.94-.94-2.06-.94 2.06-2.06.94z\"/><path d=\"M17.41 7.96l-1.37-1.37c-.4-.4-.92-.59-1.43-.59-.52 0-1.04.2-1.43.59L10.3 9.45l-7.72 7.72c-.78.78-.78 2.05 0 2.83L4 21.41c.39.39.9.59 1.41.59.51 0 1.02-.2 1.41-.59l7.78-7.78 2.81-2.81c.8-.78.8-2.07 0-2.86zM5.41 20L4 18.59l7.72-7.72 1.47 1.35L5.41 20z\"/>\n",
              "  </svg>\n",
              "      </button>\n",
              "      \n",
              "  <style>\n",
              "    .colab-df-container {\n",
              "      display:flex;\n",
              "      flex-wrap:wrap;\n",
              "      gap: 12px;\n",
              "    }\n",
              "\n",
              "    .colab-df-convert {\n",
              "      background-color: #E8F0FE;\n",
              "      border: none;\n",
              "      border-radius: 50%;\n",
              "      cursor: pointer;\n",
              "      display: none;\n",
              "      fill: #1967D2;\n",
              "      height: 32px;\n",
              "      padding: 0 0 0 0;\n",
              "      width: 32px;\n",
              "    }\n",
              "\n",
              "    .colab-df-convert:hover {\n",
              "      background-color: #E2EBFA;\n",
              "      box-shadow: 0px 1px 2px rgba(60, 64, 67, 0.3), 0px 1px 3px 1px rgba(60, 64, 67, 0.15);\n",
              "      fill: #174EA6;\n",
              "    }\n",
              "\n",
              "    [theme=dark] .colab-df-convert {\n",
              "      background-color: #3B4455;\n",
              "      fill: #D2E3FC;\n",
              "    }\n",
              "\n",
              "    [theme=dark] .colab-df-convert:hover {\n",
              "      background-color: #434B5C;\n",
              "      box-shadow: 0px 1px 3px 1px rgba(0, 0, 0, 0.15);\n",
              "      filter: drop-shadow(0px 1px 2px rgba(0, 0, 0, 0.3));\n",
              "      fill: #FFFFFF;\n",
              "    }\n",
              "  </style>\n",
              "\n",
              "      <script>\n",
              "        const buttonEl =\n",
              "          document.querySelector('#df-0d91ebbf-e610-452c-838f-567cfd48fe72 button.colab-df-convert');\n",
              "        buttonEl.style.display =\n",
              "          google.colab.kernel.accessAllowed ? 'block' : 'none';\n",
              "\n",
              "        async function convertToInteractive(key) {\n",
              "          const element = document.querySelector('#df-0d91ebbf-e610-452c-838f-567cfd48fe72');\n",
              "          const dataTable =\n",
              "            await google.colab.kernel.invokeFunction('convertToInteractive',\n",
              "                                                     [key], {});\n",
              "          if (!dataTable) return;\n",
              "\n",
              "          const docLinkHtml = 'Like what you see? Visit the ' +\n",
              "            '<a target=\"_blank\" href=https://colab.research.google.com/notebooks/data_table.ipynb>data table notebook</a>'\n",
              "            + ' to learn more about interactive tables.';\n",
              "          element.innerHTML = '';\n",
              "          dataTable['output_type'] = 'display_data';\n",
              "          await google.colab.output.renderOutput(dataTable, element);\n",
              "          const docLink = document.createElement('div');\n",
              "          docLink.innerHTML = docLinkHtml;\n",
              "          element.appendChild(docLink);\n",
              "        }\n",
              "      </script>\n",
              "    </div>\n",
              "  </div>\n",
              "  "
            ]
          },
          "metadata": {},
          "execution_count": 33
        }
      ],
      "source": [
        "#applying word2Vec to all rows and padding \"sequences of zeros\" to maintain same shape of each vector\n",
        "import tensorflow as tf\n",
        "tweet_df['tweet_vector'] = tweet_df['tweet_bag'].apply(vectorize_text)\n",
        "\n",
        "tweet_df.head()"
      ]
    },
    {
      "cell_type": "code",
      "execution_count": null,
      "metadata": {
        "id": "8TSfBTuAhB5D"
      },
      "outputs": [],
      "source": [
        "#Train and test split\n",
        "from sklearn.model_selection import train_test_split\n",
        "\n",
        "x= tweet_df.tweet_vector\n",
        "y= tweet_df.label\n",
        "\n",
        "x_train, x_test, y_train, y_test = train_test_split(x, y , test_size=.20, shuffle=True, random_state=41)"
      ]
    },
    {
      "cell_type": "code",
      "source": [
        "# Convert the training and testing data to 3D numpy arrays\n",
        "x_train = np.array([vec for vec in x_train])\n",
        "x_test = np.array([vec for vec in x_test])"
      ],
      "metadata": {
        "id": "v-sSpXCiFte-"
      },
      "execution_count": null,
      "outputs": []
    },
    {
      "cell_type": "markdown",
      "source": [
        "https://www.guru99.com/convnet-tensorflow-image-classification.html\n",
        "\n",
        "https://chat.openai.com/c/2794ed6d-a46b-4aa2-8d66-136e4e8af8f3 set 2/4 and then study"
      ],
      "metadata": {
        "id": "I_cqD-X-4Cxu"
      }
    },
    {
      "cell_type": "markdown",
      "source": [
        "###***CNN Architecture and Prediction***"
      ],
      "metadata": {
        "id": "LBpugWenxmwS"
      }
    },
    {
      "cell_type": "code",
      "source": [
        "from keras.models import Sequential\n",
        "from keras.layers import  Embedding, Conv1D, GlobalMaxPooling1D, Dropout,Flatten, Dense,MaxPooling1D,LSTM"
      ],
      "metadata": {
        "id": "uFIQ2MHjm_z7"
      },
      "execution_count": null,
      "outputs": []
    },
    {
      "cell_type": "markdown",
      "source": [
        "####***CNN Architecture***\n",
        "\n",
        "***Conv1D layer:***\n",
        "\n",
        "    This layer will apply filters to our word vectors to detect features. We'll use 128 filters with a kernel size of 5.\n",
        "\n",
        "***MaxPooling1D layer:***\n",
        "\n",
        "    This layer will reduce the dimensionality of our feature maps. We'll use a pool size of 2.\n",
        "    output_shape = (input_shape - pool_size + 1) / strides)\n",
        "***Flatten layer:***\n",
        "\n",
        "    This layer will convert our 2D feature maps into a 1D vector.\n",
        "\n",
        "***Dense layer:***\n",
        "\n",
        "    1. The Dense layer with \"n\" units and ReLU activation is added in the code to perform non-linear transformations on the input data.\n",
        "    2. The output of the previous layer, which is the flattened layer, contains a large number of features.\n",
        "    3. The dense layer is added to reduce the number of features to a smaller and more manageable size, which improves the training performance of the model.\n",
        "    4. The ReLU activation function is used to introduce non-linearity into the model,\n",
        "         which allows the model to learn complex relationships between the input data and the output labels.\n",
        "\n",
        "***Output Dense layer:***\n",
        "\n",
        "    This layer will be our output layer, with a single neuron and a sigmoid activation function."
      ],
      "metadata": {
        "id": "QBbTkj3S3RTR"
      }
    },
    {
      "cell_type": "code",
      "source": [
        "# Add convolutional layer with 128 and 64 filters, kernel size of 5 and 3, and ReLU activation\n",
        "model = Sequential()\n",
        "\n",
        "#for creating embedding matrix\n",
        "#model.add(Embedding(input_dim=len(wv_model.wv.key_to_index), output_dim=wv_model.vector_size, input_length=max_length, weights=[wv_model.wv.vectors]))\n",
        "model.add(Conv1D(filters=128, kernel_size=5, activation='relu', input_shape=(max_length, wv_model.vector_size)))\n",
        "\n",
        "# Add max pooling layer\n",
        "##pool size --> size of max pooling window\n",
        "model.add(MaxPooling1D(pool_size=4))\n",
        "\n",
        "model.add(Conv1D(filters=70, kernel_size=3, activation='relu', input_shape=(max_length, wv_model.vector_size)))\n",
        "model.add(MaxPooling1D(pool_size=4))\n",
        "\n",
        "# Flatten the output\n",
        "model.add(Flatten())\n",
        "\n",
        "# Add dense layer with 64 units/neurons and ReLU activation\n",
        "model.add(Dense(units=128, activation='relu'))\n",
        "\n",
        "#model.add(Dropout(rate=0.2))\n",
        "\n",
        "# Add output layer with sigmoid activation\n",
        "model.add(Dense(1, activation='sigmoid'))"
      ],
      "metadata": {
        "id": "4ASwCO_93Mb7"
      },
      "execution_count": null,
      "outputs": []
    },
    {
      "cell_type": "markdown",
      "source": [],
      "metadata": {
        "id": "w683uv575Fny"
      }
    },
    {
      "cell_type": "code",
      "source": [
        "model.compile(optimizer='adam', loss='binary_crossentropy', metrics=['accuracy'])"
      ],
      "metadata": {
        "id": "W5y1dx_zDQU_"
      },
      "execution_count": null,
      "outputs": []
    },
    {
      "cell_type": "code",
      "source": [
        "batch_size= len(x_train)//5 ## reducing the m/m consumption\n",
        "x_train.shape, x_test.shape, len(x_train), batch_size"
      ],
      "metadata": {
        "colab": {
          "base_uri": "https://localhost:8080/"
        },
        "id": "E9oJ01HdSS0e",
        "outputId": "5eab3091-b1be-423e-dbd4-201a5abadf5c"
      },
      "execution_count": null,
      "outputs": [
        {
          "output_type": "execute_result",
          "data": {
            "text/plain": [
              "((25569, 50, 100), (6393, 50, 100), 25569, 5113)"
            ]
          },
          "metadata": {},
          "execution_count": 39
        }
      ]
    },
    {
      "cell_type": "code",
      "source": [
        "#batch_size: Integer or `None`. Trains the model for a fixed number of epochs (dataset iterations)\n",
        "#In each iteration (epochs) pass the data in batches and\n",
        "\n",
        "model.fit(x_train, y_train, epochs=10, batch_size=batch_size, validation_data=[x_train,y_train])"
      ],
      "metadata": {
        "colab": {
          "base_uri": "https://localhost:8080/"
        },
        "id": "QS7s8499DRF_",
        "outputId": "c767753f-9dc0-4b86-d578-7445b8020c55"
      },
      "execution_count": null,
      "outputs": [
        {
          "output_type": "stream",
          "name": "stdout",
          "text": [
            "Epoch 1/10\n",
            "6/6 [==============================] - 12s 2s/step - loss: 0.4115 - accuracy: 0.8971 - val_loss: 0.2978 - val_accuracy: 0.9315\n",
            "Epoch 2/10\n",
            "6/6 [==============================] - 9s 2s/step - loss: 0.2882 - accuracy: 0.9315 - val_loss: 0.2371 - val_accuracy: 0.9315\n",
            "Epoch 3/10\n",
            "6/6 [==============================] - 9s 2s/step - loss: 0.2234 - accuracy: 0.9315 - val_loss: 0.2149 - val_accuracy: 0.9315\n",
            "Epoch 4/10\n",
            "6/6 [==============================] - 11s 2s/step - loss: 0.2092 - accuracy: 0.9315 - val_loss: 0.1949 - val_accuracy: 0.9315\n",
            "Epoch 5/10\n",
            "6/6 [==============================] - 9s 1s/step - loss: 0.1916 - accuracy: 0.9315 - val_loss: 0.1924 - val_accuracy: 0.9315\n",
            "Epoch 6/10\n",
            "6/6 [==============================] - 9s 1s/step - loss: 0.1936 - accuracy: 0.9315 - val_loss: 0.1886 - val_accuracy: 0.9315\n",
            "Epoch 7/10\n",
            "6/6 [==============================] - 9s 2s/step - loss: 0.1847 - accuracy: 0.9315 - val_loss: 0.1781 - val_accuracy: 0.9317\n",
            "Epoch 8/10\n",
            "6/6 [==============================] - 11s 2s/step - loss: 0.1782 - accuracy: 0.9336 - val_loss: 0.1771 - val_accuracy: 0.9348\n",
            "Epoch 9/10\n",
            "6/6 [==============================] - 11s 2s/step - loss: 0.1739 - accuracy: 0.9365 - val_loss: 0.1725 - val_accuracy: 0.9371\n",
            "Epoch 10/10\n",
            "6/6 [==============================] - 11s 2s/step - loss: 0.1723 - accuracy: 0.9375 - val_loss: 0.1694 - val_accuracy: 0.9388\n"
          ]
        },
        {
          "output_type": "execute_result",
          "data": {
            "text/plain": [
              "<keras.callbacks.History at 0x7f07fe66cfd0>"
            ]
          },
          "metadata": {},
          "execution_count": 40
        }
      ]
    },
    {
      "cell_type": "code",
      "source": [
        "# Make predictions on test data\n",
        "y_pred = model.predict(x_test)\n",
        "\n",
        "# Convert predictions to binary labels\n",
        "y_pred = np.where(y_pred > 0.5, 1, 0)\n",
        "\n",
        "# Evaluate the model on test data\n",
        "from sklearn.metrics import accuracy_score, precision_score, recall_score, f1_score, mean_squared_error\n",
        "\n",
        "print(\"Accuracy:\", accuracy_score(y_test, y_pred))\n",
        "print(\"Precision:\", precision_score(y_test, y_pred))\n",
        "print(\"Recall:\", recall_score(y_test, y_pred))\n",
        "print(\"F1 score:\", f1_score(y_test, y_pred))\n",
        "print(\"MSE:\", mean_squared_error(y_test, y_pred))"
      ],
      "metadata": {
        "colab": {
          "base_uri": "https://localhost:8080/"
        },
        "id": "6WAgq5Gb5FOr",
        "outputId": "eaef1286-4ff9-475a-d212-ca06f0b86b3d"
      },
      "execution_count": null,
      "outputs": [
        {
          "output_type": "stream",
          "name": "stdout",
          "text": [
            "200/200 [==============================] - 1s 6ms/step\n",
            "Accuracy: 0.9310183012670108\n",
            "Precision: 0.6560509554140127\n",
            "Recall: 0.21020408163265306\n",
            "F1 score: 0.3183925811437403\n",
            "MSE: 0.0689816987329892\n"
          ]
        }
      ]
    }
  ],
  "metadata": {
    "colab": {
      "provenance": [],
      "collapsed_sections": [
        "dTVK6PyR-iUp",
        "UO1mrqrBPS9j",
        "Ht8ZLF7oPlSd",
        "MgtW7zIM1KFR",
        "3li_6EMBWF15",
        "XML7W6C2Rv1i",
        "vHz8TFPOetdw",
        "T_hw-20hZKCn",
        "jxRiwMu9wRgA",
        "FGUTe2NHq9VN",
        "TGWhiq4ZvMvt",
        "thWpEB7v8ZT9",
        "Fb-a9kLUEsOF",
        "1wgROWgngWHE",
        "V2SU8DNVTBot",
        "ZDHOHemoOStt",
        "KI05ZHErvoqY",
        "hjROKoF0_4Xr",
        "iO2ShY0TQCBk",
        "-vzoIpygEKjh",
        "dc7ag0tYEWTi",
        "2XegZ9CAMYg9",
        "utxJCKNz5H5R",
        "8wTuxoJ4wjkU"
      ],
      "authorship_tag": "ABX9TyNqemBT0r2jJiwhzLG4kcwW",
      "include_colab_link": true
    },
    "kernelspec": {
      "display_name": "Python 3",
      "name": "python3"
    },
    "language_info": {
      "name": "python"
    }
  },
  "nbformat": 4,
  "nbformat_minor": 0
}